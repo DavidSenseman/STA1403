{
  "cells": [
    {
      "cell_type": "markdown",
      "metadata": {
        "id": "bLEEW13uCtiJ"
      },
      "source": [
        "<a href=\"https://colab.research.google.com/github/DavidSenseman/STA1403/blob/master/Assignment_08.ipynb\" target=\"_parent\"><img src=\"https://colab.research.google.com/assets/colab-badge.svg\" alt=\"Open In Colab\"/></a>"
      ]
    },
    {
      "cell_type": "markdown",
      "metadata": {
        "id": "D-zuvjwIAKnf"
      },
      "source": [
        "---------------------------\n",
        "**COPYRIGHT NOTICE:** This Jupyterlab Notebook is a Derivative work of [Jeff Heaton](https://github.com/jeffheaton) licensed under the Apache License, Version 2.0 (the \"License\"); You may not use this file except in compliance with the License. You may obtain a copy of the License at\n",
        "\n",
        "> [http://www.apache.org/licenses/LICENSE-2.0](http://www.apache.org/licenses/LICENSE-2.0)\n",
        "\n",
        "Unless required by applicable law or agreed to in writing, software distributed under the License is distributed on an \"AS IS\" BASIS, WITHOUT WARRANTIES OR CONDITIONS OF ANY KIND, either express or implied. See the License for the specific language governing permissions and limitations under the License.\n",
        "\n",
        "------------------------"
      ]
    },
    {
      "cell_type": "markdown",
      "metadata": {
        "id": "ONt-9w2BAKnf"
      },
      "source": [
        "# **STA1403: \"Biostats\"**"
      ]
    },
    {
      "cell_type": "markdown",
      "metadata": {
        "id": "QjuPWCgYAKnf"
      },
      "source": [
        "### **Assignment 8: Analysis of Categorical Variables**"
      ]
    },
    {
      "cell_type": "markdown",
      "metadata": {
        "tags": [],
        "id": "MA4H_8pXAKnf"
      },
      "source": [
        "#### In this assignment you will learn about:\n",
        "\n",
        "* Plots of Pearson’s χ2 (chi-squared) distributions\n",
        "* Pearson’s χ2 test for one variable\n",
        "* Contingency tables\n",
        "* Fisher's Exact Test"
      ]
    },
    {
      "cell_type": "markdown",
      "metadata": {
        "id": "yKQylnEiLDUM"
      },
      "source": [
        "### Google CoLab Instructions\n",
        "\n",
        "The following code will map your GDrive to ```/content/drive``` and print out your Google GMAIL address."
      ]
    },
    {
      "cell_type": "code",
      "execution_count": null,
      "metadata": {
        "id": "seXFCYH4LDUM",
        "scrolled": true
      },
      "outputs": [],
      "source": [
        "# You must run this cell first\n",
        "try:\n",
        "    from google.colab import drive\n",
        "    drive.mount('/content/drive', force_remount=True)\n",
        "    from google.colab import auth\n",
        "    auth.authenticate_user()\n",
        "    COLAB = True\n",
        "    print(\"Note: using Google CoLab\")\n",
        "    %tensorflow_version 2.x\n",
        "    import requests\n",
        "    gcloud_token = !gcloud auth print-access-token\n",
        "    gcloud_tokeninfo = requests.get('https://www.googleapis.com/oauth2/v3/tokeninfo?access_token=' + gcloud_token[0]).json()\n",
        "    print(gcloud_tokeninfo['email'])\n",
        "except:\n",
        "    print(\"Note: not using Google CoLab\")\n",
        "    COLAB = False"
      ]
    },
    {
      "cell_type": "markdown",
      "metadata": {
        "id": "57FHC7F-AKng"
      },
      "source": [
        "## Analysis of Categorical Variables"
      ]
    },
    {
      "cell_type": "markdown",
      "metadata": {
        "id": "TZAOEnXUAKng"
      },
      "source": [
        "In this assignment, we discuss Pearson’s χ2 (chi-squared) test for testing hypotheses regarding the distribution of a categorical variable or the relationship between two categorical variables.\n",
        "\n",
        "Pearson’s test evaluates whether the probabilities for different categories are equal to the values specified by the null hypothesis. Although it is not necessary, we can think of the probability of each category as its population proportion. This makes the discussion easier to follow.\n",
        "\n",
        "For example, when we talk about the probability of heart attack survival being 0.7, we can interpret this as 70% of heart attack patients (i.e., 70% of the entire population of people suffered from heart attack) survive. As before, we use the sample proportion of each category as a point estimate for its probability (i.e., its population proportion).\n",
        "\n",
        "Pearson’s  χ2 test uses a test statistic, which we denote as _Q_, to measure the discrepancy between the observed data and what we expect to observe nder the nullhypothesis (i.e., assuming the null hypothesis is true). Higher levels of discrepancy between data and H<sub>0</sub> results in higher values of _Q_. We use q to denote the observed value of Q based on a specific sample of observed data. As usual, we need to find the null distribution of Q (i.e., its sampling distribution assuming that H<sub>0</sub> is true) and measure the observed significance level pobs by calculating the probability of values as or more extreme than the observed value _q_."
      ]
    },
    {
      "cell_type": "markdown",
      "metadata": {
        "tags": [],
        "id": "Up6y_DE1AKng"
      },
      "source": [
        "### Example 1: Plot the PDF for a χ2 distribution with df = 1, 2 and 3\n",
        "\n",
        "One of the most notable aspects of the χ2 distribution is its marked dependence upon the the degrees of freedom (df). The df for a χ2 distribution depends upon the number of categorical variables involved in the analysis. One way to calculate the df is to create a contingency table and count the number of rows, and the number of columns. The df is the number of rows minus one times the number of columns minus one.   \n",
        "\n",
        "In Example 1, we generate three different probability density functions (pdf) for a χ2 distributions with 1, 2 and 3 degrees of freedom. To do this we will use the Scipy stats function `chi2()`. The `chi2()` function computes the probability density of the a χ2 distribution with a given df. A `for` loop is used to print each curve separately. The `for loop` executes three times, one for each curve being plotted."
      ]
    },
    {
      "cell_type": "code",
      "execution_count": null,
      "metadata": {
        "id": "GKc8cmoMAKnh"
      },
      "outputs": [],
      "source": [
        "# Example 1: X2 Distributions\n",
        "\n",
        "import numpy as np\n",
        "import matplotlib.pyplot as plt\n",
        "from scipy.stats import chi2\n",
        "\n",
        "# Specify values for variables\n",
        "k = [1, 2, 3]  # Degrees of freedom\n",
        "lineType = ['solid', 'dashed', 'dotted']  # Different line types\n",
        "startX, endX = 0, 7  # Start and end of the x-axis\n",
        "minY, maxY = -0.1, 1.5  # Min and max for the y-axis\n",
        "\n",
        "# Create a figure and axis\n",
        "fig, ax = plt.subplots()\n",
        "\n",
        "# Plot the 3 curves\n",
        "for i in range(3):\n",
        "    x_vals = np.linspace(startX, endX, 1000)\n",
        "    y_vals = chi2.pdf(x_vals, df=k[i])\n",
        "    ax.plot(x_vals, y_vals, label=f\"Chi-Sq({k[i]})\",\n",
        "            linewidth=2, linestyle=f\"{lineType[i]}\")\n",
        "\n",
        "# Set y limits\n",
        "ax.set_ylim(minY,maxY)\n",
        "\n",
        "# Add horizontal line\n",
        "ax.axhline(y=0, linewidth=0.5, color=\"gray\")\n",
        "\n",
        "# Set labels and title\n",
        "ax.set_xlabel(\"Q\")\n",
        "ax.set_ylabel(\"Density\")\n",
        "ax.set_title(\"Chi-Square Distribution\")\n",
        "\n",
        "# Add legend\n",
        "ax.legend(loc=\"upper right\", frameon=False)\n",
        "\n",
        "# Show the plot\n",
        "plt.show()"
      ]
    },
    {
      "cell_type": "markdown",
      "metadata": {
        "tags": [],
        "id": "ZZ_DvmLHAKnh"
      },
      "source": [
        "If the code is correct, you should see the following image.\n",
        "\n",
        "![__](https://biologicslab.co/STA1403/images/A08/A08_Image01.png)"
      ]
    },
    {
      "cell_type": "markdown",
      "metadata": {
        "id": "k26neeogAKnh"
      },
      "source": [
        "By inspect of the graph above, we can see how important the degrees of freedom are in determining the shape of the Chi-square distribution. This graph is similar to **Fig. 10.1** on page 237 in your textbook."
      ]
    },
    {
      "cell_type": "markdown",
      "metadata": {
        "tags": [],
        "id": "MwmZtdZGAKnh"
      },
      "source": [
        "### **Exercise 1: Plot the PDF for a χ2 distribution with df = 4, 5 and 6**\n",
        "\n",
        "In the code cell below, write the Python code to plot the probability density function (pdf) for χ2 distributions with 4, 5 and 6 degrees of freedom.\n",
        "\n",
        "To make your plot look pleasing (and earn full credit), you will need to change the value of `endX` to equal 20 and the value of `maxY` to equal 0.2."
      ]
    },
    {
      "cell_type": "code",
      "execution_count": null,
      "metadata": {
        "id": "4ca0FahIAKnh"
      },
      "outputs": [],
      "source": []
    },
    {
      "cell_type": "markdown",
      "metadata": {
        "tags": [],
        "id": "fisE8zTXAKnh"
      },
      "source": [
        "If the code is correct, you should see the following image.\n",
        "\n",
        "![__](https://biologicslab.co/STA1403/images/A08/A08_Image02.png)"
      ]
    },
    {
      "cell_type": "markdown",
      "metadata": {
        "id": "4cB74YMkAKnh"
      },
      "source": [
        "As df increases, the χ2 distribution looks more and more like a \"bell-shape\" curve (normal distribution)."
      ]
    },
    {
      "cell_type": "markdown",
      "metadata": {
        "id": "be5UnMBxAKnh"
      },
      "source": [
        "## **Pearson’s χ2 Test for One Categorical Variable**"
      ]
    },
    {
      "cell_type": "markdown",
      "metadata": {
        "id": "WRvOrJhdAKni"
      },
      "source": [
        "### _Binary Variables_"
      ]
    },
    {
      "cell_type": "markdown",
      "metadata": {
        "id": "f44HcJT1AKni"
      },
      "source": [
        "We start our discussion of Pearson’s method by focusing on binary random variables first. Then, we show how we can extend this approach for situations where categorical variables have more than two possible values.\n",
        "\n",
        "Let us denote the binary variable of interest as _X_, based on which we can divide the population into two groups depending on whether _X_ = 1 or _X_ = 0. Further, suppose that the null hypothesis H<sub>0</sub> states that the probability of group 1 (i.e., the probability that an individual belongs to the group 1) is _μ_<sub>01</sub> and the probability of group 2 is _μ_<sub>02</sub>. Of course, because the sum of probabilities adds up to one, _μ_<sub>02</sub> = 1−_μ_<sub>01</sub>.\n",
        "\n",
        "As a running example, we use the heart attack survival rate (i.e., the probability of survival after heart attack) within one year after hospitalization. Suppose that _H_<sub>0</sub> specifies that the probability of surviving is _μ_<sub>01</sub> = 0.70 and the probability of not surviving is _μ_<sub>02</sub> = 0.30.\n",
        "\n",
        "If we take a random sample of size _n_ = 40 from the population (people who suffer from heart attack), we expect that 70% of them survive and 30% of them die within one year from the time of hospitalization if in fact the null hypothesis is true. That is, we expect that 0.70×40 = 28 of subjects belong to the first group (survived) and 0.30×40 = 12 of subjects belong to the second group (nonsurvived)."
      ]
    },
    {
      "cell_type": "markdown",
      "metadata": {
        "id": "kLXxqwqPAKni"
      },
      "source": [
        "### Data Description\n",
        "\n",
        "For the next examples and exercises, we will use the Birth Weight dataset that was collected at Baystate Medical Center, Springfield, Mass during 1986.\n",
        "\n",
        "![__](https://biologicslab.co/STA1403/images/BaystateMedCtr.jpg)\n",
        "\n",
        "The dataset contains data from 189 women who gave birth to a baby at the medical center. For each woman, the following 10 datapoints were recorded:\n",
        "\n",
        "* _low_   indicator of birth weight less than 2.5 kg.\n",
        "* _age_   mother's age in years.\n",
        "* _lwt_   mother's weight in pounds at last menstrual period.\n",
        "* _race_  other's race (1 = white, 2 = black, 3 = other).\n",
        "* _smoke_ smoking status during pregnancy.\n",
        "* _ptl_   number of previous premature labours.\n",
        "* _ht_    history of hypertension.\n",
        "* _ui_    presence of uterine irritability.\n",
        "* _ftv_   number of physician visits during the first trimester.\n",
        "* _bwt_   birth weight in grams.\n",
        "\n"
      ]
    },
    {
      "cell_type": "markdown",
      "metadata": {
        "id": "mMliQ16AAKni"
      },
      "source": [
        "### Read datafile from the internet.\n",
        "\n",
        "We will use the Pandas function `pd.read_csv()` function to read the data from the course file server, `biologicslab.co`. In this text file, data values are separated by a space. Therefore, we have to add the argument `sep=' '` as shown in the cell below. As the data is stored in a DataFrame called `bwDF`.\n",
        "\n",
        "After reading in the data, we use the `head()` function to print out the first 5 records to make sure our code worked as expected."
      ]
    },
    {
      "cell_type": "code",
      "execution_count": null,
      "metadata": {
        "scrolled": true,
        "id": "-9Khw0shAKni"
      },
      "outputs": [],
      "source": [
        "# Read in the data\n",
        "import pandas as pd\n",
        "\n",
        "# Read data file\n",
        "bwDF = pd.read_csv(\"https://biologicslab.co/STA1403/data/birthwt.txt\",\n",
        "                   sep=' ')  # define the separator as a space\n",
        "\n",
        "# Print out the first 6 values.\n",
        "bwDF.head()"
      ]
    },
    {
      "cell_type": "markdown",
      "metadata": {
        "tags": [],
        "id": "GyiHgaJmAKni"
      },
      "source": [
        "If the code is correct, you should see the following image.\n",
        "\n",
        "![__](https://biologicslab.co/STA1403/images/A08/A08_Image03.png)"
      ]
    },
    {
      "cell_type": "markdown",
      "metadata": {
        "id": "UIrVE_HwAKni"
      },
      "source": [
        "The output from `wtDF.head()` shows first 5 records in the DataFrame `bwDF`. You can see that the values line-up nicely under the row headers indicating that the text file was read correctly. Whenever the values don't line-up nicely, it probably means you specified the separation character incorrectly."
      ]
    },
    {
      "cell_type": "markdown",
      "metadata": {
        "tags": [],
        "id": "wB4XDSm-AKni"
      },
      "source": [
        "### Example 2: Generate a 2 X 2 contingency table of _low_ by _smoke_\n",
        "\n",
        "In the cell below, we use the Pandas function `pd.crosstab()` generate a 2 X 2 contingency table, or cross tabulation, of _low_ by _smoke_ from the `bwDF` DataFrame. In this example, the category `smoke` is used as the **_index_** while the category 'low` is used as the **_columns_**. The function allows us to specify what label we want for the index (row) and columns."
      ]
    },
    {
      "cell_type": "code",
      "execution_count": null,
      "metadata": {
        "scrolled": true,
        "id": "FN5_VLPcAKni"
      },
      "outputs": [],
      "source": [
        "# Example 2: Contingency table\n",
        "\n",
        "import pandas as pd\n",
        "\n",
        "# Create cross tabulation\n",
        "C_tab1 = pd.crosstab(index=bwDF['smoke'], columns=bwDF['low'],\n",
        "                     rownames=[\"Mother Smoked\"],\n",
        "                     colnames=[\"Low Birth Weight\"])\n",
        "\n",
        "# Print out table\n",
        "print(C_tab1)"
      ]
    },
    {
      "cell_type": "markdown",
      "metadata": {
        "id": "QaYcdq1kAKni"
      },
      "source": [
        "If the code is correct, you should see the following contingency table:\n",
        "~~~text\n",
        "Low Birth Weight   0   1\n",
        "Mother Smoked           \n",
        "0                 86  29\n",
        "1                 44  30\n",
        "~~~"
      ]
    },
    {
      "cell_type": "markdown",
      "metadata": {
        "id": "JuAW75dBAKni"
      },
      "source": [
        "### **Exercise 2: Generate 2 X 2 contingency table of _low_ by _ui_**\n",
        "\n",
        "In the cell below, write the Python code to generate a 2 X 2 contingency table of low birth weight (`low`) by uterine irritability (`ui`). Make sure that low birth weight is the index (row variable) and uterine irritability is the column variable."
      ]
    },
    {
      "cell_type": "code",
      "execution_count": null,
      "metadata": {
        "scrolled": true,
        "id": "YRYgivfvAKni"
      },
      "outputs": [],
      "source": [
        "# Example 2: Contingency table\n",
        "\n"
      ]
    },
    {
      "cell_type": "markdown",
      "metadata": {
        "id": "8-LDAEh6AKni"
      },
      "source": [
        "If the code is correct, you should see the following contingency table:\n",
        "~~~text\n",
        "Low Birth Weight   0   1\n",
        "Mother Smoked           \n",
        "0                 86  29\n",
        "1                 44  30\n",
        "~~~"
      ]
    },
    {
      "cell_type": "markdown",
      "metadata": {
        "tags": [],
        "id": "25PMe_-xAKni"
      },
      "source": [
        "### Example 3: Perform χ2 test of _low_ by _smoke_\n",
        "\n",
        "The cell below shows the Python code to how to perform a Pearson's Chi-squared (χ2) test on low birthweight (_low_) vs maternal smoking behavior (_smoke_).\n",
        "\n",
        "This test starts by creating a cross tabulation table called `observed_table`, with `smoke` as the index and `low` as the columns. This table is then used with the Scipy Stats function `chi2_contingency()` function.\n",
        "\n",
        "is performed using R's `chisq.test()` function. The order in which the two variables are past to the function `chisq.test` is not important, so the same results will be returned whichever order is choosen. The argument `correct = FALSE` tells the function to **_not_** apply the Yates continuity function.   "
      ]
    },
    {
      "cell_type": "code",
      "execution_count": null,
      "metadata": {
        "id": "eRl8gLiyAKni"
      },
      "outputs": [],
      "source": [
        "# Example 3: Chi-square analysis\n",
        "\n",
        "import numpy as np\n",
        "from scipy.stats import chi2_contingency\n",
        "\n",
        "# Create cross tabulation\n",
        "observed_table = pd.crosstab(index=bwDF['smoke'], columns=bwDF['low'])\n",
        "\n",
        "# Perform the chi-squared test\n",
        "chi2_stat, p_value, dof, expected_table = chi2_contingency(observed_table, correction=True)\n",
        "\n",
        "# Print out the results\n",
        "print(f\"Chi-squared statistic: {chi2_stat:.6f}\")\n",
        "print(f\"P-value: {p_value:.6f}\")\n",
        "print(f\"Degrees of freedom: {dof}\")\n",
        "print(\"Expected frequencies:\")\n",
        "print(expected_table)"
      ]
    },
    {
      "cell_type": "markdown",
      "metadata": {
        "id": "BRP-2Z_MAKni"
      },
      "source": [
        "If the code is correct, you should see the following table:\n",
        "~~~text\n",
        "Chi-squared statistic: 4.235929\n",
        "P-value: 0.039577\n",
        "Degrees of freedom: 1\n",
        "Expected frequencies:\n",
        "[[79.1005291 35.8994709]\n",
        " [50.8994709 23.1005291]]\n",
        "~~~"
      ]
    },
    {
      "cell_type": "markdown",
      "metadata": {
        "id": "wDo4M4YIAKni"
      },
      "source": [
        "### Data Interpretation\n",
        "\n",
        "First, let's check that our function, `chi2_contingency()` calculated the correct degrees of freedom. The output says that `Degrees of freedom: 1` and this is correct. The 2 X 2 contingency table generated in Example 2 had two rows and two columns. Using our formula for calculating degrees of freedom, the number of rows minus 1, times the number of columns minus 1, we get (2-1) X (2-1) = 1.\n",
        "\n",
        "When using the χ2 test in this example, our null hypothesis is that low birth weight and maternal smoking behavior are **_independent_** of each other. In other words, whether a mother smokes, or not, has no effect on the birthweight of her baby.  \n",
        "\n",
        "When applying the `chi2_contingency()` function, the parameter `correction` was set to `True`. When `correction=True`, and the degrees of freedom is 1, this applies Yates’ correction for continuity. The effect of the correction is to adjust each observed value by 0.5 towards the corresponding expected value.\n",
        "\n",
        "The test statistic, `X-squared`, equals 4.235929. Remember, the larger the value of the test statistic, the more **_unlikely_** the difference between the expected and the observed results were simply due to random chance.\n",
        "\n",
        "In this instance, the difference is fairly large. The p-value = 0.039577 is _smaller_ that 95% confidence level of 0.05. Therefore, you should **_reject the null hypothesis  _H_<sub>0</sub>:** that the smoking behavior of mothers and the birthweight of their baby are independent of each other. Therefore we are forced to  **accept the alternative hypothesis, _H_<sub>A</sub>:**, that maternal smoking behavior and birthweight are some how linked.  "
      ]
    },
    {
      "cell_type": "markdown",
      "metadata": {
        "id": "iNS2haljAKni"
      },
      "source": [
        "### **Exercise 3: Perform χ2 test of   _low_ by _ui_**\n",
        "\n",
        "In the cell below, write the Python code to perform a χ2 test of low birth weight (_low_) by utrine irritability (_ui_).   "
      ]
    },
    {
      "cell_type": "code",
      "execution_count": null,
      "metadata": {
        "scrolled": true,
        "id": "uoGx9oGMAKni"
      },
      "outputs": [],
      "source": [
        "# Insert your code for Exercise 3 here\n",
        "\n"
      ]
    },
    {
      "cell_type": "markdown",
      "metadata": {
        "id": "trq3fAtjAKni"
      },
      "source": [
        "If your code is correct, you should see the following table:\n",
        "~~~text\n",
        "Chi-squared statistic: 4.422673\n",
        "P-value: 0.035464\n",
        "Degrees of freedom: 1\n",
        "Expected frequencies:\n",
        "[[110.74074074  19.25925926]\n",
        " [ 50.25925926   8.74074074]]\n",
        "~~~"
      ]
    },
    {
      "cell_type": "markdown",
      "metadata": {
        "id": "n_Cu4Mt8AKni"
      },
      "source": [
        "Again, the p-value: 0.035 is less than 0.05 meaning a statistically significant result suggesting that low birth weight and uterine irritability are somehow interrelated."
      ]
    },
    {
      "cell_type": "markdown",
      "metadata": {
        "id": "l-xb7LnTAKnl"
      },
      "source": [
        "### Example 4: Fisher's Exact Test for _low_ by _smoke_\n",
        "\n",
        "Example 4 shows the Python code to perform Fisher' Exact Test for low birth weight (_low_) as a function of smoking behavior of the mother (_smoke_).\n",
        "\n",
        "Fisher’s Exact Test is used to determine whether or not there is a significant association between two categorical variables. It is typically used as an alternative to the Chi-Square Test of Independence when one or more of the cell counts in a 2×2 table is less than 5. In this example, we will use Scipy Stat's  `fisher_exact()` function."
      ]
    },
    {
      "cell_type": "code",
      "execution_count": null,
      "metadata": {
        "id": "EaHU44RnAKnl"
      },
      "outputs": [],
      "source": [
        "# Example 4: Fisher Exact Test\n",
        "\n",
        "import pandas as pd\n",
        "from scipy.stats import fisher_exact\n",
        "\n",
        "# Create contingency table\n",
        "observed_table = pd.crosstab(index=bwDF['smoke'], columns=bwDF['low'])\n",
        "\n",
        "# Perform the Fisher’s exact test\n",
        "odds_ratio, p_value = fisher_exact(observed_table)\n",
        "\n",
        "# Print out the results\n",
        "print(f\"Odds ratio: {odds_ratio:.6f}\")\n",
        "print(f\"P-value: {p_value:.6f}\")"
      ]
    },
    {
      "cell_type": "markdown",
      "metadata": {
        "id": "BHkQopVTAKnl"
      },
      "source": [
        "If your code is correct, you should see the following table:\n",
        "~~~text\n",
        "Odds ratio: 2.021944\n",
        "P-value: 0.036176\n",
        "~~~"
      ]
    },
    {
      "cell_type": "markdown",
      "metadata": {
        "jp-MarkdownHeadingCollapsed": true,
        "tags": [],
        "id": "zbdqZYVYAKnl"
      },
      "source": [
        "### Data Interpretation\n",
        "\n",
        "Since the number of counts in our 2 X 2 Contingency table generated above in Example 1, were all larger than 5, there would no need to analyze these data using Fisher's Exact Test, instead of the more usual χ2 test. On the other hand, we should expect that the results of both tests should be similar, if not identical.\n",
        "\n",
        "In the χ2 test of these data performed in Example 3, the p-value = 0.039577 while the Fisher Exact Test gave an almost identical p-value = 0.03618 when the Yates Continuity Correction turned on.\n",
        "\n",
        "So what's the difference between the χ2 test and Fisher's Exact Test?\n",
        "\n",
        "The main difference is that χ2 test applies an **_approximation_** that assumes the sample size is large, while the Fisher's Exact Test runs an **_exact_** procedure, that is especially valuable for small-sized samples. In other words, there are no approximations made, _every_ possible solution is analysed.\n",
        "\n",
        "So if the Fisher's Exact Test is \"better\", why do statisticians bother using the χ2 test? Basically, the χ2 test takes less \"computational power\" because of the approximations so it was easier to perform manually before personal computers became relatively cheap, powerful and abundant."
      ]
    },
    {
      "cell_type": "markdown",
      "metadata": {
        "tags": [],
        "id": "_ipFK3nlAKnl"
      },
      "source": [
        "### **Exercise 4: Fisher's Exact Test for _low_ by _ui_</u>**\n",
        "\n",
        "Perform Fisher' Exact Test for low birth weight as a function of uterine irritability."
      ]
    },
    {
      "cell_type": "code",
      "execution_count": null,
      "metadata": {
        "id": "nt5KV5yxAKnl"
      },
      "outputs": [],
      "source": [
        "# Insert your code for Exercise 4 here\n",
        "\n"
      ]
    },
    {
      "cell_type": "markdown",
      "metadata": {
        "id": "SCHmBcZ_AKnm"
      },
      "source": [
        "If your code is correct, you should see the following table:\n",
        "~~~text\n",
        "Odds ratio: 2.577778\n",
        "P-value: 0.026918\n",
        "~~~"
      ]
    },
    {
      "cell_type": "markdown",
      "metadata": {
        "jp-MarkdownHeadingCollapsed": true,
        "id": "Gqo-X3LsAKnm"
      },
      "source": [
        "### **Lesson Turn-In**\n",
        "\n",
        "When you have completed all of the exercises and run **every** cell in this Lesson, print out a PDF copy and upload it to Canvas. Your PDF should be called `Assignment_08_lastname.pdf` where _Lastname_ is your last name."
      ]
    }
  ],
  "metadata": {
    "kernelspec": {
      "display_name": "Python 3 (ipykernel)",
      "language": "python",
      "name": "python3"
    },
    "language_info": {
      "codemirror_mode": {
        "name": "ipython",
        "version": 3
      },
      "file_extension": ".py",
      "mimetype": "text/x-python",
      "name": "python",
      "nbconvert_exporter": "python",
      "pygments_lexer": "ipython3",
      "version": "3.11.5"
    },
    "colab": {
      "provenance": []
    }
  },
  "nbformat": 4,
  "nbformat_minor": 0
}