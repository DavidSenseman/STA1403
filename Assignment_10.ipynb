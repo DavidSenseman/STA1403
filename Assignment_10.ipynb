{
 "cells": [
  {
   "cell_type": "markdown",
   "id": "73079282-c162-4968-951f-5da56d64704c",
   "metadata": {
    "tags": []
   },
   "source": [
    "### **Biostatistics with R**"
   ]
  },
  {
   "cell_type": "markdown",
   "id": "343f0216-0550-49b1-aecd-b917e1025996",
   "metadata": {
    "tags": []
   },
   "source": [
    "# **Assignment 10: _K_-Means and Hierarchical Cluster Analysis**"
   ]
  },
  {
   "cell_type": "markdown",
   "id": "cc452792-afc6-45a0-9e4a-c5924dbf7f4e",
   "metadata": {
    "jp-MarkdownHeadingCollapsed": true,
    "tags": []
   },
   "source": [
    "### In this lesson you will learn about:\n",
    "\n",
    "* K-Means Cluster Analysis\n",
    "* Using square bracket `[ ]` indexing for subsetting data\n",
    "* Convert numerical values in a dataframe into a matrix\n",
    "* The Elbow Method for selecting estimating the correct K value\n",
    "* Hierarchical Cluster Analysis\n"
   ]
  },
  {
   "cell_type": "markdown",
   "id": "2ff465fd-722f-4378-9661-8ac419bf6e25",
   "metadata": {},
   "source": [
    "### **WARNING:** You will need to install the R packages `r-cluster` and `r-factoextra` before you can run the next cell\n",
    "\n",
    "In a terminal window on your laptop you will need to run the following command **_BEFORE_** you can run this lesson.\n",
    "\n",
    "`conda install -c conda-forge r-cluster` <br>\n",
    "`conda install -c conda-forge r-factoextra`\n"
   ]
  },
  {
   "cell_type": "code",
   "execution_count": null,
   "id": "9460191d-c227-4df7-a630-672c96af7053",
   "metadata": {},
   "outputs": [],
   "source": [
    "# Install libraries\n",
    "library(cluster)\n",
    "library(factoextra)"
   ]
  },
  {
   "cell_type": "markdown",
   "id": "5ccd6d61-2346-44c6-bd19-881449fcd502",
   "metadata": {
    "tags": []
   },
   "source": [
    "### Lesson Setup\n",
    "\n",
    "Run the next cell to load the necessary R packages for this lesson."
   ]
  },
  {
   "cell_type": "code",
   "execution_count": null,
   "id": "30b76834-b5b4-497c-beac-6cbe7e189fcd",
   "metadata": {
    "tags": []
   },
   "outputs": [],
   "source": [
    "print(paste(\"My current working directory is\", getwd()))"
   ]
  },
  {
   "cell_type": "markdown",
   "id": "d9dde3c9-9795-41ee-af67-02d1d6310ece",
   "metadata": {
    "jp-MarkdownHeadingCollapsed": true,
    "tags": []
   },
   "source": [
    "# Introduction to Cluster Analysis\n",
    "\n",
    "**_Cluster analysis_** is a data analysis technique that explores the naturally occurring groups within a data set known as **_clusters_**. Cluster analysis doesn't need to group data points into any predefined groups, which means that it is an **_unsupervised_** learning method. Like regression analysis, cluster analysis is considered a form of **_Machine Learning_** that is one of the main componenets of **_Artificial Intelligence_** or **_AI_**. \n",
    "\n",
    "![__](AI.png)\n",
    "\n",
    "The two main forms of Cluster Analysis is **_K-Means Cluster Analysis_** and **_Hierachial Cluster Analysis_**. _K_-means clustering is the most commonly used unsupervised machine learning algorithm for partitioning a given data set into a set of **_K_** groups (i.e. $k$ clusters), where **_K_** represents the number of groups pre-specified by the analyst. It classifies objects in multiple groups (i.e., _clusters_), such that objects within the same cluster are as similar as possible (i.e., high intra-class similarity), whereas objects from different clusters are as dissimilar as possible (i.e., low inter-class similarity). In _K_-Means clustering, each cluster is represented by its center (i.e, centroid) which corresponds to the mean of points assigned to the cluster. \n",
    "\n",
    "There are two potential problems with the K-means clustering algorithm. First, it is a flat clustering method. After observations are assigned to their clusters, they are all considered to be similar within the same cluster. That is, the observations are not further separated based on dissimilarity within a cluster. Secondly, we need to specify the number of clusters K _a priori_. Finding the appropriate number of clusters is not trivial, and the selected number has a substantial impact on the results.\n",
    "\n",
    "An alternative approach that avoids these issues is **hierarchical clustering**. The result of this method is a dendrogram (a tree). The root of the dendrogram is its highest level and contains all _n_ observations. The leaves of the tree are its lowest level and are each a unique observation.\n",
    "\n",
    "In this lesson, the cluster analysis approach is introducted by using K-Means Cluster analyis to classify three species of the iris flowers based on their petal and sepal lengths. In a future lesson we look at an example of hiearchical cluster analysis."
   ]
  },
  {
   "cell_type": "markdown",
   "id": "f65d5524-cbbb-483e-b93c-edba0d3137f3",
   "metadata": {
    "tags": []
   },
   "source": [
    "# **The famous _Iris flower_ dataset**\n",
    "\n",
    "In this lesson we will perform a _K_-Means Cluster and Hierarchical analyses on the famous _Iris flower dataset_, The Iris flower data set or Fisher's _Iris_ data set is a multivariate data set used and made famous by the British statistician Ronald Fisher in his 1936 paper _The use of multiple measurements in taxonomic problems as an example of linear discriminant analysis_ [1]. (NOTE: A PDF of this paper has been included with this lesson). It is sometimes called Anderson's Iris data set because Edgar Anderson collected the data to quantify the morphologic variation of Iris flowers of three related species. Two of the three species were collected in the Gaspé Peninsula \"all from the same pasture, and picked on the same day and measured at the same time by the same person with the same apparatus\".\n",
    "\n",
    "The dataset contains measurements of 4 morphological characteristics of an iris flower: (1) sepal length, (2) sepal width, (3) pedal length and (4) pedal width. These measurements were taken from 3 different iris species: (1) _Iris setosa_, (2)_Iris virginica_ and (3)  _Iris versicolor_. The image below shows the flower of each of these species.\n",
    "\n",
    "![__](IrisSpecies.png)\n",
    "\n",
    "\n",
    "The next figure illustrates the difference between a **_sepal_** and a **_petal_** in an Iris flower.\n",
    "\n",
    "![__](SepalPetal.png)\n"
   ]
  },
  {
   "cell_type": "markdown",
   "id": "7c195e9f-130f-4529-be63-c1e4cd42a26a",
   "metadata": {},
   "source": [
    "### Read Iris flower dataset and store the data in a dataframe\n",
    "\n",
    "The cell below uses the function `read_csv()` to read the file `iris.csv` located in the current working directory. It should be noted that the header information for `iris.csv` has been simplified to make it easier to use as a teaching example while the actual physical measurements themselves have been left in intact. \n",
    "\n",
    "The iris flower data read from the file `iris.csv` will be stored in a dataframe called `iris_df`. The `head()` function is used to print out the first 6 records to make sure the file was read correctly.   "
   ]
  },
  {
   "cell_type": "code",
   "execution_count": null,
   "id": "056b1c6f-1e8d-4c28-b486-53fd8c0a47d9",
   "metadata": {
    "tags": []
   },
   "outputs": [],
   "source": [
    "# Read Iris data set\n",
    "\n",
    "# Use read.csv() to read datafile\n",
    "iris_df <- read.csv('iris.csv', sep=',')\n",
    "\n",
    "# Print out the first six records\n",
    "head(iris_df)\n"
   ]
  },
  {
   "cell_type": "markdown",
   "id": "6741ed85-0ad8-4f0c-8b8c-c4480c51e3b0",
   "metadata": {},
   "source": [
    "If your code is setup correctly you should see the following output.\n",
    "\n",
    "![__](Ex0.jpg)"
   ]
  },
  {
   "cell_type": "markdown",
   "id": "a0c0ebc9-b798-498f-8181-03645aa2a01c",
   "metadata": {},
   "source": [
    "### Dataframe indexing: Extracting subsets from a dataframe\n",
    "\n",
    "From the output above you can see that the dataframe `iris_df` contains the following 5 columns:\n",
    "\n",
    "1. **sepalLen:** The length of the flower's sepal\n",
    "2. **sepalWid:** The width of the flower's sepal\n",
    "3. **petalLen:** The length of the flower's petal\n",
    "4. **petalWid:** The width of the flower's petal\n",
    "5. **Species:** The species name of the flower\n",
    "\n",
    "In this lesson, a series of _Examples_ will given to illustrate how to perform certain tasks using the _sepal dimensions_. You will be asked to complete a series of **_Exercises_** in which you need to perform a series of similar tasks using just the **_petal_** _dimensions_.\n",
    "\n",
    "One common way to extract specific column information in a dataframe is to use **_indexing_** using square brackets `[Row, Column]`. The first number within the square bracket specifies the _row_ number while the second number specifies the _column_ number. A comma is used to separate the two numbers. Finally, leaving the first and/or second number _blank_ means the _entire_ dataframe or array.\n"
   ]
  },
  {
   "cell_type": "markdown",
   "id": "a9e47aea-53d4-4fc8-91e1-0ea1401365a8",
   "metadata": {},
   "source": [
    "### Example 1: Extract sepal dimensions from `iris_df`\n",
    "\n",
    "In _Example 1_, the square bracket notation `[ ,1:2]` means, _all_rows and just columns number 1 through 2. Since the sepal dimensions are stored in columns 1 and 2, we can use this square bracket index to extract just the sepal dimensions.  "
   ]
  },
  {
   "cell_type": "code",
   "execution_count": null,
   "id": "a730a1c0-bdf0-48e8-96f9-f708be9b5f0d",
   "metadata": {},
   "outputs": [],
   "source": [
    "# Example 1: Print out just data in columns 1 and 2 for all the rows\n",
    "\n",
    "head(iris_df[ , 1:2])"
   ]
  },
  {
   "cell_type": "markdown",
   "id": "66253aa4-773a-4227-abbc-9c401bce9d7b",
   "metadata": {},
   "source": [
    "### **Exercise 1:** Extract _petal_ dimensions from `iris_df`\n",
    "\n",
    "In **_Exercise 1_**, use the `head()` function in combination with square bracket notation to print out the _petal_ dimensions stored in columns 3 and 4.  "
   ]
  },
  {
   "cell_type": "code",
   "execution_count": null,
   "id": "022a24d9-3644-4689-9005-db5f28df3c56",
   "metadata": {},
   "outputs": [],
   "source": [
    "# Insert your code for Exercise 1 here\n"
   ]
  },
  {
   "cell_type": "markdown",
   "id": "c3dd86fc-0e61-49ca-a707-bedb3b71bbc1",
   "metadata": {},
   "source": [
    "If your code is correct you should see the following output.\n",
    "\n",
    "![](Ex1.jpg)"
   ]
  },
  {
   "cell_type": "markdown",
   "id": "351cc752-f199-421b-a4e3-6ad6ac9b054c",
   "metadata": {},
   "source": [
    "### Example 2: Extract _sepal_ dimensions and _species_ names from `iris_df`\n",
    "\n",
    "Square bracket indexing is quite flexible. In this example we use the _concatenate_ function `c` to specify which rows to add to our subset. In _Example 2_, the square bracket notation `[ , c(1,2,5)]` means, _all_rows (the initial blank space) and columns number 1, 2 and 5. \n",
    "\n",
    "Since the sepal dimensions are stored in columns 1 and 2, and the species names are stored in column 5, we can use this square bracket index to extract the sepal dimensions _and_ the species names. The letter `c` stands for _concatenate_ which essentially means to \"add together\" in this context. "
   ]
  },
  {
   "cell_type": "code",
   "execution_count": null,
   "id": "6dcc10c1-8cd1-4b7a-a294-0935f39b9de7",
   "metadata": {
    "scrolled": true
   },
   "outputs": [],
   "source": [
    "# Example 2: Print out the data in columns 1, 2 and 5 for all rows\n",
    "\n",
    "head(iris_df[ , c(1,2,5)])"
   ]
  },
  {
   "cell_type": "markdown",
   "id": "5658e2cb-bc1f-4e6d-8b71-8a2db8aa11b9",
   "metadata": {},
   "source": [
    "### **Exercise 2:** Extract _petal_ dimensions and _species_ names from `iris_df`\n",
    "\n",
    "In **_Exercise 2_**, use the `head()` function in combination with square bracket notation to print out the _petal_ dimensions stored in columns 3 and 4 and the species names stored in column 5.  "
   ]
  },
  {
   "cell_type": "code",
   "execution_count": null,
   "id": "c964e51f-5b14-46e2-9369-068bac30114a",
   "metadata": {},
   "outputs": [],
   "source": [
    "# Insert your code for Exercise 2 here\n",
    "\n"
   ]
  },
  {
   "cell_type": "markdown",
   "id": "de5803c8-df35-4f32-b6ef-ffc4c6e43807",
   "metadata": {},
   "source": [
    "If your code is correct you should see the following output.\n",
    "\n",
    "![](Ex2.jpg)"
   ]
  },
  {
   "cell_type": "markdown",
   "id": "9e1c1f8a-5d66-434e-93a6-2f359ccf4a46",
   "metadata": {
    "tags": []
   },
   "source": [
    "# K-Means Cluster Analysis\n",
    "\n",
    "In statistics, a _cluster_ refers to a collection of data points aggregated together because of certain similarities. For example, _Iris_ flowers fron the same species might be expected to form a cluster if each species has relatively unique combination of petal and sepal lengths and widths. In this lesson, we will use K-Means Cluster Analysis to see if _Iris_ flowers form distinct clusters based on their sepal lengths (`sepalLen`) and sepal widths (`sepalWid`). As an exercise, your will perform K-Means Cluster analysis on the breast cancer data.\n",
    "\n",
    "The basic idea is to  \"plot the data\" in an _n-dimensional_ space. For the _Iris_ data we can plot the data on a standard XY scatterplot since we will only be using 2 independent variables at a time. In the _Examples_, we will be using _sepal length_, which we plot along the X-axis and _sepal width_, which we will plot along the Y-axis. In the **_Exercises_** you will be using _petal length_ and _petal width_. \n",
    " \n",
    "\n",
    "## Centroids\n",
    "\n",
    "Once the independent variables has been plotted in their _n-dimensional_ space, your computer will randomly place a small number of imaginary \"objects\" called _centroids_ somewhere within the data. How many _centroids_ will be placed is up to you. The number of centroids is called **_K_**, which explains, in part, the name **_K_**-_Means Cluster_ analysis. For the _Iris_ flower data, we will be using 3 centroids (_K_=3) since we will be looking for 3 data clusters, one for each flower species. \n",
    "\n",
    "## How the _K_-Means Cluster algorithm works\n",
    "\n",
    "Once your computer has randomly placed the _K_ centroids within the data points, it calculates how far each data point is from the each centroid. Data points that are closest to a particular centroid are assigned to that centroid to form a cluster.\n",
    "\n",
    "Since the centroids were placed randomly, it very unlikely that they ended up being in the true center of a particular cluster. This is where the \"Machine Learning\" comes in. Your computer then performs a series of \"loops\" (_iterations_) in which it starts _learning about the data_. During each iteration, it moves the location of all the centroids and computes whether the new locations are \"better\" than the old location. The computer keeps moving the centroids around until their locations are as optimal as possible.  \n",
    "\n",
    "For you to make these calculation manually would take a considerable amount of time and effort. However, these are _exactly_ the kind of small repetitive computations that your laptop is supremely good at, and can perform at blazing speeds. \n",
    "\n",
    "In this lesson, we will be asking your computer to make up to 300 iterations. In other words, your computer will repeat the _K_-means Cluster computational procedure over and over, up to 300 times. How many iternations--or how long do you want to wait for an answer--is up to you. You can set the number of iterations using the argument, `maxiter = `. Each time, the algorithmn runs, it uses the results of the last run to improve its seach. After every run, your computer will (hopefully) get closer (better) approximations to the solution of the problem, such as separating all 150 plants in the Iris flower dataset into 3 clusters, one for each species.        \n",
    "To make the algoithmn run faster, the _K_-Means Cluster software is smart enough to know when the locations of thecentroids have stabilized and there is no change in their values. At this point the \"looping\" will stop and the results will be printed out. However, if some data has not separated into clusters, the program terminates when the number of maximum iterations has been reached. "
   ]
  },
  {
   "cell_type": "markdown",
   "id": "9ec7a127-3453-4d40-96e6-0abc53f84927",
   "metadata": {},
   "source": [
    "## Estimating _K_ using an _Elbow Plot_\n",
    "\n",
    "One of the major challenges when using _K_-Means analysis is deciding on the number of clusters the algorithmn should be looking for? With the _Iris_ data, we already know to look for 3 clusters -- one for each plant species. But in most cases we won't know the correct number of clusters.\n",
    "\n",
    "There is a widely accepted technique called the _Elbow Method_ that gives an estimate for _K_. In the Elbow Method, the data is analyzed using a small range (e.g. 1 to 10) of _K_ values. For each _K_ value, the **WCSS** (Within-Cluster Sum of Square) value is computed. The _WCSS_ is the sum of the squared distance between each data point and the centroid in a cluster. The lower the WCSS, the \"better\" the fit between the centroids and the data. \n",
    "\n",
    "It is always easier to fit data with more and more parameters. So as the _K_ value increases, the WCSS value will _always_ get smaller and smaller. However, plotting the WCSS as a function the _K_ value, usually produces a line with a shape similar to an _elbow_. As the number of clusters increases from 1, to 2, to 3, on so on, the WCSS value initally starts to decrease rapidly, but at some value of _K_, the rate of decline suddenly slows. The _K_ value where this _elbow_-shape lines slows is either the optimal number of clusters, or very close to it.   \n",
    "\n",
    "The Python code in the cell below generates a line plot (i.e. _Elbow plot_) of the WCSS for _K_ values from 1 to 10 for the sepal dimensions using the function `fviz_nbclust()`. This function that is part of the `factoextra` library that was installed before the lesson. \n",
    "\n",
    "The `fviz_nbclust()` function requires the data to be in the form of a numerical _matrix_, not a dataframe. Therefore, before we can generate our elbow plot, we will first need to convert the sepal dimensions in `iris_df` into a numerical matrix called `sep_mat` using the `data.matrix()` function as shown in Example 3."
   ]
  },
  {
   "cell_type": "markdown",
   "id": "673ec339-86ea-416a-8933-757636d2d355",
   "metadata": {},
   "source": [
    "### Example 3: Convert data in a dataframe into a numerical matrix\n",
    "\n",
    "The R code in the cell below uses the function `data.matrix()` to convert the sepal dimensions in `iris_df` into a numerical matrix called `sepal_mat`. "
   ]
  },
  {
   "cell_type": "code",
   "execution_count": null,
   "id": "e737d03d-5001-40cd-a0cc-e44dc2c423de",
   "metadata": {},
   "outputs": [],
   "source": [
    "# Example 3: Generate elbow function\n",
    "\n",
    "# Use data.matrix() function to create matrix of sepal dimensions\n",
    "sepal_mat <- data.matrix(iris_df[ , 1:2])\n",
    "\n",
    "# List the first 6 rows of sepal_max\n",
    "head(sepal_mat)"
   ]
  },
  {
   "cell_type": "markdown",
   "id": "792e3d16-44b4-4ca1-bbbd-2d6a767cf2ec",
   "metadata": {},
   "source": [
    "### **Exercise 3:** Convert _petal_ data into a numerical matrix\n",
    "\n",
    "In the code cell below, write the R code to convert the _petal_ dimensions in `iris_df` into a numerical matrix called `petal_mat` and then print out the first 6 values. "
   ]
  },
  {
   "cell_type": "code",
   "execution_count": null,
   "id": "1f4b13cc-957f-43c8-a00b-ea9963826ce0",
   "metadata": {
    "scrolled": true
   },
   "outputs": [],
   "source": [
    "# Insert your code for Execise 3 here\n",
    "\n"
   ]
  },
  {
   "cell_type": "markdown",
   "id": "08da3592-bdeb-4f2e-bc09-1a5d214dffd4",
   "metadata": {},
   "source": [
    "If your code is correct you should see the following output.\n",
    "\n",
    "![](Ex3.jpg)"
   ]
  },
  {
   "cell_type": "markdown",
   "id": "22290c36-f9fa-4e85-b71c-2c4db6876905",
   "metadata": {},
   "source": [
    "### Example 4: Elbow plot for sepal dimensions\n",
    "\n",
    "The code in the cell below uses the function `fviz_nbclust()` to generate an elbow plot from the numberical matrix `sepal_mat`. "
   ]
  },
  {
   "cell_type": "code",
   "execution_count": null,
   "id": "86f37019-b6b6-4d7b-b4fa-ccd1b14d1662",
   "metadata": {
    "scrolled": true
   },
   "outputs": [],
   "source": [
    "# Example 4: Generate elbow function\n",
    "\n",
    "# Generate elbow plot of sepal dimensions\n",
    "fviz_nbclust(sepal_mat, kmeans, method = \"wss\")\n"
   ]
  },
  {
   "cell_type": "markdown",
   "id": "eccb0662-cd84-4870-9c25-8896424a3b02",
   "metadata": {},
   "source": [
    "Notice that the decline in the WSS decreases rapidly for _K_ equals 1 and 2, but then declines more slowly after _K_ = 3. "
   ]
  },
  {
   "cell_type": "markdown",
   "id": "2441b50b-c07e-4ff5-93f5-3cc134d89bef",
   "metadata": {},
   "source": [
    "### **Exercise 4:** Elbow plot for _petal_ dimensions\n",
    "\n",
    "In the cell below, use the function `fviz_nbclust()` to generate an elbow plot from the numberical matrix `petal_mat`. "
   ]
  },
  {
   "cell_type": "code",
   "execution_count": null,
   "id": "468f899d-976c-46d1-9a6b-ab6f1c4f6b91",
   "metadata": {},
   "outputs": [],
   "source": [
    "# Insert your code for Exercise 4 here\n",
    "\n"
   ]
  },
  {
   "cell_type": "markdown",
   "id": "8ad3744f-3a86-48dc-80b6-2364bb34d26a",
   "metadata": {},
   "source": [
    "If your code is correct you should see the following output.\n",
    "\n",
    "![](Ex4.jpg)"
   ]
  },
  {
   "cell_type": "markdown",
   "id": "b40371a7-2d9e-4b6c-93f5-9fb512ae461a",
   "metadata": {},
   "source": [
    "### Example 5: K-Means Cluster analysis of sepal dimensions\n",
    "\n",
    "The code in cell below uses the function `kmeans()` to perform the _K_-Means cluster analysis of the sepal data. The number of clusters, _K_, is set to $3$ based on visual inspection of the eblow plot in Example 4. \n",
    "\n",
    "The argument, `iter.max` is the number of times the algorithm is run before results are returned. The algorithm works by finding a minimum of a cost function through iterations (passes) through the data. \n",
    "\n",
    "The argument, `nstart` represents the number of random data sets used to run the algorithm. When the algorithm initialized, it is fed the initial coordinates of the cluster centers, picked at random. The value `nstart` extracts the number of times k random numbers, between 1 and the number of “observations” in the dataframe, and it takes as a starting point for cluster 1 up to cluster k candidates centroids. \n"
   ]
  },
  {
   "cell_type": "code",
   "execution_count": null,
   "id": "03afa952-e5e7-4b24-85e7-9cf5b61185f9",
   "metadata": {},
   "outputs": [],
   "source": [
    "# K-means clustering: Sepal dimensions\n",
    "\n",
    "# Set the number of clusters\n",
    "K = 3\n",
    "\n",
    "# Perform Kmean for K=3\n",
    "sepal_km_results <- kmeans(iris_df[,1:2], K, iter.max=50, nstart = 10)\n",
    "\n",
    "# Print out the results\n",
    "print(sepal_km_results$centers)"
   ]
  },
  {
   "cell_type": "markdown",
   "id": "37dec04f-43e8-4ae0-a4ec-9fcf49e48646",
   "metadata": {},
   "source": [
    "The variable `sepal_km_results` contains a number of statistical measures about the results of the _K_-Means analysis. For this lesson, we will focus on the co-ordinates of the _centroid centers_ which we will use later in our analysis. "
   ]
  },
  {
   "cell_type": "markdown",
   "id": "abf23a5d-fddc-417d-8fca-bbbc11b861a8",
   "metadata": {},
   "source": [
    "### **Exercise 5:** K-Means Cluster analysis of petal dimensions\n",
    "\n",
    "In the code cell below, use the function `kmeans()` to perform the _K_-Means cluster analysis of the _petal_ data. Set the number of clusters, _K_, to $3$ based on the eblow plot in Exercise 4. Set `iter.max` to 50 and `nstart` to 10. Call the results of your analysis `petal_km_results`. "
   ]
  },
  {
   "cell_type": "code",
   "execution_count": null,
   "id": "d27a727d-71b5-48b1-9170-35f4bcedb241",
   "metadata": {},
   "outputs": [],
   "source": [
    "# Insert your code for Exercise 5 here\n",
    "\n"
   ]
  },
  {
   "cell_type": "markdown",
   "id": "2ad69957-8e4e-4ef5-9664-b73eefb78538",
   "metadata": {},
   "source": [
    "If your code is correct you should see the following output.\n",
    "\n",
    "![__](Ex5.jpg)"
   ]
  },
  {
   "cell_type": "markdown",
   "id": "69d8b614-c3a7-47b1-9989-93c9ffd48faf",
   "metadata": {},
   "source": [
    "### Example 6: Visualize K-Means Cluster analysis for sepal dimensions\n",
    "\n",
    "The code in cell below uses the function `fviz_cluster()` to plot the results of the _K_-Means cluster analysis of the sepal data. \n"
   ]
  },
  {
   "cell_type": "code",
   "execution_count": null,
   "id": "8930bd36-5939-499e-9d04-38db84931a9b",
   "metadata": {},
   "outputs": [],
   "source": [
    "# Example 6: Visualize kmeans clustering\n",
    "\n",
    "fviz_cluster(sepal_km_results, iris_df[,1:2], \n",
    "             ellipse.type = \"norm\", \n",
    "             geom=c(\"point\"), \n",
    "             pointsize = 3, \n",
    "             ggtheme = theme_minimal())\n"
   ]
  },
  {
   "cell_type": "markdown",
   "id": "801ea1fb-ac54-4949-89c3-ab41a8cd081a",
   "metadata": {},
   "source": [
    "If your code is working correctly, you should see the following cluster plot.\n",
    "\n",
    "![__](Example_06.jpg)"
   ]
  },
  {
   "cell_type": "markdown",
   "id": "d3569462-217d-412a-be7d-1ea10c8086f3",
   "metadata": {},
   "source": [
    "### **Exercise 6:** Visualize K-Means Cluster analysis for petal dimensions\n",
    "\n",
    "In the code cell below, use the function `fviz_cluster()` to plot the results of your _K_-Means cluster analysis of the petal data. \n"
   ]
  },
  {
   "cell_type": "code",
   "execution_count": null,
   "id": "96818ac5-84b6-4e50-b8a3-da9d0fd41bda",
   "metadata": {},
   "outputs": [],
   "source": [
    "# Insert your code for Exercise 6 here\n",
    "\n"
   ]
  },
  {
   "cell_type": "markdown",
   "id": "5bb3a34b-0485-4ead-8afc-972b4fdf479e",
   "metadata": {},
   "source": [
    "If your code is correct you should see the following output.\n",
    "\n",
    "![__](Ex6.jpg)"
   ]
  },
  {
   "cell_type": "markdown",
   "id": "eab24cb8-eff7-408b-8a05-ee0d09b82799",
   "metadata": {},
   "source": [
    "## Determining the relationship between clusters and flower species\n",
    "\n",
    "Now that _K_-Means Cluster analysis has divided the _Iris_ flower data into 3 clusters based on sepal dimensions (Example 6) and petal dimensions (Exercise 6), the next step is to determine the relationship between species and clusters. In order words, which cluster contains which species? Perhaps the most direct way to answer this question is to generate XY scatter plots of the Iris dataset in which the data points are color-coded according to the flower's species. "
   ]
  },
  {
   "cell_type": "markdown",
   "id": "4e2ca685-5e5b-403d-b2df-e964e2aec524",
   "metadata": {},
   "source": [
    "### Example 7: Generate logical (boolean) mask for Iris setosa\n",
    "\n",
    "Logical (boolean) masks are one way to separate data in a dataframe according to some condition, in this case `Species`. The code in the cell below shows how to generate a boolean masks for the Iris species, `Iris setosa`. As you can see from the output, a boolean masks is simply a vector containing either `TRUE` or `FALSE` for each row in `iris_df`."
   ]
  },
  {
   "cell_type": "code",
   "execution_count": null,
   "id": "2d21c92b-bbca-45e2-b25f-8aa32caaf412",
   "metadata": {
    "tags": []
   },
   "outputs": [],
   "source": [
    "# Example 7\" Use logical indexing to generate a boolean mask for I setosa\n",
    "\n",
    "setosa_mask = iris_df$Species == 'Iris-setosa' \n",
    "\n",
    "# Print out the first 6 values in\n",
    "head(setosa_mask)"
   ]
  },
  {
   "cell_type": "markdown",
   "id": "dff45233-acd4-4cd5-95a6-4f6660837ef0",
   "metadata": {},
   "source": [
    "### **Exercise 7:** Generate logical (boolean) masks for Iris versicolor and Iris virginica\n",
    "\n",
    "In the cell below, generate a boolean mask called `versicolor_maske` for the Iris species, `Iris versicolor` and another mask called `virginica_masks` for the species `Iris virginica`. Use the `head()` function to print out the first 6 records in `versicolor_mask`."
   ]
  },
  {
   "cell_type": "code",
   "execution_count": null,
   "id": "dd6eac18-9006-491e-b16a-64e211b2ab4c",
   "metadata": {
    "tags": []
   },
   "outputs": [],
   "source": [
    "# Insert your code for Exercise 7 here\n",
    "\n"
   ]
  },
  {
   "cell_type": "markdown",
   "id": "77354c26-f63c-4cb9-861e-65a77aa782a6",
   "metadata": {},
   "source": [
    "If your code is correct you should see the following output.\n",
    "\n",
    "`FALSE·FALSE·FALSE·FALSE·FALSE·FALSE`"
   ]
  },
  {
   "cell_type": "markdown",
   "id": "ca8781cb-594c-48b3-8099-c0bbfa9682fd",
   "metadata": {},
   "source": [
    "### Example 8: Calculate the number of Iris setosa from logical mask. \n",
    "\n",
    "Since R considers the boolean value `TRUE` to be equal to the number $1$ and the boolean value `FALSE` to be equal to the number $0$, we can use the logical mask `setosa_mask` to calculate the number of flowers in `iris_df` that belong to the species `Iris setosa` as shown in the code cell below. The variable `num_setosa` is used to store this value for later use."
   ]
  },
  {
   "cell_type": "code",
   "execution_count": null,
   "id": "10e95ea9-2f60-4ade-a843-d752b10dbc80",
   "metadata": {},
   "outputs": [],
   "source": [
    "# Calculate the number of each species\n",
    "\n",
    "# Since TRUE=1 and FALSE=0, sum to find total\n",
    "num_setosa = sum(setosa_mask)\n",
    "\n",
    "# Print out the numbers\n",
    "print(paste(\"Number of Iris setosa =\", num_setosa))"
   ]
  },
  {
   "cell_type": "markdown",
   "id": "827f31f3-4cfa-471d-8220-58dda3044d7c",
   "metadata": {},
   "source": [
    "### **Exercise 8:** Calculate the number of Iris versicolor and virginica from logical mask. \n",
    "\n",
    "In the code cell below, use the logical masks that you created in Exercise 7 to calculate the total number of plants in `iris_df` that belong to the species `I. versicolor` and `I. virginica`. Store these values in the variables `num_versicolor` and `num_virginica`, respectively. Print out the contents of both variables as shown in Example 8. "
   ]
  },
  {
   "cell_type": "code",
   "execution_count": null,
   "id": "5166d579-dda1-4a52-8fb4-7e66b130177b",
   "metadata": {},
   "outputs": [],
   "source": [
    "# Insert your code for Exercise 8 here\n",
    "\n"
   ]
  },
  {
   "cell_type": "markdown",
   "id": "1986ec9c-1745-4889-824c-8503eb752c29",
   "metadata": {},
   "source": [
    "If your code is correct you should see the following output.\n",
    "\n",
    "`[1] \"Number of Iris versicolor = 50\"` <br>\n",
    "`[1] \"Number of Iris virginica = 50\"`"
   ]
  },
  {
   "cell_type": "markdown",
   "id": "49d29048-6907-476e-b94d-43d6e7aebfff",
   "metadata": {},
   "source": [
    "### Example 9: Generate vectors to hold sepal dimensions by species\n",
    "\n",
    "When using vectors it is necessary to first initialize them so R knows how big (long) the vector should be and what type of values will be stored in it. The code in the cell below utilizes the function `vector()` to initialize 6 different vectors. These 6 vectors will be used later to hold the sepal lengths and sepal widths of all the flowers in the `iris_df` dataframe. Since there are 3 species, we will need a total of 6 vectors to hold the sepal length and sepal width dimensions. The `mode` of these vectors is set to `numeric` since we will be storing numbers. The vectors are named `Xsep_1`, `Ysep_1`, etc. to remind us that the vectors contain **_sepal_** values."
   ]
  },
  {
   "cell_type": "code",
   "execution_count": null,
   "id": "8c36ba46-66a4-4cac-9840-ca9097f351b0",
   "metadata": {},
   "outputs": [],
   "source": [
    "# Example 9: Initialize 6 vectors to hold sepal dimensions \n",
    "\n",
    "# Initialize XY arrays for plotting flowers by species\n",
    "Xsep_1 <- vector(mode=\"numeric\", length=num_setosa - 1)       # X values for setosa\n",
    "Ysep_1 <- vector(mode=\"numeric\", length=num_setosa -1)        # Y values for setosa\n",
    "Xsep_2 <- vector(mode=\"numeric\", length=num_versicolor -1)    # X values for versicolor\n",
    "Ysep_2 <- vector(mode=\"numeric\", length=num_versicolor - 1)   # Y values for versicolor\n",
    "Xsep_3 <- vector(mode=\"numeric\", length=num_virginica  -1)    # X values for virginica\n",
    "Ysep_3 <- vector(mode=\"numeric\", length=num_virginica -1)     # Y values for virginica\n"
   ]
  },
  {
   "cell_type": "markdown",
   "id": "d0d28fb6-6ada-4cfc-a93f-1a97b124a2d7",
   "metadata": {},
   "source": [
    "### **Exercise 9:** Generate vectors to hold petal dimensions by species\n",
    "\n",
    "In the cell below, initialize 6 vectors to hold the _petal_ dimensions for the 3 different Iris species. Using Example 9 as a template, your vectors should be called `Xpet_1`, `Ypet_1`, `Xpet_2`, `Ypet_2`, `Xpet_3` and `Ypet_3`. "
   ]
  },
  {
   "cell_type": "code",
   "execution_count": null,
   "id": "a3648ebf-9ba5-4fc9-ae9a-18dd28cc313c",
   "metadata": {},
   "outputs": [],
   "source": [
    "# Insert your code for Exercise 9 here\n",
    "\n"
   ]
  },
  {
   "cell_type": "markdown",
   "id": "c5d2688b-6eae-4d68-9b5f-5054727bf83a",
   "metadata": {},
   "source": [
    "### Example 10: Extract sepal dimensions according to species\n",
    "\n",
    "The code below extracts the sepal dimensions from `iris_df` into one of the six vectors previously generated in Example 9. Like many programming tasks there are several ways this problem could be solved. The one used here is not especially \"elegant\", but it has the advantage of being easy to understand. \n",
    "\n",
    "The code uses a `while loop` to cycle through the `iris_df` dataframe, one row at a time. The number of the current row is held in the variable `row_num`. This variable starts at $1$, the first row in `iris_df`. After each \"loop\" through the dataframe, the value of `row_num` is increased by $1$ and the loop runs again. This continues until the value of `row_num` equals the number of rows in the dataframe as determined by the function `nrows(iris_df)`. \n",
    "\n",
    "During each loop through the data, species name stored in column 5 is compared to the three species names. If the two names are the same `==`, the logical condition is met and the next two line of code are executed. First, the sepal _length_ stored in `iris_df[row_num, 1]` is placed in the `Xsep` vector for that species. Second, the sepal _width_ stored in `iris_df[row_num, 2]` is placed in the `Ysep` vector for that species. If the condition for `Iris-versicolor` was met, the sepal length and width would be stored in `Xsep_2` and `Ysep_2`.  \n",
    "\n",
    "After the `while` loop has finished, the total number of loops (rows) completed is printed out to verify the code ran correctly.\n"
   ]
  },
  {
   "cell_type": "code",
   "execution_count": null,
   "id": "e9fc53d6-8927-4768-9260-bf4a4c440e85",
   "metadata": {},
   "outputs": [],
   "source": [
    "# Example 10: Separate sepal dimensions by species\n",
    "\n",
    "# Initialize counter variables\n",
    "row_num = 1  # loop counter\n",
    "i = 0        # I setosa counter\n",
    "j = 0        # I versicolor counter\n",
    "k = 0        # I virginica counter\n",
    "totalFlowers = nrow(iris_df)\n",
    "\n",
    "# use while loop to loop through iris_df one row at a time\n",
    "while (row_num < totalFlowers) {\n",
    "    if (iris_df[row_num,5] == 'Iris-setosa'){\n",
    "        # Iris setosa\n",
    "        Xsep_1[i] = iris_df[row_num,1]\n",
    "        Ysep_1[i] = iris_df[row_num,2]\n",
    "        i = i + 1\n",
    "   } else if (iris_df[row_num,5] == ('Iris-versicolor')){\n",
    "        # Iris versicolor\n",
    "        Xsep_2[j] = iris_df[row_num,1]\n",
    "        Ysep_2[j] = iris_df[row_num,2]\n",
    "        j = j + 1\n",
    "   } else if (iris_df[row_num,5] == (\"Iris-virginica\")){\n",
    "        # Iris virginica\n",
    "        Xsep_3[k] = iris_df[row_num,1]\n",
    "        Ysep_3[k] = iris_df[row_num,2]\n",
    "        k = k + 1\n",
    "    }\n",
    "    # Increment row number\n",
    "    row_num = row_num +1\n",
    "}\n",
    "\n",
    "# Print out the total number of loops\n",
    "print(paste(\"The total number of loops=\", row_num))"
   ]
  },
  {
   "cell_type": "markdown",
   "id": "38357a07-c63b-4021-b025-cbbaca6dcf5d",
   "metadata": {},
   "source": [
    "### **Exercise 10:** Extract petal dimensions according to species\n",
    "\n",
    "In the cell below, write the R code to extract the petal dimensions from `iris_df` into one of the six vectors you previously generated in Exercise 9. Remember, the _petal length_ is stored in `iris_df[row_num, 3]` and should be placed in the `Xpet` vector for that species. Also, the _petal width_ is stored in `iris_df[row_num, 4]` and should be placed in the `Ypet` vector for that species. After the `while` loop has finished, print out the number of loops to verify the code ran correctly.   \n"
   ]
  },
  {
   "cell_type": "code",
   "execution_count": null,
   "id": "e3a4c65b-dbf5-468f-b007-4a286db71a22",
   "metadata": {},
   "outputs": [],
   "source": [
    "# Insert your code for Exercise 10 here\n",
    "\n"
   ]
  },
  {
   "cell_type": "markdown",
   "id": "ba14ca21-1d67-477c-9c4d-fd58b43db52a",
   "metadata": {},
   "source": [
    "If your code is correct you should see the following output.\n",
    "\n",
    "`[1] \"The total number of loops= 150\"`"
   ]
  },
  {
   "cell_type": "markdown",
   "id": "58fdd48f-b7fc-473a-8ee9-fe21773745c2",
   "metadata": {},
   "source": [
    "### Example 11: Prepare vectors to plot the centroids of the 3 sepal clusters\n",
    "\n",
    "Before we can generate our XY scatterplot of sepal widths (Y) as a function of sepal lengths (X) we need to prepare two vectors with the co:ordinates of the centroid clusters. These values for the centroid cluster for the _sepal_ data was generated in Example 5. Here is a copy of the Example 5 output:\n",
    "\n",
    "`Cluster means:` <br>\n",
    "`1 sepalLen sepalWid` <br>\n",
    "`2 5.773585 2.692453` <br>\n",
    "`3 5.006000 3.418000` <br>\n",
    "`4 6.812766 3.074468` <br>\n",
    "\n",
    "**NOTE:** These are the centroid centers for the **_sepal_** cluster analysis. The centroids for the _petal_ cluster analysis are different, and can be found as the output of Exercise 5 if you code ran correctly.\n",
    "\n",
    "In the cell below, we create 2 vectors. The first vector, called `CentroidXsepLen`, holds the sepal **lengths** (X-values) for the 3 centroids from the sepal analysis. The second vector called `CentroidYsepLen` holds the sepal **widths** (Y-values) for the 3 centroids. \n",
    "\n",
    "The last line of code prints out the 3 X-values stored in `CentroidXsepLen`. "
   ]
  },
  {
   "cell_type": "code",
   "execution_count": null,
   "id": "d558afc4-0d53-4a14-a8de-60611f42502d",
   "metadata": {},
   "outputs": [],
   "source": [
    "# Example 11: Create vectors to store centroid co:ordinates\n",
    "\n",
    "CentroidXsepLen <-c(5.77,5.01,6.81)    #This vector stores sepalLen\n",
    "CentroidYsepWid <-c(2.69, 3.42, 3.07)  #This vector stores sepalWid\n",
    "CentroidXsepLen"
   ]
  },
  {
   "cell_type": "markdown",
   "id": "28a6c9d8-587e-4d41-8d98-2b7a511a90ec",
   "metadata": {},
   "source": [
    "### **Exercise 11:** Prepare vectors to plot the centroids of the 3 petal clusters\n",
    "\n",
    "In the cell below, create 2 vectors. Call the first vector `CentroidXpetLen` and fill it with the 3 petal **lengths** (X-values) for the 3 centroids from the _petal_ cluster analysis. Call your second vector `CentroidYpetWid` and fill it with the petal **widths** (Y-values) for the 3 centroids for petal width from the _petal_ cluster analysis. Print out the 3 values stored in `CentroidXpetWid`. \n",
    "\n",
    "Remember, the X and Y co:ordinates for centroids were generated above in **_Exercise 5_**."
   ]
  },
  {
   "cell_type": "code",
   "execution_count": null,
   "id": "c40819e2-cfed-4536-afe5-11868e1b577a",
   "metadata": {},
   "outputs": [],
   "source": [
    "# Insert your code for Exercise 11 here\n",
    "\n"
   ]
  },
  {
   "cell_type": "markdown",
   "id": "9e7fc02f-747c-45d0-8d94-9ef93cdb041c",
   "metadata": {},
   "source": [
    "If you code is correct you should see the following output.\n",
    "\n",
    "`1.46·5.59·4.27` "
   ]
  },
  {
   "cell_type": "markdown",
   "id": "538e2772-34e0-41d5-b83c-eeb7b9149ec5",
   "metadata": {},
   "source": [
    "### Example 12: Generate XY Scatterplot of sepal dimensions color-coded by species name\n",
    "\n",
    "We are now ready to generate an XY scatterplot in which the X-value for each point is the sepal length of a particular flower and the point's Y-value is the flower's sepal width. Since we have already separated the XY sepal dimensions by **_species_** in Example 10, it is simple to plot these sepal dimensions using different colors for the three different Iris species. \n",
    "\n",
    "There are several graphics packages for R that could be used to generate these XY scatterplots--the most sophisticated (\"complex\") being a package called `ggplot2`. Instead we will use what is called _base graphics_ that comes embedded in the R language. \n",
    "\n",
    "In the code below, we start by generating a simple XY plot of the sepal dimensions for all of the flowers in `iris_df` that belong to the species _Iris setosa_ using the function `plot()`. \n",
    "\n",
    "The data points in this plot will be colored green. The argument`ylim` is used to set the Y-limits of the plot to the values between 1.5 and 5 while the argument `xlim` sets the X-limits between 4 and 8.5. These values must be adjusted _manually_ to center the data points in the center of the graph. The argument `main` sets the main title of the graph which `xlab` sets the label for the X-axis and `ylab` sets the label for Y-axis. \n",
    "\n",
    "After initial XY plot of _Iris setosa_ sepal data, we _add_ the data points for _Iris versicolor_, _Iris virginica_, and the 3 cluster centroids using the function called `points()`. The data points for _Iris versicolor_ are red, the points for _Iris virginica_ are blue and the centroids are yellow with a black boarder. \n",
    "\n",
    "The code for adding a legend to the graph is shown at the bottom.\n"
   ]
  },
  {
   "cell_type": "code",
   "execution_count": null,
   "id": "bf622807-338d-4d8d-a9f2-4befcacc0ff6",
   "metadata": {},
   "outputs": [],
   "source": [
    "# Example 12: Plot sepal dimensions color-coded by species name\n",
    "\n",
    "# Plot Iris setosa as blue\n",
    "plot(Xsep_1, Ysep_1,\n",
    "     pch = 19,\n",
    "     cex = 1.2,\n",
    "     col = 'blue',\n",
    "     ylim = c(1.5,5),\n",
    "     xlim = c(4,8.5),\n",
    "     main = \"Sepal Dimensions by Species\",\n",
    "     xlab = \"Sepal Length (cm)\",\n",
    "     ylab = \"Sepal Width (cm)\")\n",
    "\n",
    "# Plot Iris versicolor as red\n",
    "points(Xsep_2, Ysep_2,\n",
    "     pch = 19,\n",
    "     cex = 1.2,\n",
    "     col = 'red')\n",
    "\n",
    "# Plot Iris virginica as green\n",
    "points(Xsep_3, Ysep_3,\n",
    "     pch = 19,\n",
    "     cex = 1.2,\n",
    "     col = 'green')\n",
    "\n",
    "# Plot Centroid boarders as black\n",
    "points(CentroidXsepLen, CentroidYsepWid,\n",
    "     pch = 19,\n",
    "     cex = 2.2,\n",
    "     col = 'black')\n",
    "\n",
    "# Plot Centroid centers as yellow\n",
    "points(CentroidXsepLen, CentroidYsepWid,\n",
    "     pch = 19,\n",
    "     cex = 1.5,\n",
    "     col = 'yellow')\n",
    "\n",
    "\n",
    "# Add a legend\n",
    "legend(\"topleft\", legend=c(\"Cluster #1: Iris versicolor\", \n",
    "                           \"Cluster #2: Iris virginica\", \n",
    "                           \"Cluster #3: Iris setosa\", \n",
    "                           \"Centroid\"),\n",
    "       col=c(\"red\", \"green\", \"blue\", \"yellow\"), \n",
    "       pch = 19,\n",
    "       bty = 'n',\n",
    "       lty=1:2, cex=1.2)"
   ]
  },
  {
   "cell_type": "markdown",
   "id": "5f29053f-7973-4849-a6d5-341c86d46f0e",
   "metadata": {},
   "source": [
    "If your code is correct you should see the following graph.\n",
    "\n",
    "![__](Example12.jpg)"
   ]
  },
  {
   "cell_type": "markdown",
   "id": "3c2a1801-9048-4152-9ab5-06927c6d28ce",
   "metadata": {},
   "source": [
    "### Species Identification of the K Clusters\n",
    "\n",
    "Comparing the XY scatterplot above with the _K_-Means Cluster plot generated in Example 6, we can identify the species in the 3 clusters as follows. Cluster numbers (e.g. `Cluster #1`) refers to the `cluster` number in the legend in Example 6. \n",
    "\n",
    "1. Cluster #1: _Iris versicolor_ shown in red on the graph above.\n",
    "2. Cluster #2: _Iris virginca_ shown in green on the graph above.\n",
    "3. Cluster #3: _Iris setosa_ shown in blue on the graph above.\n"
   ]
  },
  {
   "cell_type": "markdown",
   "id": "4576f23d-2192-4e0c-95a4-af9602cb0311",
   "metadata": {},
   "source": [
    "### **Exercise 12:** Generate XY Scatterplot of petal dimensions color-coded by species name\n",
    "\n",
    "In the cell below write the R code to generate an XY plot showing the petal dimensions of the flowers in the dataframe `iris_df`. The data points for _Iris setosa_ should be color-coded blue, the data points for _Iris versicolor_ should be color-coded red, and the data points for _Iris virginica_ should be color-coded green. Also include in your XY plot the 3 centroid cluster centers color-coded yellow with a black boarder. Finally include a legion for your figure.\n",
    "\n",
    "For full credit, don't forget to change the main title, the X-axis label and Y-axis label to match the data in your plot. You will also need to adjust the values in `ylim` and `xlim` in order to center your data points in the middle of your graph."
   ]
  },
  {
   "cell_type": "code",
   "execution_count": null,
   "id": "a5f46a06-6bec-48a9-bfa8-f31c84e104f8",
   "metadata": {},
   "outputs": [],
   "source": [
    "# Insert your code for Exercise 12 here\n",
    "\n"
   ]
  },
  {
   "cell_type": "markdown",
   "id": "c9ea2401-5219-47f9-87b4-4d9d8178b1ab",
   "metadata": {},
   "source": [
    "If your code is correct you should see the following graph.\n",
    "\n",
    "![_](Ex12.jpg)"
   ]
  },
  {
   "cell_type": "markdown",
   "id": "453bf8b1-9841-4649-942f-809442d62d65",
   "metadata": {},
   "source": [
    "# Hierarchical Cluster Analysis\n",
    "\n",
    "In data mining and statistics, hierarchical clustering (also called hierarchical cluster analysis or HCA) is a method of cluster analysis that seeks to build a hierarchy of clusters. Strategies for hierarchical clustering generally fall into two categories:\n",
    "\n",
    "* Agglomerative: This is a \"bottom-up\" approach: Each observation starts in its own cluster, and pairs of clusters are merged as one moves up the hierarchy.\n",
    "* Divisive: This is a \"top-down\" approach: All observations start in one cluster, and splits are performed recursively as one moves down the hierarchy.\n",
    "\n",
    "In general, the merges and splits are determined in a greedy manner. The results of hierarchical clustering are usually presented in a dendrogram.\n",
    "\n",
    "Hierarchical clustering has the distinct advantage that any valid measure of distance can be used. In fact, the observations themselves are not required: all that is used is a matrix of distances. On the other hand, except for the special case of single-linkage distance, none of the algorithms (except exhaustive search in "
   ]
  },
  {
   "cell_type": "markdown",
   "id": "1a1c7518-cea2-4e27-a36d-614d1bacb826",
   "metadata": {},
   "source": [
    "### Example 13: Hierarchical clustering of sepal dimensions\n",
    "\n",
    "The code in the cell below uses the function `hcut()` to perform an Hierarchical clustering analysis of sepal dimensions in the `iris_df` dataframe. It then uses the function `fviz_dend()` to generate a dendogram of the results.\n"
   ]
  },
  {
   "cell_type": "code",
   "execution_count": null,
   "id": "f25897ca-a2a2-4594-9f01-dbb2cdf8bdc8",
   "metadata": {},
   "outputs": [],
   "source": [
    "# Example 13: Hierarchical clustering of sepal dimensions\n",
    "\n",
    "# Use hcut() which compute hclust and cut the tree\n",
    "sepal_hc.cut <- hcut(iris_df[ ,1:2, -5], k = 3, hc_method = \"complete\")\n",
    "\n",
    "# Visualize dendrogram\n",
    "fviz_dend(sepal_hc.cut, \n",
    "          guides = \"none\",\n",
    "          show_labels = FALSE,\n",
    "          main = \"Dendogram of Sepal Dimensions\",\n",
    "          k_colors = c(\"green\", \"red\", \"blue\"),\n",
    "          rect = FALSE)\n",
    "\n"
   ]
  },
  {
   "cell_type": "markdown",
   "id": "05850e9e-050e-494f-8fb6-700782a83ea2",
   "metadata": {},
   "source": [
    "### **Exercise 13:** Hierarchical clustering of petal dimensions\n",
    "\n",
    "Write the R code in the cell to apply the function `hcut()` to _petal_ dimensions in the `iris_df` dataframe. It then uses the function `fviz_dend()` to generate a dendogram of the results.\n"
   ]
  },
  {
   "cell_type": "code",
   "execution_count": null,
   "id": "acb7ce6f-6ef7-4253-a187-b60abe7d34fd",
   "metadata": {},
   "outputs": [],
   "source": [
    "# Hierarchical clustering\n",
    "\n"
   ]
  },
  {
   "cell_type": "markdown",
   "id": "cb87e87a-1d5c-42f7-9ac4-9372cbea28fc",
   "metadata": {},
   "source": [
    "If your code is correct you should see the following graph.\n",
    "\n",
    "![_](Ex13.jpg)"
   ]
  }
 ],
 "metadata": {
  "kernelspec": {
   "display_name": "Python 3 (ipykernel)",
   "language": "python",
   "name": "python3"
  },
  "language_info": {
   "codemirror_mode": {
    "name": "ipython",
    "version": 3
   },
   "file_extension": ".py",
   "mimetype": "text/x-python",
   "name": "python",
   "nbconvert_exporter": "python",
   "pygments_lexer": "ipython3",
   "version": "3.11.5"
  }
 },
 "nbformat": 4,
 "nbformat_minor": 5
}
