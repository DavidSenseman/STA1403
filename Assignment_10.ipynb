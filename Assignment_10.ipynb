{
  "cells": [
    {
      "cell_type": "markdown",
      "metadata": {
        "id": "bLEEW13uCtiJ"
      },
      "source": [
        "<a href=\"https://colab.research.google.com/github/DavidSenseman/STA1403/blob/master/Assignment_10.ipynb\" target=\"_parent\"><img src=\"https://colab.research.google.com/assets/colab-badge.svg\" alt=\"Open In Colab\"/></a>"
      ]
    },
    {
      "cell_type": "markdown",
      "metadata": {
        "id": "5zjpAObhXUZ6"
      },
      "source": [
        "---------------------------\n",
        "**COPYRIGHT NOTICE:** This Jupyterlab Notebook is a Derivative work of [Jeff Heaton](https://github.com/jeffheaton) licensed under the Apache License, Version 2.0 (the \"License\"); You may not use this file except in compliance with the License. You may obtain a copy of the License at\n",
        "\n",
        "> [http://www.apache.org/licenses/LICENSE-2.0](http://www.apache.org/licenses/LICENSE-2.0)\n",
        "\n",
        "Unless required by applicable law or agreed to in writing, software distributed under the License is distributed on an \"AS IS\" BASIS, WITHOUT WARRANTIES OR CONDITIONS OF ANY KIND, either express or implied. See the License for the specific language governing permissions and limitations under the License.\n",
        "\n",
        "------------------------"
      ]
    },
    {
      "cell_type": "markdown",
      "metadata": {
        "id": "a7b9rePEXUZ6"
      },
      "source": [
        "# **STA1403: \"Biostats\"**"
      ]
    },
    {
      "cell_type": "markdown",
      "metadata": {
        "id": "81epkyrwXUZ6"
      },
      "source": [
        "### **Assignment 10: Cluster Analysis**"
      ]
    },
    {
      "cell_type": "markdown",
      "metadata": {
        "jp-MarkdownHeadingCollapsed": true,
        "tags": [],
        "id": "yaKVRWRkXUZ6"
      },
      "source": [
        "#### In this assignment you will learn about:\n",
        "\n",
        "* K-Means Cluster Analysis\n",
        "* Mapping integer values to replace string variables\n",
        "* Using the `dataframe.copy()` method to make a copy of a dataframe.\n",
        "* How to drop specific columns in a dataframe\n",
        "* How to standardize the data\n",
        "* Converting a DataFrame into a NumPy Array\n",
        "* The Elbow Method for selecting estimating the correct K value\n"
      ]
    },
    {
      "cell_type": "markdown",
      "metadata": {
        "id": "yKQylnEiLDUM"
      },
      "source": [
        "### Google CoLab Instructions\n",
        "\n",
        "The following code will map your GDrive to ```/content/drive``` and print out your Google GMAIL address."
      ]
    },
    {
      "cell_type": "code",
      "execution_count": 1,
      "metadata": {
        "colab": {
          "base_uri": "https://localhost:8080/"
        },
        "id": "seXFCYH4LDUM",
        "outputId": "18711c30-cec4-4f71-df9b-0415e30c73b0",
        "scrolled": true
      },
      "outputs": [
        {
          "output_type": "stream",
          "name": "stdout",
          "text": [
            "Mounted at /content/drive\n",
            "Note: using Google CoLab\n",
            "Colab only includes TensorFlow 2.x; %tensorflow_version has no effect.\n",
            "david.senseman@gmail.com\n"
          ]
        }
      ],
      "source": [
        "# You must run this cell second\n",
        "try:\n",
        "    from google.colab import drive\n",
        "    drive.mount('/content/drive', force_remount=True)\n",
        "    from google.colab import auth\n",
        "    auth.authenticate_user()\n",
        "    COLAB = True\n",
        "    print(\"Note: using Google CoLab\")\n",
        "    %tensorflow_version 2.x\n",
        "    import requests\n",
        "    gcloud_token = !gcloud auth print-access-token\n",
        "    gcloud_tokeninfo = requests.get('https://www.googleapis.com/oauth2/v3/tokeninfo?access_token=' + gcloud_token[0]).json()\n",
        "    print(gcloud_tokeninfo['email'])\n",
        "except:\n",
        "    print(\"Note: not using Google CoLab\")\n",
        "    COLAB = False"
      ]
    },
    {
      "cell_type": "markdown",
      "metadata": {
        "tags": [],
        "id": "YYULpdASXUZ7"
      },
      "source": [
        "# **Introduction to Cluster Analysis**\n",
        "\n",
        "**_Cluster analysis_** is a data analysis technique that explores the naturally occurring groups within a data set known as **_clusters_**. Cluster analysis doesn't need to group data points into any predefined groups, which means that it is an **_unsupervised_** learning method. Like regression analysis, cluster analysis is considered a form of **_Machine Learning_** that is one of the main componenets of **_Artifical Intelligence_** or **_AI_**.\n",
        "\n",
        "![__](https://biologicslab.co/STA1403/images/A11/AI.png)\n",
        "\n",
        "The two main forms of Cluster Analysis is **_K-Means Cluster Analysis_** and **_Hierachial Cluster Analysis_**. K-means clustering is the most commonly used unsupervised machine learning algorithm for partitioning a given data set into a set of **_K_** groups (i.e. k clusters), where **_K_** represents the number of groups pre-specified by the analyst. It classifies objects in multiple groups (i.e., _clusters_), such that objects within the same cluster are as similar as possible (i.e., high intra-class similarity), whereas objects from different clusters are as dissimilar as possible (i.e., low inter-class similarity). In k-means clustering, each cluster is represented by its center (i.e, centroid) which corresponds to the mean of points assigned to the cluster.\n",
        "\n",
        "There are two potential problems with the K-means clustering algorithm. First, it is a flat clustering method. After observations are assigned to their clusters, they are all considered to be similar within the same cluster. That is, the observations are not further separated based on dissimilarity within a cluster. Secondly, we need to specify the number of clusters K _a priori_. Finding the appropriate number of clusters is not trivial, and the selected number has a substantial impact on the results.\n",
        "\n",
        "An alternative approach that avoids these issues is **hierarchical clustering**. The result of this method is a dendrogram (a tree). The root of the dendrogram is its highest level and contains all _n_ observations. The leaves of the tree are its lowest level and are each a unique observation.\n",
        "\n",
        "In this lesson, the cluster analysis approach is introducted by using K-Means Cluster analyis to classify three species of the iris flowers based on their petal and sepal lengths. In a future lesson we look at an example of hiearchical cluster analysis."
      ]
    },
    {
      "cell_type": "markdown",
      "source": [
        "### Example 1: Read Datafile and Store in DataFrame\n",
        "\n",
        "The code in the cell below reads the datafile `iris.csv` from the course webserver and stores the information in a new DataFrame called `irisDF`. To check if the DataFrame was created correctly, the first 5 records are displayed."
      ],
      "metadata": {
        "id": "jW25FRqXXtPi"
      }
    },
    {
      "cell_type": "code",
      "execution_count": 2,
      "metadata": {
        "scrolled": true,
        "colab": {
          "base_uri": "https://localhost:8080/",
          "height": 206
        },
        "id": "Asn6FGBLXUZ8",
        "outputId": "3982ce79-6417-481f-bef0-80f04044ea04"
      },
      "outputs": [
        {
          "output_type": "execute_result",
          "data": {
            "text/plain": [
              "   sepal_length  sepal_width  petal_length  petal_width      species\n",
              "0           5.1          3.5           1.4          0.2  Iris-setosa\n",
              "1           4.9          3.0           1.4          0.2  Iris-setosa\n",
              "2           4.7          3.2           1.3          0.2  Iris-setosa\n",
              "3           4.6          3.1           1.5          0.2  Iris-setosa\n",
              "4           5.0          3.6           1.4          0.2  Iris-setosa"
            ],
            "text/html": [
              "\n",
              "  <div id=\"df-d3badd36-edf2-4d8d-94c4-9590e0b30332\" class=\"colab-df-container\">\n",
              "    <div>\n",
              "<style scoped>\n",
              "    .dataframe tbody tr th:only-of-type {\n",
              "        vertical-align: middle;\n",
              "    }\n",
              "\n",
              "    .dataframe tbody tr th {\n",
              "        vertical-align: top;\n",
              "    }\n",
              "\n",
              "    .dataframe thead th {\n",
              "        text-align: right;\n",
              "    }\n",
              "</style>\n",
              "<table border=\"1\" class=\"dataframe\">\n",
              "  <thead>\n",
              "    <tr style=\"text-align: right;\">\n",
              "      <th></th>\n",
              "      <th>sepal_length</th>\n",
              "      <th>sepal_width</th>\n",
              "      <th>petal_length</th>\n",
              "      <th>petal_width</th>\n",
              "      <th>species</th>\n",
              "    </tr>\n",
              "  </thead>\n",
              "  <tbody>\n",
              "    <tr>\n",
              "      <th>0</th>\n",
              "      <td>5.1</td>\n",
              "      <td>3.5</td>\n",
              "      <td>1.4</td>\n",
              "      <td>0.2</td>\n",
              "      <td>Iris-setosa</td>\n",
              "    </tr>\n",
              "    <tr>\n",
              "      <th>1</th>\n",
              "      <td>4.9</td>\n",
              "      <td>3.0</td>\n",
              "      <td>1.4</td>\n",
              "      <td>0.2</td>\n",
              "      <td>Iris-setosa</td>\n",
              "    </tr>\n",
              "    <tr>\n",
              "      <th>2</th>\n",
              "      <td>4.7</td>\n",
              "      <td>3.2</td>\n",
              "      <td>1.3</td>\n",
              "      <td>0.2</td>\n",
              "      <td>Iris-setosa</td>\n",
              "    </tr>\n",
              "    <tr>\n",
              "      <th>3</th>\n",
              "      <td>4.6</td>\n",
              "      <td>3.1</td>\n",
              "      <td>1.5</td>\n",
              "      <td>0.2</td>\n",
              "      <td>Iris-setosa</td>\n",
              "    </tr>\n",
              "    <tr>\n",
              "      <th>4</th>\n",
              "      <td>5.0</td>\n",
              "      <td>3.6</td>\n",
              "      <td>1.4</td>\n",
              "      <td>0.2</td>\n",
              "      <td>Iris-setosa</td>\n",
              "    </tr>\n",
              "  </tbody>\n",
              "</table>\n",
              "</div>\n",
              "    <div class=\"colab-df-buttons\">\n",
              "\n",
              "  <div class=\"colab-df-container\">\n",
              "    <button class=\"colab-df-convert\" onclick=\"convertToInteractive('df-d3badd36-edf2-4d8d-94c4-9590e0b30332')\"\n",
              "            title=\"Convert this dataframe to an interactive table.\"\n",
              "            style=\"display:none;\">\n",
              "\n",
              "  <svg xmlns=\"http://www.w3.org/2000/svg\" height=\"24px\" viewBox=\"0 -960 960 960\">\n",
              "    <path d=\"M120-120v-720h720v720H120Zm60-500h600v-160H180v160Zm220 220h160v-160H400v160Zm0 220h160v-160H400v160ZM180-400h160v-160H180v160Zm440 0h160v-160H620v160ZM180-180h160v-160H180v160Zm440 0h160v-160H620v160Z\"/>\n",
              "  </svg>\n",
              "    </button>\n",
              "\n",
              "  <style>\n",
              "    .colab-df-container {\n",
              "      display:flex;\n",
              "      gap: 12px;\n",
              "    }\n",
              "\n",
              "    .colab-df-convert {\n",
              "      background-color: #E8F0FE;\n",
              "      border: none;\n",
              "      border-radius: 50%;\n",
              "      cursor: pointer;\n",
              "      display: none;\n",
              "      fill: #1967D2;\n",
              "      height: 32px;\n",
              "      padding: 0 0 0 0;\n",
              "      width: 32px;\n",
              "    }\n",
              "\n",
              "    .colab-df-convert:hover {\n",
              "      background-color: #E2EBFA;\n",
              "      box-shadow: 0px 1px 2px rgba(60, 64, 67, 0.3), 0px 1px 3px 1px rgba(60, 64, 67, 0.15);\n",
              "      fill: #174EA6;\n",
              "    }\n",
              "\n",
              "    .colab-df-buttons div {\n",
              "      margin-bottom: 4px;\n",
              "    }\n",
              "\n",
              "    [theme=dark] .colab-df-convert {\n",
              "      background-color: #3B4455;\n",
              "      fill: #D2E3FC;\n",
              "    }\n",
              "\n",
              "    [theme=dark] .colab-df-convert:hover {\n",
              "      background-color: #434B5C;\n",
              "      box-shadow: 0px 1px 3px 1px rgba(0, 0, 0, 0.15);\n",
              "      filter: drop-shadow(0px 1px 2px rgba(0, 0, 0, 0.3));\n",
              "      fill: #FFFFFF;\n",
              "    }\n",
              "  </style>\n",
              "\n",
              "    <script>\n",
              "      const buttonEl =\n",
              "        document.querySelector('#df-d3badd36-edf2-4d8d-94c4-9590e0b30332 button.colab-df-convert');\n",
              "      buttonEl.style.display =\n",
              "        google.colab.kernel.accessAllowed ? 'block' : 'none';\n",
              "\n",
              "      async function convertToInteractive(key) {\n",
              "        const element = document.querySelector('#df-d3badd36-edf2-4d8d-94c4-9590e0b30332');\n",
              "        const dataTable =\n",
              "          await google.colab.kernel.invokeFunction('convertToInteractive',\n",
              "                                                    [key], {});\n",
              "        if (!dataTable) return;\n",
              "\n",
              "        const docLinkHtml = 'Like what you see? Visit the ' +\n",
              "          '<a target=\"_blank\" href=https://colab.research.google.com/notebooks/data_table.ipynb>data table notebook</a>'\n",
              "          + ' to learn more about interactive tables.';\n",
              "        element.innerHTML = '';\n",
              "        dataTable['output_type'] = 'display_data';\n",
              "        await google.colab.output.renderOutput(dataTable, element);\n",
              "        const docLink = document.createElement('div');\n",
              "        docLink.innerHTML = docLinkHtml;\n",
              "        element.appendChild(docLink);\n",
              "      }\n",
              "    </script>\n",
              "  </div>\n",
              "\n",
              "\n",
              "<div id=\"df-e754d101-b04d-42ff-bc89-51d479669f15\">\n",
              "  <button class=\"colab-df-quickchart\" onclick=\"quickchart('df-e754d101-b04d-42ff-bc89-51d479669f15')\"\n",
              "            title=\"Suggest charts\"\n",
              "            style=\"display:none;\">\n",
              "\n",
              "<svg xmlns=\"http://www.w3.org/2000/svg\" height=\"24px\"viewBox=\"0 0 24 24\"\n",
              "     width=\"24px\">\n",
              "    <g>\n",
              "        <path d=\"M19 3H5c-1.1 0-2 .9-2 2v14c0 1.1.9 2 2 2h14c1.1 0 2-.9 2-2V5c0-1.1-.9-2-2-2zM9 17H7v-7h2v7zm4 0h-2V7h2v10zm4 0h-2v-4h2v4z\"/>\n",
              "    </g>\n",
              "</svg>\n",
              "  </button>\n",
              "\n",
              "<style>\n",
              "  .colab-df-quickchart {\n",
              "      --bg-color: #E8F0FE;\n",
              "      --fill-color: #1967D2;\n",
              "      --hover-bg-color: #E2EBFA;\n",
              "      --hover-fill-color: #174EA6;\n",
              "      --disabled-fill-color: #AAA;\n",
              "      --disabled-bg-color: #DDD;\n",
              "  }\n",
              "\n",
              "  [theme=dark] .colab-df-quickchart {\n",
              "      --bg-color: #3B4455;\n",
              "      --fill-color: #D2E3FC;\n",
              "      --hover-bg-color: #434B5C;\n",
              "      --hover-fill-color: #FFFFFF;\n",
              "      --disabled-bg-color: #3B4455;\n",
              "      --disabled-fill-color: #666;\n",
              "  }\n",
              "\n",
              "  .colab-df-quickchart {\n",
              "    background-color: var(--bg-color);\n",
              "    border: none;\n",
              "    border-radius: 50%;\n",
              "    cursor: pointer;\n",
              "    display: none;\n",
              "    fill: var(--fill-color);\n",
              "    height: 32px;\n",
              "    padding: 0;\n",
              "    width: 32px;\n",
              "  }\n",
              "\n",
              "  .colab-df-quickchart:hover {\n",
              "    background-color: var(--hover-bg-color);\n",
              "    box-shadow: 0 1px 2px rgba(60, 64, 67, 0.3), 0 1px 3px 1px rgba(60, 64, 67, 0.15);\n",
              "    fill: var(--button-hover-fill-color);\n",
              "  }\n",
              "\n",
              "  .colab-df-quickchart-complete:disabled,\n",
              "  .colab-df-quickchart-complete:disabled:hover {\n",
              "    background-color: var(--disabled-bg-color);\n",
              "    fill: var(--disabled-fill-color);\n",
              "    box-shadow: none;\n",
              "  }\n",
              "\n",
              "  .colab-df-spinner {\n",
              "    border: 2px solid var(--fill-color);\n",
              "    border-color: transparent;\n",
              "    border-bottom-color: var(--fill-color);\n",
              "    animation:\n",
              "      spin 1s steps(1) infinite;\n",
              "  }\n",
              "\n",
              "  @keyframes spin {\n",
              "    0% {\n",
              "      border-color: transparent;\n",
              "      border-bottom-color: var(--fill-color);\n",
              "      border-left-color: var(--fill-color);\n",
              "    }\n",
              "    20% {\n",
              "      border-color: transparent;\n",
              "      border-left-color: var(--fill-color);\n",
              "      border-top-color: var(--fill-color);\n",
              "    }\n",
              "    30% {\n",
              "      border-color: transparent;\n",
              "      border-left-color: var(--fill-color);\n",
              "      border-top-color: var(--fill-color);\n",
              "      border-right-color: var(--fill-color);\n",
              "    }\n",
              "    40% {\n",
              "      border-color: transparent;\n",
              "      border-right-color: var(--fill-color);\n",
              "      border-top-color: var(--fill-color);\n",
              "    }\n",
              "    60% {\n",
              "      border-color: transparent;\n",
              "      border-right-color: var(--fill-color);\n",
              "    }\n",
              "    80% {\n",
              "      border-color: transparent;\n",
              "      border-right-color: var(--fill-color);\n",
              "      border-bottom-color: var(--fill-color);\n",
              "    }\n",
              "    90% {\n",
              "      border-color: transparent;\n",
              "      border-bottom-color: var(--fill-color);\n",
              "    }\n",
              "  }\n",
              "</style>\n",
              "\n",
              "  <script>\n",
              "    async function quickchart(key) {\n",
              "      const quickchartButtonEl =\n",
              "        document.querySelector('#' + key + ' button');\n",
              "      quickchartButtonEl.disabled = true;  // To prevent multiple clicks.\n",
              "      quickchartButtonEl.classList.add('colab-df-spinner');\n",
              "      try {\n",
              "        const charts = await google.colab.kernel.invokeFunction(\n",
              "            'suggestCharts', [key], {});\n",
              "      } catch (error) {\n",
              "        console.error('Error during call to suggestCharts:', error);\n",
              "      }\n",
              "      quickchartButtonEl.classList.remove('colab-df-spinner');\n",
              "      quickchartButtonEl.classList.add('colab-df-quickchart-complete');\n",
              "    }\n",
              "    (() => {\n",
              "      let quickchartButtonEl =\n",
              "        document.querySelector('#df-e754d101-b04d-42ff-bc89-51d479669f15 button');\n",
              "      quickchartButtonEl.style.display =\n",
              "        google.colab.kernel.accessAllowed ? 'block' : 'none';\n",
              "    })();\n",
              "  </script>\n",
              "</div>\n",
              "\n",
              "    </div>\n",
              "  </div>\n"
            ],
            "application/vnd.google.colaboratory.intrinsic+json": {
              "type": "dataframe",
              "variable_name": "irisDF",
              "summary": "{\n  \"name\": \"irisDF\",\n  \"rows\": 150,\n  \"fields\": [\n    {\n      \"column\": \"sepal_length\",\n      \"properties\": {\n        \"dtype\": \"number\",\n        \"std\": 0.8280661279778629,\n        \"min\": 4.3,\n        \"max\": 7.9,\n        \"num_unique_values\": 35,\n        \"samples\": [\n          6.2,\n          4.5,\n          5.6\n        ],\n        \"semantic_type\": \"\",\n        \"description\": \"\"\n      }\n    },\n    {\n      \"column\": \"sepal_width\",\n      \"properties\": {\n        \"dtype\": \"number\",\n        \"std\": 0.4335943113621737,\n        \"min\": 2.0,\n        \"max\": 4.4,\n        \"num_unique_values\": 23,\n        \"samples\": [\n          2.3,\n          4.0,\n          3.5\n        ],\n        \"semantic_type\": \"\",\n        \"description\": \"\"\n      }\n    },\n    {\n      \"column\": \"petal_length\",\n      \"properties\": {\n        \"dtype\": \"number\",\n        \"std\": 1.7644204199522617,\n        \"min\": 1.0,\n        \"max\": 6.9,\n        \"num_unique_values\": 43,\n        \"samples\": [\n          6.7,\n          3.8,\n          3.7\n        ],\n        \"semantic_type\": \"\",\n        \"description\": \"\"\n      }\n    },\n    {\n      \"column\": \"petal_width\",\n      \"properties\": {\n        \"dtype\": \"number\",\n        \"std\": 0.7631607417008414,\n        \"min\": 0.1,\n        \"max\": 2.5,\n        \"num_unique_values\": 22,\n        \"samples\": [\n          0.2,\n          1.2,\n          1.3\n        ],\n        \"semantic_type\": \"\",\n        \"description\": \"\"\n      }\n    },\n    {\n      \"column\": \"species\",\n      \"properties\": {\n        \"dtype\": \"category\",\n        \"num_unique_values\": 3,\n        \"samples\": [\n          \"Iris-setosa\",\n          \"Iris-versicolor\",\n          \"Iris-virginica\"\n        ],\n        \"semantic_type\": \"\",\n        \"description\": \"\"\n      }\n    }\n  ]\n}"
            }
          },
          "metadata": {},
          "execution_count": 2
        }
      ],
      "source": [
        "# Example 1: Read datafile and store in dataframe\n",
        "\n",
        "import pandas as pd\n",
        "\n",
        "# Read data file\n",
        "irisDF = pd.read_csv(\"https://biologicslab.co/STA1403/data/iris.csv\",\n",
        "                   sep=',')  # define the separator as a comma\n",
        "\n",
        "# Print out the first 6 values.\n",
        "irisDF.head()"
      ]
    },
    {
      "cell_type": "markdown",
      "source": [
        "If the code is correct, you should see the following output:\n",
        "\n",
        "![__](https://biologicslab.co/STA1403/images/A10/assignment_10_image01.png)"
      ],
      "metadata": {
        "id": "lJMhy2QIZfim"
      }
    },
    {
      "cell_type": "markdown",
      "source": [
        "### Example 2: Print Summary Statistics\n",
        "\n",
        "The code in the cell below uses the Pandas method `df.describe()` to print out the summary statistics for the DataFrame `irisDF`."
      ],
      "metadata": {
        "id": "OCdn1ct6aGT_"
      }
    },
    {
      "cell_type": "code",
      "execution_count": 3,
      "metadata": {
        "scrolled": true,
        "colab": {
          "base_uri": "https://localhost:8080/",
          "height": 300
        },
        "id": "Tou3uRCoXUZ8",
        "outputId": "42530b01-3a49-41d1-abf9-4bb122a4064d"
      },
      "outputs": [
        {
          "output_type": "execute_result",
          "data": {
            "text/plain": [
              "       sepal_length  sepal_width  petal_length  petal_width\n",
              "count    150.000000   150.000000    150.000000   150.000000\n",
              "mean       5.843333     3.054000      3.758667     1.198667\n",
              "std        0.828066     0.433594      1.764420     0.763161\n",
              "min        4.300000     2.000000      1.000000     0.100000\n",
              "25%        5.100000     2.800000      1.600000     0.300000\n",
              "50%        5.800000     3.000000      4.350000     1.300000\n",
              "75%        6.400000     3.300000      5.100000     1.800000\n",
              "max        7.900000     4.400000      6.900000     2.500000"
            ],
            "text/html": [
              "\n",
              "  <div id=\"df-c35f9c16-5211-46de-b6ce-33d722c4bbc7\" class=\"colab-df-container\">\n",
              "    <div>\n",
              "<style scoped>\n",
              "    .dataframe tbody tr th:only-of-type {\n",
              "        vertical-align: middle;\n",
              "    }\n",
              "\n",
              "    .dataframe tbody tr th {\n",
              "        vertical-align: top;\n",
              "    }\n",
              "\n",
              "    .dataframe thead th {\n",
              "        text-align: right;\n",
              "    }\n",
              "</style>\n",
              "<table border=\"1\" class=\"dataframe\">\n",
              "  <thead>\n",
              "    <tr style=\"text-align: right;\">\n",
              "      <th></th>\n",
              "      <th>sepal_length</th>\n",
              "      <th>sepal_width</th>\n",
              "      <th>petal_length</th>\n",
              "      <th>petal_width</th>\n",
              "    </tr>\n",
              "  </thead>\n",
              "  <tbody>\n",
              "    <tr>\n",
              "      <th>count</th>\n",
              "      <td>150.000000</td>\n",
              "      <td>150.000000</td>\n",
              "      <td>150.000000</td>\n",
              "      <td>150.000000</td>\n",
              "    </tr>\n",
              "    <tr>\n",
              "      <th>mean</th>\n",
              "      <td>5.843333</td>\n",
              "      <td>3.054000</td>\n",
              "      <td>3.758667</td>\n",
              "      <td>1.198667</td>\n",
              "    </tr>\n",
              "    <tr>\n",
              "      <th>std</th>\n",
              "      <td>0.828066</td>\n",
              "      <td>0.433594</td>\n",
              "      <td>1.764420</td>\n",
              "      <td>0.763161</td>\n",
              "    </tr>\n",
              "    <tr>\n",
              "      <th>min</th>\n",
              "      <td>4.300000</td>\n",
              "      <td>2.000000</td>\n",
              "      <td>1.000000</td>\n",
              "      <td>0.100000</td>\n",
              "    </tr>\n",
              "    <tr>\n",
              "      <th>25%</th>\n",
              "      <td>5.100000</td>\n",
              "      <td>2.800000</td>\n",
              "      <td>1.600000</td>\n",
              "      <td>0.300000</td>\n",
              "    </tr>\n",
              "    <tr>\n",
              "      <th>50%</th>\n",
              "      <td>5.800000</td>\n",
              "      <td>3.000000</td>\n",
              "      <td>4.350000</td>\n",
              "      <td>1.300000</td>\n",
              "    </tr>\n",
              "    <tr>\n",
              "      <th>75%</th>\n",
              "      <td>6.400000</td>\n",
              "      <td>3.300000</td>\n",
              "      <td>5.100000</td>\n",
              "      <td>1.800000</td>\n",
              "    </tr>\n",
              "    <tr>\n",
              "      <th>max</th>\n",
              "      <td>7.900000</td>\n",
              "      <td>4.400000</td>\n",
              "      <td>6.900000</td>\n",
              "      <td>2.500000</td>\n",
              "    </tr>\n",
              "  </tbody>\n",
              "</table>\n",
              "</div>\n",
              "    <div class=\"colab-df-buttons\">\n",
              "\n",
              "  <div class=\"colab-df-container\">\n",
              "    <button class=\"colab-df-convert\" onclick=\"convertToInteractive('df-c35f9c16-5211-46de-b6ce-33d722c4bbc7')\"\n",
              "            title=\"Convert this dataframe to an interactive table.\"\n",
              "            style=\"display:none;\">\n",
              "\n",
              "  <svg xmlns=\"http://www.w3.org/2000/svg\" height=\"24px\" viewBox=\"0 -960 960 960\">\n",
              "    <path d=\"M120-120v-720h720v720H120Zm60-500h600v-160H180v160Zm220 220h160v-160H400v160Zm0 220h160v-160H400v160ZM180-400h160v-160H180v160Zm440 0h160v-160H620v160ZM180-180h160v-160H180v160Zm440 0h160v-160H620v160Z\"/>\n",
              "  </svg>\n",
              "    </button>\n",
              "\n",
              "  <style>\n",
              "    .colab-df-container {\n",
              "      display:flex;\n",
              "      gap: 12px;\n",
              "    }\n",
              "\n",
              "    .colab-df-convert {\n",
              "      background-color: #E8F0FE;\n",
              "      border: none;\n",
              "      border-radius: 50%;\n",
              "      cursor: pointer;\n",
              "      display: none;\n",
              "      fill: #1967D2;\n",
              "      height: 32px;\n",
              "      padding: 0 0 0 0;\n",
              "      width: 32px;\n",
              "    }\n",
              "\n",
              "    .colab-df-convert:hover {\n",
              "      background-color: #E2EBFA;\n",
              "      box-shadow: 0px 1px 2px rgba(60, 64, 67, 0.3), 0px 1px 3px 1px rgba(60, 64, 67, 0.15);\n",
              "      fill: #174EA6;\n",
              "    }\n",
              "\n",
              "    .colab-df-buttons div {\n",
              "      margin-bottom: 4px;\n",
              "    }\n",
              "\n",
              "    [theme=dark] .colab-df-convert {\n",
              "      background-color: #3B4455;\n",
              "      fill: #D2E3FC;\n",
              "    }\n",
              "\n",
              "    [theme=dark] .colab-df-convert:hover {\n",
              "      background-color: #434B5C;\n",
              "      box-shadow: 0px 1px 3px 1px rgba(0, 0, 0, 0.15);\n",
              "      filter: drop-shadow(0px 1px 2px rgba(0, 0, 0, 0.3));\n",
              "      fill: #FFFFFF;\n",
              "    }\n",
              "  </style>\n",
              "\n",
              "    <script>\n",
              "      const buttonEl =\n",
              "        document.querySelector('#df-c35f9c16-5211-46de-b6ce-33d722c4bbc7 button.colab-df-convert');\n",
              "      buttonEl.style.display =\n",
              "        google.colab.kernel.accessAllowed ? 'block' : 'none';\n",
              "\n",
              "      async function convertToInteractive(key) {\n",
              "        const element = document.querySelector('#df-c35f9c16-5211-46de-b6ce-33d722c4bbc7');\n",
              "        const dataTable =\n",
              "          await google.colab.kernel.invokeFunction('convertToInteractive',\n",
              "                                                    [key], {});\n",
              "        if (!dataTable) return;\n",
              "\n",
              "        const docLinkHtml = 'Like what you see? Visit the ' +\n",
              "          '<a target=\"_blank\" href=https://colab.research.google.com/notebooks/data_table.ipynb>data table notebook</a>'\n",
              "          + ' to learn more about interactive tables.';\n",
              "        element.innerHTML = '';\n",
              "        dataTable['output_type'] = 'display_data';\n",
              "        await google.colab.output.renderOutput(dataTable, element);\n",
              "        const docLink = document.createElement('div');\n",
              "        docLink.innerHTML = docLinkHtml;\n",
              "        element.appendChild(docLink);\n",
              "      }\n",
              "    </script>\n",
              "  </div>\n",
              "\n",
              "\n",
              "<div id=\"df-490737a3-5f0c-42c5-aa33-29e75aadca1f\">\n",
              "  <button class=\"colab-df-quickchart\" onclick=\"quickchart('df-490737a3-5f0c-42c5-aa33-29e75aadca1f')\"\n",
              "            title=\"Suggest charts\"\n",
              "            style=\"display:none;\">\n",
              "\n",
              "<svg xmlns=\"http://www.w3.org/2000/svg\" height=\"24px\"viewBox=\"0 0 24 24\"\n",
              "     width=\"24px\">\n",
              "    <g>\n",
              "        <path d=\"M19 3H5c-1.1 0-2 .9-2 2v14c0 1.1.9 2 2 2h14c1.1 0 2-.9 2-2V5c0-1.1-.9-2-2-2zM9 17H7v-7h2v7zm4 0h-2V7h2v10zm4 0h-2v-4h2v4z\"/>\n",
              "    </g>\n",
              "</svg>\n",
              "  </button>\n",
              "\n",
              "<style>\n",
              "  .colab-df-quickchart {\n",
              "      --bg-color: #E8F0FE;\n",
              "      --fill-color: #1967D2;\n",
              "      --hover-bg-color: #E2EBFA;\n",
              "      --hover-fill-color: #174EA6;\n",
              "      --disabled-fill-color: #AAA;\n",
              "      --disabled-bg-color: #DDD;\n",
              "  }\n",
              "\n",
              "  [theme=dark] .colab-df-quickchart {\n",
              "      --bg-color: #3B4455;\n",
              "      --fill-color: #D2E3FC;\n",
              "      --hover-bg-color: #434B5C;\n",
              "      --hover-fill-color: #FFFFFF;\n",
              "      --disabled-bg-color: #3B4455;\n",
              "      --disabled-fill-color: #666;\n",
              "  }\n",
              "\n",
              "  .colab-df-quickchart {\n",
              "    background-color: var(--bg-color);\n",
              "    border: none;\n",
              "    border-radius: 50%;\n",
              "    cursor: pointer;\n",
              "    display: none;\n",
              "    fill: var(--fill-color);\n",
              "    height: 32px;\n",
              "    padding: 0;\n",
              "    width: 32px;\n",
              "  }\n",
              "\n",
              "  .colab-df-quickchart:hover {\n",
              "    background-color: var(--hover-bg-color);\n",
              "    box-shadow: 0 1px 2px rgba(60, 64, 67, 0.3), 0 1px 3px 1px rgba(60, 64, 67, 0.15);\n",
              "    fill: var(--button-hover-fill-color);\n",
              "  }\n",
              "\n",
              "  .colab-df-quickchart-complete:disabled,\n",
              "  .colab-df-quickchart-complete:disabled:hover {\n",
              "    background-color: var(--disabled-bg-color);\n",
              "    fill: var(--disabled-fill-color);\n",
              "    box-shadow: none;\n",
              "  }\n",
              "\n",
              "  .colab-df-spinner {\n",
              "    border: 2px solid var(--fill-color);\n",
              "    border-color: transparent;\n",
              "    border-bottom-color: var(--fill-color);\n",
              "    animation:\n",
              "      spin 1s steps(1) infinite;\n",
              "  }\n",
              "\n",
              "  @keyframes spin {\n",
              "    0% {\n",
              "      border-color: transparent;\n",
              "      border-bottom-color: var(--fill-color);\n",
              "      border-left-color: var(--fill-color);\n",
              "    }\n",
              "    20% {\n",
              "      border-color: transparent;\n",
              "      border-left-color: var(--fill-color);\n",
              "      border-top-color: var(--fill-color);\n",
              "    }\n",
              "    30% {\n",
              "      border-color: transparent;\n",
              "      border-left-color: var(--fill-color);\n",
              "      border-top-color: var(--fill-color);\n",
              "      border-right-color: var(--fill-color);\n",
              "    }\n",
              "    40% {\n",
              "      border-color: transparent;\n",
              "      border-right-color: var(--fill-color);\n",
              "      border-top-color: var(--fill-color);\n",
              "    }\n",
              "    60% {\n",
              "      border-color: transparent;\n",
              "      border-right-color: var(--fill-color);\n",
              "    }\n",
              "    80% {\n",
              "      border-color: transparent;\n",
              "      border-right-color: var(--fill-color);\n",
              "      border-bottom-color: var(--fill-color);\n",
              "    }\n",
              "    90% {\n",
              "      border-color: transparent;\n",
              "      border-bottom-color: var(--fill-color);\n",
              "    }\n",
              "  }\n",
              "</style>\n",
              "\n",
              "  <script>\n",
              "    async function quickchart(key) {\n",
              "      const quickchartButtonEl =\n",
              "        document.querySelector('#' + key + ' button');\n",
              "      quickchartButtonEl.disabled = true;  // To prevent multiple clicks.\n",
              "      quickchartButtonEl.classList.add('colab-df-spinner');\n",
              "      try {\n",
              "        const charts = await google.colab.kernel.invokeFunction(\n",
              "            'suggestCharts', [key], {});\n",
              "      } catch (error) {\n",
              "        console.error('Error during call to suggestCharts:', error);\n",
              "      }\n",
              "      quickchartButtonEl.classList.remove('colab-df-spinner');\n",
              "      quickchartButtonEl.classList.add('colab-df-quickchart-complete');\n",
              "    }\n",
              "    (() => {\n",
              "      let quickchartButtonEl =\n",
              "        document.querySelector('#df-490737a3-5f0c-42c5-aa33-29e75aadca1f button');\n",
              "      quickchartButtonEl.style.display =\n",
              "        google.colab.kernel.accessAllowed ? 'block' : 'none';\n",
              "    })();\n",
              "  </script>\n",
              "</div>\n",
              "\n",
              "    </div>\n",
              "  </div>\n"
            ],
            "application/vnd.google.colaboratory.intrinsic+json": {
              "type": "dataframe",
              "summary": "{\n  \"name\": \"irisDF\",\n  \"rows\": 8,\n  \"fields\": [\n    {\n      \"column\": \"sepal_length\",\n      \"properties\": {\n        \"dtype\": \"number\",\n        \"std\": 51.24711349471842,\n        \"min\": 0.8280661279778629,\n        \"max\": 150.0,\n        \"num_unique_values\": 8,\n        \"samples\": [\n          5.843333333333334,\n          5.8,\n          150.0\n        ],\n        \"semantic_type\": \"\",\n        \"description\": \"\"\n      }\n    },\n    {\n      \"column\": \"sepal_width\",\n      \"properties\": {\n        \"dtype\": \"number\",\n        \"std\": 52.08647211421483,\n        \"min\": 0.4335943113621737,\n        \"max\": 150.0,\n        \"num_unique_values\": 8,\n        \"samples\": [\n          3.0540000000000003,\n          3.0,\n          150.0\n        ],\n        \"semantic_type\": \"\",\n        \"description\": \"\"\n      }\n    },\n    {\n      \"column\": \"petal_length\",\n      \"properties\": {\n        \"dtype\": \"number\",\n        \"std\": 51.835227940958106,\n        \"min\": 1.0,\n        \"max\": 150.0,\n        \"num_unique_values\": 8,\n        \"samples\": [\n          3.758666666666666,\n          4.35,\n          150.0\n        ],\n        \"semantic_type\": \"\",\n        \"description\": \"\"\n      }\n    },\n    {\n      \"column\": \"petal_width\",\n      \"properties\": {\n        \"dtype\": \"number\",\n        \"std\": 52.63663424340991,\n        \"min\": 0.1,\n        \"max\": 150.0,\n        \"num_unique_values\": 8,\n        \"samples\": [\n          1.1986666666666668,\n          1.3,\n          150.0\n        ],\n        \"semantic_type\": \"\",\n        \"description\": \"\"\n      }\n    }\n  ]\n}"
            }
          },
          "metadata": {},
          "execution_count": 3
        }
      ],
      "source": [
        "# Example 2: Print summary statistics\n",
        "\n",
        "import pandas as pd\n",
        "\n",
        "irisDF.describe()"
      ]
    },
    {
      "cell_type": "markdown",
      "source": [
        "If the code is correct, you should see the following output:\n",
        "\n",
        "![__](https://biologicslab.co/STA1403/images/A10/assignment_10_image02.png)"
      ],
      "metadata": {
        "id": "1O0SEi0KawY7"
      }
    },
    {
      "cell_type": "markdown",
      "source": [
        "### Example 3: Generate x-values\n",
        "\n",
        "The code in the cell below creates a numpy array called `irisX` that contains the all of the numerical data in `irisDF` except for the data in the column `species`. These data will be the independent values (x-values) for the analyzes below.\n",
        "\n",
        "The array `irisX` contains measurements for both petal dimensions (petal length, petal width) as well as the sepal dimensions (sepal length, sepal width). The sepal dimensions are accessed as: `irisX[:, 0:2]` while the petal dimensions are accessed as: `irisX[:, 2:4]`."
      ],
      "metadata": {
        "id": "NecrnAAEbzQp"
      }
    },
    {
      "cell_type": "markdown",
      "source": [
        "5.1\t3.5\t1.4\t0.2\tI"
      ],
      "metadata": {
        "id": "rFWm6_y9gVOa"
      }
    },
    {
      "cell_type": "code",
      "execution_count": 20,
      "metadata": {
        "colab": {
          "base_uri": "https://localhost:8080/"
        },
        "id": "7a7f_pdsXUZ8",
        "outputId": "804c60f9-780b-43ca-f9fe-459bed1a7568"
      },
      "outputs": [
        {
          "output_type": "stream",
          "name": "stdout",
          "text": [
            "---Sepal Lengths, Widths for 6 Flowers-------\n"
          ]
        },
        {
          "output_type": "execute_result",
          "data": {
            "text/plain": [
              "array([[5.1, 3.5],\n",
              "       [4.9, 3. ],\n",
              "       [4.7, 3.2],\n",
              "       ...,\n",
              "       [6.5, 3. ],\n",
              "       [6.2, 3.4],\n",
              "       [5.9, 3. ]])"
            ]
          },
          "metadata": {},
          "execution_count": 20
        }
      ],
      "source": [
        "# Example 3: Generate x-values\n",
        "\n",
        "import pandas as pd\n",
        "import numpy as np\n",
        "\n",
        "X_columns = irisDF.columns.drop('species')\n",
        "\n",
        "# Generate x-values as numpy array\n",
        "irisX = irisDF[X_columns].values\n",
        "\n",
        "# Set print options to limit the number of lines to 10\n",
        "np.set_printoptions(threshold=6)\n",
        "\n",
        "# Print header\n",
        "print(\"---Sepal Lengths, Widths for 6 Flowers-------\")\n",
        "\n",
        "# Print out x-values for sepal data\n",
        "irisX[:,0:2]"
      ]
    },
    {
      "cell_type": "markdown",
      "source": [
        "If the code is correct, you should see the following output:\n",
        "\n",
        "~~~text\n",
        "---Sepal Lengths, Widths for 6 Flowers-------\n",
        "array([[5.1, 3.5],\n",
        "       [4.9, 3. ],\n",
        "       [4.7, 3.2],\n",
        "       ...,\n",
        "       [6.5, 3. ],\n",
        "       [6.2, 3.4],\n",
        "       [5.9, 3. ]])\n",
        "~~~"
      ],
      "metadata": {
        "id": "KOkTNT-mdlbe"
      }
    },
    {
      "cell_type": "markdown",
      "source": [
        "### Example 4: Create Array with y-values\n",
        "\n",
        "The code in the cell belows creates a numpy array called `irisY` that contains the y-values for the analyses below.\n"
      ],
      "metadata": {
        "id": "Q_Sc2EuLbM6A"
      }
    },
    {
      "cell_type": "code",
      "execution_count": 6,
      "metadata": {
        "colab": {
          "base_uri": "https://localhost:8080/"
        },
        "id": "n4lAeSubXUZ8",
        "outputId": "f3828131-9ff6-499e-d60c-8ae2c813ce0e"
      },
      "outputs": [
        {
          "output_type": "execute_result",
          "data": {
            "text/plain": [
              "array([0, 0, 0, 0, 0, 0, 0, 0, 0, 0, 0, 0, 0, 0, 0, 0, 0, 0, 0, 0, 0, 0,\n",
              "       0, 0, 0, 0, 0, 0, 0, 0, 0, 0, 0, 0, 0, 0, 0, 0, 0, 0, 0, 0, 0, 0,\n",
              "       0, 0, 0, 0, 0, 0, 1, 1, 1, 1, 1, 1, 1, 1, 1, 1, 1, 1, 1, 1, 1, 1,\n",
              "       1, 1, 1, 1, 1, 1, 1, 1, 1, 1, 1, 1, 1, 1, 1, 1, 1, 1, 1, 1, 1, 1,\n",
              "       1, 1, 1, 1, 1, 1, 1, 1, 1, 1, 1, 1, 2, 2, 2, 2, 2, 2, 2, 2, 2, 2,\n",
              "       2, 2, 2, 2, 2, 2, 2, 2, 2, 2, 2, 2, 2, 2, 2, 2, 2, 2, 2, 2, 2, 2,\n",
              "       2, 2, 2, 2, 2, 2, 2, 2, 2, 2, 2, 2, 2, 2, 2, 2, 2, 2])"
            ]
          },
          "metadata": {},
          "execution_count": 6
        }
      ],
      "source": [
        "# Example 4: Create array with y-values\n",
        "\n",
        "import pandas as pd\n",
        "\n",
        "irisDF_mapped = irisDF.copy()\n",
        "mapping =  {'Iris-setosa': 0,\n",
        "            'Iris-versicolor': 1,\n",
        "            'Iris-virginica': 2}\n",
        "\n",
        "irisDF_mapped['species'] = irisDF_mapped['species'].map(mapping)\n",
        "\n",
        "irisY=irisDF_mapped['species'].values\n",
        "irisY"
      ]
    },
    {
      "cell_type": "markdown",
      "source": [
        "If the code is correct, you should see the following output:\n",
        "\n",
        "~~~text\n",
        "array([0, 0, 0, 0, 0, 0, 0, 0, 0, 0, 0, 0, 0, 0, 0, 0, 0, 0, 0, 0, 0, 0,\n",
        "       0, 0, 0, 0, 0, 0, 0, 0, 0, 0, 0, 0, 0, 0, 0, 0, 0, 0, 0, 0, 0, 0,\n",
        "       0, 0, 0, 0, 0, 0, 1, 1, 1, 1, 1, 1, 1, 1, 1, 1, 1, 1, 1, 1, 1, 1,\n",
        "       1, 1, 1, 1, 1, 1, 1, 1, 1, 1, 1, 1, 1, 1, 1, 1, 1, 1, 1, 1, 1, 1,\n",
        "       1, 1, 1, 1, 1, 1, 1, 1, 1, 1, 1, 1, 2, 2, 2, 2, 2, 2, 2, 2, 2, 2,\n",
        "       2, 2, 2, 2, 2, 2, 2, 2, 2, 2, 2, 2, 2, 2, 2, 2, 2, 2, 2, 2, 2, 2,\n",
        "       2, 2, 2, 2, 2, 2, 2, 2, 2, 2, 2, 2, 2, 2, 2, 2, 2, 2])\n",
        "~~~"
      ],
      "metadata": {
        "id": "7QDCQzmkboC4"
      }
    },
    {
      "cell_type": "markdown",
      "metadata": {
        "tags": [],
        "id": "OlGkLAs0XUZ9"
      },
      "source": [
        "### **Example 1: _K-Means Cluster Analysis_ of the Iris dataset**\n",
        "\n",
        "In this example we will use K-Means Cluster Analysis to separate three species of iris:  _Iris setosa_, _Iris virginica_ and _Iris versicolor_ using the famous **_Iris Data Set_**.\n",
        "\n",
        "The Iris flower data set or **_Fisher's Iris data set_** is a multivariate data set that was used and made famous by the British statistician and biologist Ronald Fisher in his 1936 paper(1). The data set consists of 50 samples from each of three species of Iris (_Iris setosa_, _Iris virginica_ and _Iris versicolor_). The image below shows the flower of each of these species.\n",
        "\n",
        "![__](https://biologicslab.co/STA1403/images/A11/irisSpecies.png)\n",
        "\n",
        "\n",
        "Four features were measured from each iris plant: the length and the width of the sepals and petals, in centimeters.\n",
        "\n",
        "![__](https://biologicslab.co/STA1403/images/A11/SepalPetal.png)\n",
        "\n",
        "In statistics, a **_cluster_** refers to a collection of data points aggregated together because of certain similarities. In this example, flowers of the same species form a cluster since each species has relatively unique combination of petal and sepal lengths and widths. The K-Means Cluster analysis is based on algorithm's movement of **_K centroids_** around the parameter space until each centroid is a close to the center of a cluster as possible.\n",
        "\n",
        "### **The Centroid**\n",
        "\n",
        "A **_centroid_** is the imaginary or real location representing the center of the cluster. If there are 3 clusters, as in this example, there will be 3 centroids, one for each cluster. In mathematics and physics, the _centroid_ (also known as geometric center of a figure), the arithmetic mean position of all the points in the surface of the figure. The ‘means’ in the K-means refers to averaging of the data, that is, finding the centroid.\n",
        "\n",
        "### **How the K-means algorithm works**\n",
        "\n",
        "As mentioned about, K-Means Cluster analysis is a form of **_Machine Learning_**. Your computer performs a series of \"loops\" (_iterations_) in which it is **_learning about the data_**. The K-means algorithm starts with a first group of randomly selected **_K_** centroids--their initial location within the parameter space is randomized--which are used as the beginning points for every cluster. Your computer then performs iterative (repetitive) calculations to optimize the positions of the centroids as close to the center of its respective cluster as possible. To make these calculation manually would take a considerable amount of time and effort on your part. However, these calculations are **_exactly_** this kind of small repetitive task that computers are supremely good at and can perform at blazing speeds.\n",
        "\n",
        "In this example, we will be asking your computer to make up to 300 iterations. In other words, your computer will repeat the K-means computational procedure over and over, and each time, it will apply to the result of the last run to improve the results obtained the next run. On every run, your computer will (hopefully) get closer (better) approximations to the solution of our problem -- separating all 150 iris plants in our sample into 3 clusters, one for each species.\n",
        "\n",
        "The software is smart enough to know when the centroids have stabilized and there is no change in their values because the clustering has been successful. At this point the \"looping\" will stop and the results will be printed out. However, some data is not separable into clusters in which case the program terminates when the number of maximum iterations has been reached."
      ]
    },
    {
      "cell_type": "markdown",
      "metadata": {
        "id": "mNpdEv5KXUZ9"
      },
      "source": [
        "# **Estimating _K_ using the _Elbow Method_**\n",
        "\n",
        "One of the challenges using K-Means analysis is deciding on the number of clusters to look for. In this example we already know that we should be looking for 3 clusters, one for each plant species. But in most cases we won't know how many clusters to look for. Fortunatley, for picking what number to use for **_K_**, there is a widely accepted technique cslled the **_Elbow Method_** that gives an estimate for **_K_**.\n",
        "\n",
        "In the Elbow Method, we are actually varying the number of clusters (K) from 1 – 10. For each value of *_K_*, we are calculating **_WCSS_** (Within-Cluster Sum of Square). WCSS is the sum of the squared distance between each point and the centroid in a cluster. When we plot the WCSS with the K value, the plot looks like an Elbow. As the number of clusters increases, the WCSS value will start to decrease. WCSS value is largest when K = 1. When we analyze the graph, we can see that the graph will rapidly change at a point and thus creating an elbow shape. From this point, the graph moves almost parallel to the X-axis. The K value corresponding to this point is the optimal value of K or an optimal number of clusters.\n",
        "\n",
        "The Python code in the cell below generates a line plot of the WCSS for **_K_** values from 1 to 10."
      ]
    },
    {
      "cell_type": "markdown",
      "source": [
        "### Example 5: Generate Elbow Plot\n",
        "\n",
        "The code in the cell below creates an \"Elbow Plot\". The Elbow Plot is generated using only the sepal dimensions that were stored in `irisX`."
      ],
      "metadata": {
        "id": "CdDLDQU9d8Fl"
      }
    },
    {
      "cell_type": "code",
      "execution_count": 21,
      "metadata": {
        "tags": [],
        "colab": {
          "base_uri": "https://localhost:8080/",
          "height": 472
        },
        "id": "hT2h6uAgXUZ9",
        "outputId": "fb8d3209-9588-422f-a182-05a0537616bb"
      },
      "outputs": [
        {
          "output_type": "display_data",
          "data": {
            "text/plain": [
              "<Figure size 640x480 with 1 Axes>"
            ],
            "image/png": "[encoded data removed]"
          },
          "metadata": {}
        }
      ],
      "source": [
        "# Example 5: Generate Elbow Plot\n",
        "\n",
        "from sklearn.cluster import KMeans\n",
        "from sklearn.datasets import load_iris\n",
        "import matplotlib.pyplot as plt\n",
        "\n",
        "# Use only sepal data\n",
        "sepalX=irisX[:, 0:2]\n",
        "\n",
        "# Create the WCSS Plot against no. of clusters\n",
        "wcss = []\n",
        "for i in range(1, 11):\n",
        "    kmeans = KMeans(n_clusters=i, init='k-means++', max_iter=300, n_init=10, random_state=0)\n",
        "    kmeans.fit(petalX)\n",
        "    wcss.append(kmeans.inertia_)\n",
        "plt.plot(range(1, 11), wcss)\n",
        "plt.title('Elbow Method - Sepal Data')\n",
        "plt.xlabel('Number of Clusters')\n",
        "plt.ylabel('WCSS')\n",
        "plt.show()"
      ]
    },
    {
      "cell_type": "markdown",
      "source": [
        "If the code is correct, you should see the following output:\n",
        "\n",
        "![__](https://biologicslab.co/STA1403/images/A10/assignment_10_image03.png)"
      ],
      "metadata": {
        "id": "WHLukEmRhvCY"
      }
    },
    {
      "cell_type": "markdown",
      "metadata": {
        "id": "4zCzSGs5XUZ9"
      },
      "source": [
        "When we analyze the graph, we can see that the graph will rapidly change at a point and thus creating an elbow shape. From this point, the graph moves almost parallel to the X-axis. The K value corresponding to this point is the optimal value of K or an optimal number of clusters.\n",
        "\n",
        "As expected the Elbow Point for the iris data is K = 3.\n"
      ]
    },
    {
      "cell_type": "markdown",
      "metadata": {
        "id": "xYklR5RzXUZ-"
      },
      "source": [
        "## **K-Means Cluster analysis of the Iris data**\n",
        "\n",
        "The Python package called **_scikit-learn_** provides a number of powerful machine learning functions for Python. In the next code cell we use the scikit-learn function, `KMeans()` to perform the analsys.\n",
        "\n",
        "This function was imported at the beginning of this lesson.\n",
        "\n",
        "`from sklearn.cluster import KMeans`\n",
        "\n",
        "`KMeans()` takes several arguments. The first arugment, `n_clusters` is the number of clusters that we want the algorithm to look for. In this case `n_clusters=3` since that was the result of the Elbow Method. We have also set the maximum iterations, `max_iter`, to be 300 which is a reasonable value.\n",
        "\n",
        "After `KMeans()` has run, we use the graphics program, **_Matlibplot_** (alias `plt`) to generate a graphical outout the results as an X-Y scatterplot."
      ]
    },
    {
      "cell_type": "markdown",
      "source": [
        "### Example 6: Compute Statistics\n",
        "\n",
        "The code in the cell below computes a variety of statistics for the **sepal** dimensions."
      ],
      "metadata": {
        "id": "PbC6iXHzj03I"
      }
    },
    {
      "cell_type": "code",
      "source": [
        "# Example 6: Compute statistics\n",
        "\n",
        "import pandas as pd\n",
        "\n",
        "# Group by species and compute mean sepal length and width\n",
        "grouped = irisDF.groupby('species').mean()\n",
        "\n",
        "# Compute sepal length/width ratios\n",
        "grouped['sepal_ratio'] = grouped['sepal_length'] / grouped['sepal_width']\n",
        "\n",
        "# Print results\n",
        "for species, data in grouped.iterrows():\n",
        "    print(f\"{species} --  mean sepal length = {data['sepal_length']:.3f} mm \"\n",
        "          f\": mean sepal width = {data['sepal_width']:.3f} mm \"\n",
        "          f\": sepal length/width = {data['sepal_ratio']:.3f}\")\n"
      ],
      "metadata": {
        "colab": {
          "base_uri": "https://localhost:8080/"
        },
        "id": "YfktEcHyloxV",
        "outputId": "b77e3fe7-cbf3-4ebe-856e-2c84ea838923"
      },
      "execution_count": 30,
      "outputs": [
        {
          "output_type": "stream",
          "name": "stdout",
          "text": [
            "Iris-setosa --  mean sepal length = 5.006 mm : mean sepal width = 3.418 mm : sepal length/width = 1.465\n",
            "Iris-versicolor --  mean sepal length = 5.936 mm : mean sepal width = 2.770 mm : sepal length/width = 2.143\n",
            "Iris-virginica --  mean sepal length = 6.588 mm : mean sepal width = 2.974 mm : sepal length/width = 2.215\n"
          ]
        }
      ]
    },
    {
      "cell_type": "markdown",
      "source": [
        "If the code is correct, you should see the following output:\n",
        "\n",
        "~~~text\n",
        "Iris-setosa --  mean sepal length = 5.006 mm : mean sepal width = 3.418 mm : sepal length/width = 1.465\n",
        "Iris-versicolor --  mean sepal length = 5.936 mm : mean sepal width = 2.770 mm : sepal length/width = 2.143\n",
        "Iris-virginica --  mean sepal length = 6.588 mm : mean sepal width = 2.974 mm : sepal length/width = 2.215\n",
        "~~~"
      ],
      "metadata": {
        "id": "K3VbwxUZms-G"
      }
    },
    {
      "cell_type": "markdown",
      "source": [
        "### Example 7: Perform Cluster Analysis and Plot Results\n",
        "\n",
        "The code in the cell below performs K-Means Cluster Analysis on the sepal dimensions and generates a scatter plots showing the clusters and their centroids."
      ],
      "metadata": {
        "id": "wUJXVQJzm6DW"
      }
    },
    {
      "cell_type": "code",
      "execution_count": 41,
      "metadata": {
        "tags": [],
        "colab": {
          "base_uri": "https://localhost:8080/",
          "height": 472
        },
        "id": "h1S16kUBXUZ-",
        "outputId": "d9ff5a82-7425-4fdb-c5a4-ec98e1a2a79c"
      },
      "outputs": [
        {
          "output_type": "display_data",
          "data": {
            "text/plain": [
              "<Figure size 640x480 with 1 Axes>"
            ],
            "image/png": "[encoded data removed]"
          },
          "metadata": {}
        }
      ],
      "source": [
        "# Example 7: Perform Cluster Analysis and Plot Results\n",
        "\n",
        "\n",
        "import matplotlib.pyplot as plt\n",
        "import numpy as np\n",
        "\n",
        "# Define X as sepal dimensions\n",
        "X = irisX[:, 0:2]\n",
        "\n",
        "# Train K-Means Clusters\n",
        "kmeans = KMeans(n_clusters=3, init='k-means++', max_iter=300, n_init=10, random_state=0)\n",
        "y_kmeans = kmeans.fit_predict(X)\n",
        "\n",
        "# Create the visualization plot of the clusters\n",
        "plt.scatter(X[y_kmeans == 0, 0], X[y_kmeans == 0, 1], s = 100, c = 'red', label = 'Cluster 1')\n",
        "plt.scatter(X[y_kmeans == 1, 0], X[y_kmeans == 1, 1], s = 100, c = 'blue', label = 'Cluster 2')\n",
        "plt.scatter(X[y_kmeans == 2, 0], X[y_kmeans == 2, 1], s = 100, c = 'green', label = 'Cluster 3')\n",
        "plt.scatter(kmeans.cluster_centers_[:, 0], kmeans.cluster_centers_[:, 1], s = 100, c = 'black', label = 'Centroids')\n",
        "\n",
        "# Print location of average sepal length and width for each species as a star\n",
        "plt.scatter(avgSetosaSepalLen,avgSetosaSepalWid, marker='*', s=500, c='lime', edgecolor='black')\n",
        "plt.scatter(avgVersicolorSepalLen,avgVersicolorSepalWid, marker='*', s=500, c='gold', edgecolor='black')\n",
        "plt.scatter(avgVirginicaSepalLen,avgVirginicaSepalWid, marker='*', s=500, c='lightblue', edgecolor='black')\n",
        "\n",
        "# Print title and labels\n",
        "plt.title('IRIS Clusters - Sepal Data')\n",
        "plt.xlabel('Sepal Length')\n",
        "plt.ylabel('Sepal Width')\n",
        "\n",
        "# Print the legend\n",
        "plt.legend()\n",
        "\n",
        "# Show the plot\n",
        "plt.show()"
      ]
    },
    {
      "cell_type": "markdown",
      "source": [
        "If the code is correct, you should see the following output:\n",
        "\n",
        "![__](https://biologicslab.co/STA1403/images/A10/assignment_10_image04.png)"
      ],
      "metadata": {
        "id": "K3Ju4XHpq6la"
      }
    },
    {
      "cell_type": "markdown",
      "metadata": {
        "id": "A9GnWf2_XUZ-"
      },
      "source": [
        "This scatterplot shows colored 150 data points--one for each iris plant in the sample--as an X-Y pair. The X-value of a pair is the **Sepal Length** of a particular plant, while the Y-value is the **Sepal Width** of the same plant. As you can see by inspection, the K-Means analysis has divided the 150 plants into three different groups (clusters) indicated by their color (blue, red and green). **NOTE:** In the event that you happen to be red-green colorblind, feel free to change the colors in the Python code above to better visualize the data. The X-Y plot also shows the final location of each of the 3 centroids (the center of each cluster) as a black dot.  \n",
        "\n",
        "To assist in assigning a cluster to a particular _Iris_ species, the average (mean) length and width values for each species have been plottes as stars. The lime green color star shows the average length/width for _Iris setosa_, the gold start the average length/width for _Iris versicolor_ and the light blue star for _Iris virginica_.\n",
        "\n",
        "Based on the above scatterplot, we can see that _K_= Means analysis of sepal length and width, Cluster 1 is _Iris versicolor_, Cluster 2 is _Iris virginica_ and Cluster 3 is _Iris setosa_.\n",
        "\n",
        "While KMeans was able to cleanly separate Cluster 1 from Clusters 2 and 3, the technique was less sucessful in separating the second and third cluster from each other. There is no guarantee that any data set can be cleanly separated from one another."
      ]
    },
    {
      "cell_type": "markdown",
      "metadata": {
        "id": "FAlHXcugXUZ-"
      },
      "source": [
        "Based on the above scatterplot, we can see that _K_= Means analysis of sepal length and width, Cluster 1 is _Iris versicolor_, Cluster 2 is _Iris virginica_ and Cluster 3 is _Iris setosa_."
      ]
    },
    {
      "cell_type": "markdown",
      "metadata": {
        "id": "wL1WNbD-XUZ_"
      },
      "source": [
        "### Example 8: Compare Cluster Number\n",
        "\n",
        "Our K-Means Cluster algorithmn seems to have worker perfectly! The 150 datapoints have been assigned to one of three clusters. Let's just check to see if the algorithmn would as perfectly as it appears. We can do this by seeing how many individual plants are in each cluster.\n",
        "\n",
        "We use pandas' `value_counts` method to count the occurrences of each cluster and species, which eliminates the need for manually summing the counts. We then map the species names directly from the target values in the Iris dataset for clarity."
      ]
    },
    {
      "cell_type": "code",
      "source": [
        "# Example 8: Compare cluster numbers\n",
        "\n",
        "import pandas as pd\n",
        "from sklearn.datasets import load_iris\n",
        "from sklearn.cluster import KMeans\n",
        "\n",
        "# Load Iris dataset\n",
        "iris = load_iris()\n",
        "irisDF = pd.DataFrame(iris.data, columns=iris.feature_names)\n",
        "irisDF['species'] = iris.target\n",
        "irisDF['species'] = irisDF['species'].map({0: 'Iris-setosa', 1: 'Iris-versicolor', 2: 'Iris-virginica'})\n",
        "\n",
        "# Perform K-Means clustering\n",
        "kmeans = KMeans(n_clusters=3, random_state=0)\n",
        "irisDF['cluster'] = kmeans.fit_predict(irisDF[iris.feature_names])\n",
        "\n",
        "# Calculate the number of flowers in each cluster\n",
        "numIrisClusters = irisDF['cluster'].value_counts().sort_index()\n",
        "\n",
        "# Print out the number of flowers in each cluster\n",
        "for cluster in range(3):\n",
        "    print(f\"Total number of flowers in Cluster {cluster + 1} = {numIrisClusters[cluster]}\")\n",
        "\n",
        "# Calculate the number of flowers in each species\n",
        "numIrisSpecies = irisDF['species'].value_counts()\n",
        "\n",
        "# Print out the number of flowers in each species\n",
        "for species in numIrisSpecies.index:\n",
        "    print(f\"Total number of {species} flowers = {numIrisSpecies[species]}\")\n",
        "\n",
        "# Calculate the total number of flowers in the dataset\n",
        "totalIrisFlowers = len(irisDF)\n",
        "\n",
        "# Print out the total number of flowers in the dataset\n",
        "print(f\"Total number of flowers in the Iris flower data = {totalIrisFlowers}\")\n"
      ],
      "metadata": {
        "colab": {
          "base_uri": "https://localhost:8080/"
        },
        "id": "IghAh4xdtWOK",
        "outputId": "bf4d06f7-27a7-4361-bf87-c46bf627a8b3"
      },
      "execution_count": 45,
      "outputs": [
        {
          "output_type": "stream",
          "name": "stdout",
          "text": [
            "Total number of flowers in Cluster 1 = 61\n",
            "Total number of flowers in Cluster 2 = 50\n",
            "Total number of flowers in Cluster 3 = 39\n",
            "Total number of Iris-setosa flowers = 50\n",
            "Total number of Iris-versicolor flowers = 50\n",
            "Total number of Iris-virginica flowers = 50\n",
            "Total number of flowers in the Iris flower data = 150\n"
          ]
        }
      ]
    },
    {
      "cell_type": "markdown",
      "source": [
        "If the code is correct, you should see the following output:\n",
        "\n",
        "~~~text\n",
        "Total number of flowers in Cluster 1 = 61\n",
        "Total number of flowers in Cluster 2 = 50\n",
        "Total number of flowers in Cluster 3 = 39\n",
        "Total number of Iris-setosa flowers = 50\n",
        "Total number of Iris-versicolor flowers = 50\n",
        "Total number of Iris-virginica flowers = 50\n",
        "Total number of flowers in the Iris flower data = 150\n",
        "~~~"
      ],
      "metadata": {
        "id": "WW2BcLL6ufZc"
      }
    },
    {
      "cell_type": "markdown",
      "metadata": {
        "id": "Nrt1SWiuXUZ_"
      },
      "source": [
        "## **Oops! Something is not quite right!**\n",
        "\n",
        "The number of flowers in each cluster doesn't exactly match the number of flowers in each species. The actual _Iris_ flower dataset had a total of `150` flowers, with `50` flowers from each species. Our K-Means Cluster analysis did identify `50` flowers belonging to Cluster 2, but it put `61` flowers in Cluster 1 and only `39` flowers in Cluster 2.\n",
        "\n",
        "We'll need to further investigate this discrepancy."
      ]
    },
    {
      "cell_type": "markdown",
      "source": [
        "# **Exercises for Assignment_10**\n",
        "\n",
        "The **Exercises** for Assignment_10 is to simply repeat **_all_** of the Examples above, but instead of focusing on sepal length and width, focus instead on petal length and width.\n",
        "\n",
        "### **WARNING**\n",
        "\n",
        "You will receive only 1 Bonus Point for completing on the Examples. To earn all 10 Bonus Points, you will have to complete all corresponding **Exercises**."
      ],
      "metadata": {
        "id": "5L3HUaCqvujn"
      }
    },
    {
      "cell_type": "markdown",
      "metadata": {
        "tags": [],
        "id": "p8p_RpUKXUaI"
      },
      "source": [
        "## **Lesson Turn In**\n",
        "\n",
        "When you have completed all of the exercises and run **every** cell in this assignment, print out a PDF copy and upload it to Canvas. Your PDF should be called \"Assignment_10_Lastname.pdf\" where _Lastname_ is your last name.,"
      ]
    }
  ],
  "metadata": {
    "kernelspec": {
      "display_name": "Python 3.9 (biostats)",
      "language": "python",
      "name": "biostats"
    },
    "language_info": {
      "codemirror_mode": {
        "name": "ipython",
        "version": 3
      },
      "file_extension": ".py",
      "mimetype": "text/x-python",
      "name": "python",
      "nbconvert_exporter": "python",
      "pygments_lexer": "ipython3",
      "version": "3.9.19"
    },
    "colab": {
      "provenance": []
    }
  },
  "nbformat": 4,
  "nbformat_minor": 0
}