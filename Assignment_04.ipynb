{
 "cells": [
  {
   "cell_type": "markdown",
   "metadata": {
    "id": "bLEEW13uCtiJ"
   },
   "source": [
    "<a href=\"https://colab.research.google.com/github/DavidSenseman/STA1403/blob/master/Assignment_04.ipynb\" target=\"_parent\"><img src=\"https://colab.research.google.com/assets/colab-badge.svg\" alt=\"Open In Colab\"/></a>"
   ]
  },
  {
   "cell_type": "markdown",
   "metadata": {},
   "source": [
    "---------------------------\n",
    "**COPYRIGHT NOTICE:** This Jupyterlab Notebook is a Derivative work of [Jeff Heaton](https://github.com/jeffheaton) licensed under the Apache License, Version 2.0 (the \"License\"); You may not use this file except in compliance with the License. You may obtain a copy of the License at\n",
    "\n",
    "> [http://www.apache.org/licenses/LICENSE-2.0](http://www.apache.org/licenses/LICENSE-2.0)\n",
    "\n",
    "Unless required by applicable law or agreed to in writing, software distributed under the License is distributed on an \"AS IS\" BASIS, WITHOUT WARRANTIES OR CONDITIONS OF ANY KIND, either express or implied. See the License for the specific language governing permissions and limitations under the License.\n",
    "\n",
    "------------------------"
   ]
  },
  {
   "cell_type": "markdown",
   "metadata": {},
   "source": [
    "# **STA1403: \"Biostats\"**"
   ]
  },
  {
   "cell_type": "markdown",
   "metadata": {},
   "source": [
    "## **Assignment_04: Random Variables**"
   ]
  },
  {
   "cell_type": "markdown",
   "metadata": {
    "tags": []
   },
   "source": [
    "#### In this assignment you will learn about:\n",
    "\n",
    "* The Bernoulli Distribution\n",
    "* Plotting histograms using matplotlib\n",
    "* The Bionomial Distribution\n",
    "* The Poisson Distribution\n",
    "* The Nornmal Distribution\n",
    "* Student's _t_-Distribution\n",
    "* Cumulative Distribution Function (CDF)"
   ]
  },
  {
   "cell_type": "markdown",
   "metadata": {
    "id": "yKQylnEiLDUM"
   },
   "source": [
    "### Google CoLab Instructions\n",
    "\n",
    "The following code will map your GDrive to ```/content/drive``` and print out your Google GMAIL address."
   ]
  },
  {
   "cell_type": "code",
   "execution_count": null,
   "metadata": {
    "colab": {
     "base_uri": "https://localhost:8080/"
    },
    "id": "seXFCYH4LDUM",
    "outputId": "c05015aa-871e-4779-9265-5ad07e8bf617",
    "scrolled": true
   },
   "outputs": [],
   "source": [
    "# You must run this cell second\n",
    "try:\n",
    "    from google.colab import drive\n",
    "    drive.mount('/content/drive', force_remount=True)\n",
    "    from google.colab import auth\n",
    "    auth.authenticate_user()\n",
    "    COLAB = True\n",
    "    print(\"Note: using Google CoLab\")\n",
    "    %tensorflow_version 2.x\n",
    "    import requests\n",
    "    gcloud_token = !gcloud auth print-access-token\n",
    "    gcloud_tokeninfo = requests.get('https://www.googleapis.com/oauth2/v3/tokeninfo?access_token=' + gcloud_token[0]).json()\n",
    "    print(gcloud_tokeninfo['email'])\n",
    "except:\n",
    "    print(\"Note: not using Google CoLab\")\n",
    "    COLAB = False"
   ]
  },
  {
   "cell_type": "markdown",
   "metadata": {},
   "source": [
    "### Install Software Packages\n",
    "\n",
    "Run the next code cell to load necessary software packages for this assignment."
   ]
  },
  {
   "cell_type": "code",
   "execution_count": null,
   "metadata": {},
   "outputs": [],
   "source": [
    "# Install Software Packages\n",
    "\n",
    "import numpy as np\n",
    "from scipy import stats\n",
    "from scipy.stats import binom     # binomial distribution\n",
    "from scipy.stats import poisson   # poisson distribution\n",
    "from scipy.stats import norm      # normal distribution\n",
    "from scipy.stats import t         # Student's t distribution\n",
    "import matplotlib.pyplot as plt"
   ]
  },
  {
   "cell_type": "markdown",
   "metadata": {},
   "source": [
    "# **Bernoulli Distribution**\n",
    "\n",
    "Binary random variables are abundant in scientific studies. Examples include disease status (healthy and diseased), gender (male and female), survival status (dead, survived), and a gene with two possible alleles (A and a). We usually regard one of the values as the outcome of interest and denote it as X = 1. The other outcome is denoted as X = 0. As before, the probabilities for all possible values sum to one:\n",
    "P(X = 0)+P(X = 1) = 1.\n",
    "\n",
    "The binary random variable X with possible values 0 and 1 has a Bernoulli distribution with parameter θ , where P(X = 1) = θ and P(X = 0) = 1 − θ. We denote this as X ∼ Bernoulli(θ), where 0 ≤ θ ≤ 1."
   ]
  },
  {
   "cell_type": "markdown",
   "metadata": {},
   "source": [
    "The probability mass function for a Bernoulli distribution is:\n",
    "\n",
    "\\begin{equation}\n",
    "    f(k;p) =\n",
    "    \\left\\{\n",
    "        \\begin{array}{cc}\n",
    "                p & \\mathrm{if\\ } k=1 \\\\\n",
    "                1-p & \\mathrm{if\\ } k=0 \\\\\n",
    "        \\end{array} \n",
    "    \\right.\n",
    "\\end{equation}"
   ]
  },
  {
   "cell_type": "markdown",
   "metadata": {},
   "source": [
    "### Example 1: Bernoulli PDF with a Probability _p_ = 0.80\n",
    "\n",
    "The Python code in the cell below shows how to create **Fig. 5.1** in your textbook. This is a histogram showing the Probability Density Function (PDF) for a Bernoulli Distribution with a probabilty of 0.80. The Bernoulli Distribution is actually a special case of the more general _Binomial Distribution_ (see below) where the number of trials is equal to 1, as for example, in a coin-flip. \n",
    "\n",
    "The code first uses Ptyhon's `list(range()` to generate two x values, `0` and `1`. The code then uses the `binom.pmf()` function (from the `scipy.stats` library). The syntax for using dbinom is as follows: `dbinom(x, size, prob)`. This function computes the probability density function (pdf) for a binomial distribution with a certain random variable `x`, the number of trials (`numTrials`) and probability of success on each trial (`probSuccess`). \n",
    "\n",
    "We will use Python's matplotlib graphics function `plt()` to create a histogram of the PDF. This figure is equivalent to Fig. 5.1 in your textbook."
   ]
  },
  {
   "cell_type": "code",
   "execution_count": null,
   "metadata": {},
   "outputs": [],
   "source": [
    "# Example 1: Plot Bernoulli (0.8) PDF\n",
    "\n",
    "# Define distribution\n",
    "numTrials = 1        # Bernoulli is only 1 trial\n",
    "probSuccess = 0.8    # Probability of success\n",
    "\n",
    "# Create list of x values \n",
    "x_values = list(range(numTrials + 1))  \n",
    "\n",
    "# Compute the bionomial pmf value for each value of x\n",
    "dist = [binom.pmf(x, numTrials, probSuccess) for x in x_values] \n",
    "\n",
    "# Plot the graph\n",
    "# Plot the balls at the top of each line\n",
    "plt.plot(x_values, dist, 'ko', ms=4)\n",
    "\n",
    "# Plot the vertical lines to each ball\n",
    "plt.vlines(x_values, 0, dist, colors='k', linestyles='-', linewidth=0.5) \n",
    "\n",
    "# Plot a zero dotted horizontal line \n",
    "plt.hlines(0, -0.1, 1.1, color='black', linestyle='dotted', linewidth=0.8)\n",
    "\n",
    "# Label the plot\n",
    "# Title\n",
    "plt.title('Bernoulli (0.8) Distribution', fontsize='12')\n",
    "# X-axis\n",
    "plt.xlabel('X', fontsize='12')\n",
    "# Y-axis\n",
    "plt.ylabel('Probability Mass', fontsize='12')\n",
    "\n",
    "# Show the plot\n",
    "plt.show()"
   ]
  },
  {
   "cell_type": "markdown",
   "metadata": {},
   "source": [
    "If the code is correct, your should see the following graph:\n",
    "\n",
    "![__](https://biologicslab.co/STA1403/images/A04/A04_Image_01.png)"
   ]
  },
  {
   "cell_type": "markdown",
   "metadata": {},
   "source": [
    "The figure above shows the plot of pmf for  the Bernoulli(0.8) distribution. The height of each bar is the probability of the corresponding value on the horizontal axis. The height of the bar is 0.2 at X=0 and 0.8 at X=1. Since the probabilities for all possible values of the random variable add to 1, the bar heights also add up to 1.\n",
    "\n",
    "In the above example, μ = 0.8. Therefore, we expect 80% of patients survive. The variance of the random variable is σ<sup>2</sup> = 0.8 × 0.2 = 0.16, and its standard deviation is σ = 0.4. This reflects the extent of variability in survival status from one person to another. For this example, the amount of variation is rather small. Therefore, we expect to see many survivals (X = 1) with occasional death (X = 0)."
   ]
  },
  {
   "cell_type": "markdown",
   "metadata": {},
   "source": [
    "### **Exercise 1: Bernoulli PDF with a Probability _p_ = 0.60**\n",
    "\n",
    "Suppose that the probability of survival for bladder cancer is θ = 0.6. Then, the variance becomes σ<sup>2</sup> = 0.6×(1−0.6) = 0.24. This reflects a higher variability in the survival status for bladder cancer patients compared to that of breast cancer patients.\n",
    "\n",
    "In the cell below write the Python code to create a histogram showing the Probability Density Function (PDF) for a Bernoulli Distribution with a probabilty of 0.60. Make sure to label your histogram correctly."
   ]
  },
  {
   "cell_type": "code",
   "execution_count": null,
   "metadata": {},
   "outputs": [],
   "source": [
    "# Insert your code for Exercise 1 here\n",
    "\n",
    "\n"
   ]
  },
  {
   "cell_type": "markdown",
   "metadata": {},
   "source": [
    "If your code is correct you should have see the following:\n",
    "\n",
    "![__](https://biologicslab.co/STA1403/images/A04/Bern6A.png)\n",
    "\n",
    "Again, there is a higher variability in the survival status for bladder cancer patients compared to that of breast cancer patients."
   ]
  },
  {
   "cell_type": "markdown",
   "metadata": {},
   "source": [
    "# **Binomial Distribution**"
   ]
  },
  {
   "cell_type": "markdown",
   "metadata": {},
   "source": [
    "A sequence of binary random variables $X_{1},X_{2}, . . . , X_{n}$ is called Bernoulli trials if they all have the same Bernoulli distribution (i.e., the same probability θ for the outcome of interest) and are independent (i.e., not affecting each other’s probabilities).\n",
    "\n",
    "For example, suppose that we plan to recruit a group of 50 patients with breast cancer and study their survival within five years from diagnosis. We represent the survival status for these patient by a set of Bernoulli random variables $X_{1}, . . . , X_{50}$. (For each patient, the outcome is either 0 or 1). \n",
    "\n",
    "Assuming that all patients have the same survival probability, $θ = 0.80$, and the survival status of one patient does not affect the probability of survival for another patient, $X_{1}, . . . , X_{50}$ form a set of 50 Bernoulli trials.\n",
    "\n",
    "Now we can create a new random variable $Y$ representing the number of patients out of 50 who survived for five years. The number of survivals is the number of 1s in the set of Bernoulli trials. This is the same as the sum of Bernoulli trials, whose values are either 0 or 1:\n",
    "\n",
    "$$Y=\\sum_{i}^{n} X_{i}$$ \n",
    "\n",
    "where $X_{i}$ = 1 if the ith patient survived and $X_{i}$= 0 otherwise.\n",
    "\n",
    "Since $Y$ can be any integer number from 0 (no one survives) through 1 (everyone survives), its range is {0, 1, . . . , 50}. The range is a countable set. Therefore, the random variable Y is discrete. The distribution of Y is a binomial distribution, shown as $$Y ∼ Binomial(50, 0.05)$$."
   ]
  },
  {
   "cell_type": "markdown",
   "metadata": {},
   "source": [
    "## Example 2: PDF of a Binomial (50,0.8) Distribution\n",
    "\n",
    "The pmf of a binomial(n, θ) specifies the probability of each possible value (integers from 0 through n) of the random variable. For the breast cancer example the pmf of Binomial(50, 0.8) distribution specifies the probability of 0 through 50 survivals.\n",
    "\n",
    "The Python code in the cell below again uses the `binom.pmf()` function, but this time to generate a _Binomial_ Distribution. As explained above, the difference is simply the number of trials. In a Bernoulli Distribution we are only interested in the results of a **_single_** trial, while with a Binomial Distribution, we are concerned with the results when there are **_more than one_** trial. \n",
    "\n",
    "In the example below we what to know what is the probability of a seeing a certain number of successes when there are 50 trials at a probability of 0.80. In other words, how likely would we see 40 successes and 10 failures in 50 trials (very likely) or instead, only 30 successes and 20 failures in these 50 trials (very unlikely).  \n",
    "\n",
    "Again, we use Python's matplotlib graphics `plot()` to plot a histogram of successes. However, to improve the appearance of the histogram we have added a new argument `xlim = (30,48)`. As you might have guessed, this arguments _limits_ the x values beting plotted to only x values between 30 and 48. It is also necessary to change the x-coordinates of the zero horizontal dotted line at the bottom of the histogram to match the values in `xlim`. \n",
    "\n",
    "If you are curious, you might want to see what the histogram looks like if you leave out this argument.   "
   ]
  },
  {
   "cell_type": "code",
   "execution_count": null,
   "metadata": {},
   "outputs": [],
   "source": [
    "# Example 2 - Plot Binomial PMF for 50 trials and a probability of success of 0.80\n",
    "\n",
    "# Define distribution\n",
    "numTrials = 50        # Number of trials in binomial\n",
    "probSuccess = 0.8     # Probability of success\n",
    "\n",
    "# Create list of x values \n",
    "x_values = list(range(numTrials + 1))\n",
    "\n",
    "# Calculate list of pmf values for bionomial distribution \n",
    "dist = [binom.pmf(x, numTrials, probSuccess) for x in x_values] \n",
    "\n",
    "# Plot the graph\n",
    "# Only plot values between 30 and 48\n",
    "plt.xlim(30,48)\n",
    "\n",
    "# Plot the balls at the top of each line\n",
    "plt.plot(x_values, dist, 'ko', ms=3)\n",
    "\n",
    "# Plot the vertical lines to each ball\n",
    "plt.vlines(x_values, 0, dist, colors='k', linestyles='-', linewidth=0.5) \n",
    "\n",
    "# Plot a zero dotted horizontal line \n",
    "plt.hlines(0, 30, 48, color='black', linestyle='dotted', linewidth=0.8)\n",
    "\n",
    "# Label the plot\n",
    "plt.title('Binomial (0.5) Distribution', fontsize='12')   # Title\n",
    "plt.xlabel('Y', fontsize='12')   # X-axis\n",
    "plt.ylabel('Probability Mass', fontsize='12')   # Y-axis\n",
    "\n",
    "# Show the plot\n",
    "plt.show()"
   ]
  },
  {
   "cell_type": "markdown",
   "metadata": {},
   "source": [
    "This histogram is equivalent to **Fig. 5.2** in your textbook. The graph illustrates the probabilities for different possible valued of Y. As before, the height of each bar is the probability of the corresponding value on the x-axis. For example, the probability of 35 survivals (out of 50) is 0.03, and the probability of 36 survivals  is 0.05. Also, since the probabilities for all possible values of the random variable add to 1, the bar heights add up to 1. Note that even though Y can take integer\n",
    "values from 0 to 50, the plot does not show numbers below 30 and above 48 since the probability of these values is almost zero. For example, for the given survival probability, it is extremely unlikely to have only 10 survivals."
   ]
  },
  {
   "cell_type": "markdown",
   "metadata": {},
   "source": [
    "## **Exercise 2: PDF of a Binomial (256,0.5) Distribution**\n",
    " \n",
    "In the cell below, write the Python code to generate a Binomial Distribution with 256 trials and a probability of success of 0.5. Show your distribution as a histogram and plot only the x values between 90 and 160. Make sure to adjust the x-coordinates of the horizontal dotted-line."
   ]
  },
  {
   "cell_type": "code",
   "execution_count": null,
   "metadata": {},
   "outputs": [],
   "source": [
    "# Insert your code for Exercise 2 here\n",
    "\n",
    "\n"
   ]
  },
  {
   "cell_type": "markdown",
   "metadata": {},
   "source": [
    "If your code is correct you should have see the following:\n",
    "\n",
    "![__](https://biologicslab.co/STA1403/images/A04/Binom256.png)\n",
    "\n",
    "You should notice that as the number of trials becomes large, the PDF of the Binomial Distribution looks more and more like a \"bell-shaped curve\". As we will discuss later, as the number of trials approaches infinity, the Binomial Distribution actually **_becomes_** a Normal Distribution. "
   ]
  },
  {
   "cell_type": "markdown",
   "metadata": {
    "tags": []
   },
   "source": [
    "# **Poisson Distribution**\n",
    "\n",
    "While a random variable with a Binomial(n, θ ) distribution is a count variable (e.g., number of people survived), its range is restricted to include integers from 0 through _n_ only. For example, the number of survivals in a group of _n_ = 50 cancer patients cannot exceed 50. Now, suppose that we are investigating the number of physician visits for each person in one year. Although very large numbers such as 100 are quite unlikely, there is no theoretical and prespecified upper limit to this random variable. Theoretically, its range is the set of all nonnegative integers. As another example, consider the number of trees per square mile in a certain region. Again, although spatial limits make very large numbers unlikely, there is no theoretical and prespecified limit for the possible values of the random variable.\n",
    "\n",
    "Random variables representing counts within temporal and/or spacial limits but without prespecified upper limits are often assumed to have **_Poisson_** distributions. The range of these variables is the set of all nonnegative integers (i.e., the lower limit is zero, but there is no upper limit). A Poisson distribution is specified by a parameter λ, which is interpreted as the rate of occurrence within a time period or space limit. We show this as\n",
    "\n",
    "$$X ∼ Poisson(λ)$$ \n",
    "\n",
    "where λ is a positive real number (λ>0). The mean and variance of a random variable with Poisson(λ) distribution are the same and equal to λ. That is, μ = λ and σ2 = λ.\n"
   ]
  },
  {
   "cell_type": "markdown",
   "metadata": {
    "tags": []
   },
   "source": [
    "## Example 3: PDF of a Poisson (2.5) Distribution\n",
    "\n",
    "As an example, assume that the rate of physician visits per year is 2.5: X∼Poisson(2.5). The population mean and variance of this variable is therefore 2.5. We can use Python to plot the corresponding pmf for this distribution.\n",
    "\n",
    "The Python code in the cell below uses Python's `poisson()` function to generate _random variable_ called `rv` with a _Poisson_ distibution having the mean number of events set at lamda. The code then creates a list of `x` values according to the probability mass function. This probability mass function is:\n",
    "\n",
    "\n",
    "$$ f(x)=\\dfrac{e^{-\\lambda} \\lambda^x}{x!} $$\n",
    " \n",
    "for x = 0, 1, 2, x=0,1,2,... and λ > 0\n",
    "\n",
    "In thia example we set λ = 2.5 and the number of trials equal to 100. \n",
    "\n",
    "Again, we use the `matplotlib` graphics library `plot()` function to plot a histogram of successes. However, to improve the appearance of the histogram, the argument `plt.xlim = (0,10)` has been added to limit the range of the x values. "
   ]
  },
  {
   "cell_type": "code",
   "execution_count": null,
   "metadata": {},
   "outputs": [],
   "source": [
    "# Example 3: Plot PDF of a Poisson (2.5) distribution\n",
    "\n",
    "# Define distribution\n",
    "numTrials = 1000      # number of trials\n",
    "lamda = 2.5             # mean number of events\n",
    "\n",
    "# Create Poisson random variable\n",
    "rv = poisson(lamda) \n",
    "\n",
    "# Create list of x values \n",
    "x = np.arange(0, np.minimum(rv.dist.b, numTrials))\n",
    "\n",
    "# Plot the graph\n",
    "# Only plot values between -0.5 and 10.5\n",
    "plt.xlim(-0.5,10.5)\n",
    "\n",
    "# Plot the balls at the top of each line\n",
    "plt.plot(rv.pmf(x), 'ko', ms=3)\n",
    "\n",
    "# Plot the vertical lines to each ball\n",
    "plt.vlines(x, 0, rv.pmf(x), colors='k', linestyles='-', lw=0.5) \n",
    "\n",
    "# Plot a zero dotted horizontal line \n",
    "plt.hlines(0, -0.5, 10.5, color='black', linestyle='dotted', linewidth=0.8)\n",
    "\n",
    "# Label the plot\n",
    "plt.title('Poisson (2.5) Distribution', fontsize='12')   # Title\n",
    "plt.xlabel('X', fontsize='12')   # X-axis\n",
    "plt.ylabel('Probability Mass', fontsize='12')   # Y-axis\n",
    "\n",
    "# Show the plot\n",
    "plt.show()"
   ]
  },
  {
   "cell_type": "markdown",
   "metadata": {},
   "source": [
    "This figure is equivalent to **Fig. 5.4** in your textbook. This particular Poisson distribution could represent the case where the rate of physician visits per year is equal to 2.5, or X ∼ Poisson(2.5). The population mean and variance of this variable is therefore 2.5.\n",
    "\n",
    "The plot of the pmf shows the probability of each possible value, which is any integer from 0 to infinity. In this case, the probability of values above 8 becomes almost 0. According to this distribution, the probability of one visit per year is P(X = 1) = 0.21. Also, the pmf shows that it is very unlikely that a person visits her physician 10 times per year year"
   ]
  },
  {
   "cell_type": "markdown",
   "metadata": {},
   "source": [
    "## **Exercise 3 PDF of a Poisson (4) Distribution**\n",
    "\n",
    "In the cell below, write the Python code to generate a Poisson Distribution with 1000 trials with a mean number of events ( λ ) equal to 4. Show your distribution as a histogram. In generating your PDF plot only x values between 0 and 14. "
   ]
  },
  {
   "cell_type": "code",
   "execution_count": null,
   "metadata": {},
   "outputs": [],
   "source": [
    "# Insert your code for Exercise 3 here\n",
    "\n",
    "\n"
   ]
  },
  {
   "cell_type": "markdown",
   "metadata": {},
   "source": [
    "If your code is correct you should have see the following:\n",
    "\n",
    "![__](https://biologicslab.co/STA1403/images/A04/Poisson4.png)"
   ]
  },
  {
   "cell_type": "markdown",
   "metadata": {},
   "source": [
    "# **Continuous Probability Distributions**\n",
    "\n",
    "For discrete random variables, the **pmf** provides the probability of each possible value. For continuous random variables, the number of possible values is uncountable, and the probability of any specific value is zero. Intuitively, you can think about allocating the total probability of 1 among uncountable number of possible values. Therefore, instead of talking about the probability of any specific value **_x_** for continuous random variable **_X_**, we talk about the probability that the value of the random variable is within a specific interval from x<sub>1</sub> to x<sub>2</sub>; we show this probability as _P_ (x<sub>1</sub> < X < x<sub>2</sub>). By convention, the interval includes the upper end of the interval but not the lower end.\n",
    "\n",
    "\n",
    "\n",
    "For discrete random variables, the Probability Mass Function (PMF) provides the probability of each possible value. However, for continuous random variables, the number of possible values is uncountable, and the probability of any specific value is zero.\n",
    "\n",
    "For continuous random variables, we use probability density functions (pdf) to specify the distribution. Using the pdf, we can obtain the probability of any interval. "
   ]
  },
  {
   "cell_type": "markdown",
   "metadata": {
    "tags": []
   },
   "source": [
    "### Example 4: Probability Density Curve for Continuous Probability (mean=25 and sd=7)\n",
    "\n",
    "For continuous random variables, we use probability density functions (pdf) to specify the distribution. Using the pdf, we can obtain the probability of any interval. As an example, consider the continuous random variable X representing the body mass index of the US population. The figure below is equivalent to **Fig. 5.5** in your textbook. It shows the assumed probability density function for this variable. We refer to the corresponding curve shown in Fig. 5.5 as the probability density curve.\n",
    "\n",
    "The Python code in the cell below show how to plot a continuous **_probability density function (PDF)_** with a mean value, _mu_ = 25 and a standard deviation, _sd_= 7.  \n",
    "\n",
    "Since we will be generating an _X-Y_ plot instead of a histogram, we will set the type variable in the `plot()` function to `l` with stands for **_line_**. (Note this letter is a lowercase \"L\" and **not** the number one). \n"
   ]
  },
  {
   "cell_type": "code",
   "execution_count": null,
   "metadata": {},
   "outputs": [],
   "source": [
    "# Example 4 - Plot Probability Density Curve for a Normal (25,7) Distribution\n",
    "\n",
    "# Define parameters for the normal distribution\n",
    "mu = 25        # mean\n",
    "sd = 7         # standard deviation\n",
    "size = 500     # number of trials\n",
    "\n",
    "# Generate x-values between 0 and 50 with .001 steps. \n",
    "x_values = np.arange(0, 50, 0.01) \n",
    "\n",
    "# Compute the y-value for each x-value from normal distribution\n",
    "y_values = norm.pdf(x_values, mu, sd)\n",
    "\n",
    "# Plot the normal distribution\n",
    "plt.plot(x_values, y_values ,'k')   # the augument 'k' makes the color black\n",
    "\n",
    "# Add a dotted horizontal line at zero \n",
    "plt.hlines(0, 0, 50, color='black', linestyle='dotted', linewidth=0.8 )\n",
    "\n",
    "# Label the plot\n",
    "plt.title('Normal (25,7) Distribution', fontsize='12')   # Title\n",
    "plt.xlabel('X', fontsize='12')   # X-axis\n",
    "plt.ylabel('Probability Mass', fontsize='12')   # Y-axis\n",
    "\n",
    "###############################################################\n",
    "# This code plots the \"rug\" plot at bottom\n",
    "# Don't include this code\n",
    "rng = np.random.default_rng(seed=1234)\n",
    "x_rug = rng.normal(loc=25, scale= 7, size = 100)\n",
    "y_rug = np.zeros(100)\n",
    "plt.plot(x_rug, y_rug, '|k', ms=7)  # rug plot black lines\n",
    "###############################################################\n",
    "\n",
    "# Show the plot\n",
    "plt.show()"
   ]
  },
  {
   "cell_type": "markdown",
   "metadata": {},
   "source": [
    "This curve is equilvalent to **Fig. 5.6** in your textbook. Note that the height of this curve at any specific value gives the density at that point. While we will use the density function to find probabilities for continuous random variables, the value of the density function is **not** probability. Informally, however, the density curve shows the regions with high and low probability. In in this figure, for example, the region around 25 (e.g., between 20 to 30) has relatively higher density compared to the region above 35 or below 15. If we observe a large number of values for this random variable, we expect many of them to be around 25 (e.g., between 20 to 30). In Fig. 5.6, we show a random sample of 100 values for the random variable **_X_**. As we can see, many of these values fall within the high-density region from 20 to 30. Only few observations fall in low-density regions (e.g., the regions above 35 or below 15)"
   ]
  },
  {
   "cell_type": "markdown",
   "metadata": {
    "tags": []
   },
   "source": [
    "### **Exercise 4: Probability Density Curve for Continuous Probability (mean=25 and sd=7)**\n",
    "\n",
    "In the cell below, recreate **Fig. 5.5** from your textbook. Note that **Fig. 5.5** is exactly the same as **Fig. 5.6** except that is doesn't have the additional \"rug plot\" at the bottom of the curve.\n"
   ]
  },
  {
   "cell_type": "code",
   "execution_count": null,
   "metadata": {},
   "outputs": [],
   "source": [
    "# Insert your code for Exercise 4 here\n",
    "\n",
    "# Define parameters for the normal distribution\n",
    "mu = 25        # mean\n",
    "sd = 7         # standard deviation\n",
    "size = 500     # number of trials\n",
    "\n",
    "# Generate x-values between 0 and 50 with .001 steps. \n",
    "x_values = np.arange(0, 50, 0.01) \n",
    "\n",
    "# Compute the y-value for each x-value from normal distribution\n",
    "y_values = norm.pdf(x_values, mu, sd)\n",
    "\n",
    "# Plot the normal distribution\n",
    "plt.plot(x_values, y_values ,'k')   # the augument 'k' makes the color black\n",
    "\n",
    "# Add a dotted horizontal line at zero \n",
    "plt.hlines(0, 0, 50, color='black', linestyle='dotted', linewidth=0.8 )\n",
    "\n",
    "# Label the plot\n",
    "plt.title('Normal (25,7) Distribution', fontsize='12')   # Title\n",
    "plt.xlabel('X', fontsize='12')   # X-axis\n",
    "plt.ylabel('Probability Mass', fontsize='12')   # Y-axis\n",
    "\n",
    "\n",
    "# Show the plot\n",
    "plt.show()"
   ]
  },
  {
   "cell_type": "markdown",
   "metadata": {},
   "source": [
    "If your code is correct you should see the following image:\n",
    "\n",
    "![__](https://biologicslab.co/STA1403/images/A04/Norm55.png)"
   ]
  },
  {
   "cell_type": "markdown",
   "metadata": {},
   "source": [
    "### Example 5: Find Probablity of Being Overweight\n",
    "\n",
    "**Figure 5.7** in your textbook shows the probability that a person is overweight, as a shaded area, based on having a BMI is between 25 and 30. People whose BMI is in this range are considered as overweight. Therefore, the shaded area, under the curve, gives the probability of being overweight. The Python code in the cell below, shows how to shade a particular area under the normal distribution as was done in **Fig. 5.7** using the `matplotlib` function `plt.fill_between()`. \n"
   ]
  },
  {
   "cell_type": "code",
   "execution_count": null,
   "metadata": {},
   "outputs": [],
   "source": [
    "# Example 5: Plot probability of being overweight\n",
    "\n",
    "# Define parameters for the normal distribution\n",
    "mu = 25        # mean\n",
    "sd = 7         # standard deviation\n",
    "size = 500     # number of trials\n",
    "\n",
    "# Set BMI limits for being overweight\n",
    "bmi_low = 25\n",
    "bmi_high = 30\n",
    "\n",
    "# Generate x-values between 0 and 50 with .001 steps. \n",
    "x_values = np.arange(0, 50, 0.01) \n",
    "\n",
    "# Compute the y-value for each x-value from normal distribution\n",
    "y_values = norm.pdf(x_values, mu, sd)\n",
    "\n",
    "# Set x-axis limits\n",
    "plt.xlim(0,50)\n",
    "\n",
    "# Plot the normal distribution\n",
    "plt.plot(x_values, y_values ,'k', linewidth = 0.8)   #'k' makes the color black\n",
    "\n",
    "# Add a dotted horizontal line at zero \n",
    "plt.hlines(0, 0, 50, color='black', linestyle='dotted', linewidth=0.5)\n",
    "\n",
    "# Label the plot\n",
    "plt.title('Normal (25,7) Distribution', fontsize='12')   # Title\n",
    "plt.xlabel('X', fontsize='12')   # X-axis\n",
    "plt.ylabel('Probability Mass', fontsize='12')   # Y-axis\n",
    "\n",
    "# Fill the area under the curve between bmi limits\n",
    "shade_x = np.linspace(bmi_low, bmi_high, 100)  # set x area\n",
    "shade_y = stats.norm.pdf(shade_x, mu, sd)      # set y area\n",
    "plt.fill_between(shade_x, shade_y, color='k', alpha=0.3)  # fill areas\n",
    "\n",
    "# Plot a zero dotted horizontal line \n",
    "plt.hlines(0, 70, 180, color='black', linestyle='dotted', linewidth=0.8 )\n",
    "\n",
    "# Label the plot\n",
    "plt.title('Probability of Being Overweight', fontsize='12')   # Title\n",
    "plt.xlabel('X', fontsize='12')   # X-axis\n",
    "plt.ylabel('Density', fontsize='12')   # Y-axis\n",
    "\n",
    "plt.show()"
   ]
  },
  {
   "cell_type": "markdown",
   "metadata": {},
   "source": [
    "For continuous random variables, the probability of any specific value is zero. For the above example, using the probability density curve in **Fig. 5.5**, we can find the probability of that a person’s BMI is between 25 and 30: P(25 < X ≤ 30). (This is the probability of being overweight but not obese according to the Centers for Disease Control and Prevention.)\n",
    "\n",
    "The total area under the probability density curve is 1. The curve (and its corresponding function) gives the probability of the random variable falling within an interval. This probability is equal to the area under the probability density curve over the interval. In the figure above, this probability is shown as the shaded area under the probability density curve between 25 and 30. Now suppose that we shrink the interval from 25 < X ≤ 30 to 28 < X ≤ 30. The shaded area under the curve would decrease, and the probability of the interval becomes smaller. If we continue shrinking the interval by moving the lower limit closer to 30, in limit the interval becomes a single number 30, and the shaded area, which is the probability of the interval, reduces to zero. Therefore, for this continuous random variable, the probability of 30 is zero: _P_ (_X_ = 30) = 0. In general, the probability of any specific value for continuous variables is zero: _P_ (_X_ = _x_) = 0. Note that the probability of zero for a specific value does not necessarily make it impossible. After all, the BMI of any person in the population is a specific value."
   ]
  },
  {
   "cell_type": "markdown",
   "metadata": {},
   "source": [
    "### **Exercise 5: Find Probablity of Being Normal Weight**\n",
    "\n",
    "According the Centers for Disease Prevention and Control, a person is considered _normal weight_ if their BMI (Body Mass Index) is between 18.8 and 25. In the cell below, write the Python code to generate normal distribution with a mean of 25 and a standard deviation of 7. Shade the area that represents the probability that a person is _normal weight_ using the `matplotlib` function `plt.fill_between()`.\n"
   ]
  },
  {
   "cell_type": "code",
   "execution_count": null,
   "metadata": {},
   "outputs": [],
   "source": [
    "# Insert your code for Exercise 5 here\n",
    "\n"
   ]
  },
  {
   "cell_type": "markdown",
   "metadata": {},
   "source": [
    "If your code is correct you should see the following image:\n",
    "\n",
    "![__](https://biologicslab.co/STA1403/images/A04/NormWt.png)\n",
    "\n",
    "\n",
    "For continuous random variables, the probability of any specific value is zero. For the above example, using the probability density curve in Fig. 5.5, we can find the probability of that a person’s BMI is between 18.5 and 25: P(18.8 < X ≤ 25). (This is the probability of being normal weigtht but not overweight according to the Centers for Disease Control and Prevention.)\n",
    "\n",
    "As above, the total area under the probability density curve is 1. The curve (and its corresponding function) gives the probability of the random variable falling within an interval. This probability is equal to the area under the probability density curve over the interval. In the figure above, this probability is shown as the shaded area under the probability density curve. "
   ]
  },
  {
   "cell_type": "markdown",
   "metadata": {},
   "source": [
    "### Example 6: Find the Lower Tail Probability\n",
    "\n",
    "Similar to the discrete distributions, the probability of observing values less than or equal to a specific value x, is called the lower tail probability and is denoted as P(X ≤ x). This probability is found by measuring the area under the curve to the left of x. For example, the shaded area in the _Left Panel_ of Fig. 5.8 is the lower tail probability of having a BMI less than or equal to 18.8 (i.e., being underweight), P(X ≤ 18.8). \n",
    "\n",
    "The Python code in the cell below shows how to plot the lower tail probability using `matplotlib` function `plt.fill_between()`.\n"
   ]
  },
  {
   "cell_type": "code",
   "execution_count": null,
   "metadata": {},
   "outputs": [],
   "source": [
    "# Example 6: Plot lower tail probability\n",
    "\n",
    "# Define parameters for the normal distribution\n",
    "mu = 25        # mean\n",
    "sd = 7         # standard deviation\n",
    "size = 500     # number of trials\n",
    "\n",
    "# Set BMI limits for being overweight\n",
    "lowerTail_high = 18.8\n",
    "lowerTail_low = 0\n",
    "\n",
    "# Generate x-values between 0 and 50 with .001 steps. \n",
    "x_values = np.arange(0, 50, 0.01) \n",
    "\n",
    "# Compute the y-value for each x-value from normal distribution\n",
    "y_values = norm.pdf(x_values, mu, sd)\n",
    "\n",
    "# Set x-axis limits\n",
    "plt.xlim(0,50)\n",
    "\n",
    "# Plot the normal distribution\n",
    "plt.plot(x_values, y_values ,'k', linewidth = 0.8)   #'k' makes the color black\n",
    "\n",
    "# Add a dotted horizontal line at zero \n",
    "plt.hlines(0, 0, 50, color='black', linestyle='dotted', linewidth=0.5)\n",
    "\n",
    "# Label the plot\n",
    "plt.title('Normal (25,7) Distribution', fontsize='12')   # Title\n",
    "plt.xlabel('X', fontsize='12')   # X-axis\n",
    "plt.ylabel('Probability Mass', fontsize='12')   # Y-axis\n",
    "\n",
    "# Fill the area under the curve between bmi limits\n",
    "shade_x = np.linspace(lowerTail_low, lowerTail_high, 100)  # set x area\n",
    "shade_y = stats.norm.pdf(shade_x, mu, sd)      # set y area\n",
    "plt.fill_between(shade_x, shade_y, color='k', alpha=0.3)  # fill areas\n",
    "\n",
    "# Plot a zero dotted horizontal line \n",
    "plt.hlines(0, 70, 180, color='black', linestyle='dotted', linewidth=0.8 )\n",
    "\n",
    "# Label the plot\n",
    "plt.title('Probability of Being Underweight', fontsize='12')   # Title\n",
    "plt.xlabel('X', fontsize='12')   # X-axis\n",
    "plt.ylabel('Density', fontsize='12')   # Y-axis\n",
    "\n",
    "plt.show()"
   ]
  },
  {
   "cell_type": "markdown",
   "metadata": {},
   "source": [
    "The above curve is equivalent to **Fig. 5.8** in your textbook showing the lower tail probability of 18.8, P(X ≤ 18.8). This is the probability of being underweight according to the Centers for Disease Control and Prevention.)"
   ]
  },
  {
   "cell_type": "markdown",
   "metadata": {},
   "source": [
    "### **Exercise 6: Find Probablity of Being Obese**\n",
    "\n",
    "According the CDCP, a person is considered _obese_ if their BMI (Body Mass Index) is greater than 30. This is equivalent to **Fig. 5.8** (_Right Panel_) and represents the _upper tail probability_. \n",
    "\n",
    "In the cell below, write the Python code to generate normal distribution with a mean of 25 and a standard deviation of 7. Shade the area that represents the upper tail probability that a person is obese using the `matplotlib` function `plt.fill_between()`. Label your curve \"Probability of Being Obese\".\n",
    "\n",
    "(HINT: Unlike being overweight, there is no theorectical upper limit for the obese BMI. However, you just need to set this value to be greater than the range of x values being plotted.)"
   ]
  },
  {
   "cell_type": "code",
   "execution_count": null,
   "metadata": {},
   "outputs": [],
   "source": [
    "# Insert your code for Exercise 6 here\n",
    "\n"
   ]
  },
  {
   "cell_type": "markdown",
   "metadata": {},
   "source": [
    "If your code is correct you should see the following image:\n",
    "\n",
    "!![__](https://biologicslab.co/STA1403/images/A04/Obese.png)\n",
    "\n",
    "\n",
    "For continuous random variables, the probability of any specific value is zero. For the above example, using the probability density curve in Fig. 5.5, we can find the probability of that a person’s BMI is between 25 and 30: P(25 < X ≤ 30). (This is the probability of being overweight but not obese according to the Centers for Disease Control and Prevention.)\n",
    "\n",
    "As above, the total area under the probability density curve is 1. The curve (and its corresponding function) gives the probability of the random variable falling within an interval. This probability is equal to the area under the probability density curve over the interval. In the figure above, this probability is shown as the shaded area under the probability density curve higher than 30. "
   ]
  },
  {
   "cell_type": "markdown",
   "metadata": {},
   "source": [
    "# Normal Distribution\n",
    "\n",
    "Consider the probability distribution function and its corresponding probability density curve in Fig. 5.5 we assumed for BMI in the above example. As we move from  left to right, the height of the density curve increases first until it reaches a point of maximum (peak), after which it decreases toward zero. We say that the probability distribution is unimodal. Because the height of the density curves reduces to zero symmetrically as we move away from the center, we say that the probability distribution is symmetric. We can use similar unimodal and symmetric probability distribution for many continuous random variables representing characteristics such as blood pressure, body temperature, atmospheric carbon dioxide concentration change, and so forth. This distribution is known as the **_Normal Distribution_**, which is one of the most widely used distributions for continuous random variables. Random variables with this distribution (or very close to it) occur often in nature. \n",
    "\n",
    "> A normal distribution and its corresponding pdf are fully specified by the mean μ and variance σ<sup>2</sup>. A random variable _X_ with normal distribution is  denoted X ∼ _N_ (μ,σ<sup>2</sup>), where μ is a real number, but σ<sup>2</sup> can take positive values only. The normal density curve is always symmetric about its mean μ, and its spread is determined by the variance σ<sup>2</sup>.\n",
    ">\n"
   ]
  },
  {
   "cell_type": "markdown",
   "metadata": {
    "tags": []
   },
   "source": [
    "### Example 7: Density Curves the Normal Distribution\n",
    "\n",
    "**Figure 5.10** in your textbook shows two examples of density curves for the normal distribution. Example 7 and Exercise 7 will recreate these examples. \n",
    "\n",
    "Each curve is symmetric around its point of maximum. For normal distributions, the point where the density curve reaches its maximum is in fact the mean, denoted as μ. In Example 7, the code below will generate a normal distribution with a mean = 1. The variance of a normally distributed random variable is denoted as σ<sup>2</sup> and determines the spread of the density curve; a higher variance means amore spread out curve. (The standard deviation is the square root of the variance and is denoted as σ.) The variance for the random variable will be 4 so the standard deviation (sd) is equal to 2.  \n"
   ]
  },
  {
   "cell_type": "code",
   "execution_count": null,
   "metadata": {},
   "outputs": [],
   "source": [
    "# Example 7: Normal distribution(1,4)\n",
    "\n",
    "# Define distribution for Curve 1\n",
    "mu_1 = 1        # mean\n",
    "sd_1 = 2        # standard deviation\n",
    "\n",
    "\n",
    "# Set the number of trials\n",
    "size = 1000     # number of trials\n",
    "\n",
    "# Plot between -10 and 10 with .001 steps. \n",
    "x_axis = np.arange(-8, 9, 0.01) \n",
    "\n",
    "# Plot the curves here\n",
    "# Plot Curve 1\n",
    "plt.plot(x_axis,  \n",
    "         norm.pdf(x_axis, mu_1, sd_1),\n",
    "        'k', \n",
    "         linewidth=0.8,\n",
    "         linestyle=\"solid\",\n",
    "         label=\"N (1,4)\")\n",
    "\n",
    "# Plot Curve 2\n",
    "# Add code here to plot 2nd curve\n",
    "\n",
    "# Set y-axis limits\n",
    "plt.ylim(0,0.42)\n",
    "\n",
    "# Label the axes\n",
    "plt.xlabel('X', fontsize='12')   # X-axis\n",
    "plt.ylabel('Density', fontsize='12')   # Y-axis\n",
    "\n",
    "# Plot the legend\n",
    "plt.legend(loc=\"upper right\")\n",
    "\n",
    "# Show the plot\n",
    "plt.show()"
   ]
  },
  {
   "cell_type": "markdown",
   "metadata": {
    "tags": []
   },
   "source": [
    "### **Exercise 7: Density Curves the Normal Distribution**\n",
    "\n",
    "In **Exercsie 7**, you are to complete **Fig. 5.10** in your textbook, by adding a second density curve of a normal distribution with a mean of -1 and a standard deviation equal to 1. \n",
    "\n",
    "To add the second curve, you will need to create parameters for the mean and standard deviation. Call these parameters `mu_2` and `sd_2` respectively but you won't need to change the number of trials or the variable `x-axis`. For plotting the second curve just add the same code that was used to plot the first curve, but use the Curve 2 parameters. Change the argument `linestyle` to be `\"dashed\"` instead of `\"solid\"` and change the label to read `\"N (-1,1)\"`. \n"
   ]
  },
  {
   "cell_type": "code",
   "execution_count": null,
   "metadata": {},
   "outputs": [],
   "source": [
    "# Insert your code for Exercise 7 here\n",
    "\n"
   ]
  },
  {
   "cell_type": "markdown",
   "metadata": {},
   "source": [
    "If your code is correct you should see the following image:\n",
    "\n",
    "![__](https://biologicslab.co/STA1403/images/A04/TwoNorm.png)\n",
    "\n",
    "This figure is equivalent to **Fig.10** in your textbook. The figure shows two examples of density curves for the normal distribution. Each curve is symmetric around its point of maximum. For normal distributions, the point where the density curve reaches its maximum is in fact the mean, denoted as μ. The mean is 1 for the distribution shown with the solid curve and −1 for the distribution shown with the dashed curve. The variance of a normally distributed random variable is denoted as σ2 and determines the spread of the density curve; a higher variance means amore spread out curve. (The standard deviation is the square root of the variance and is denoted as σ.) The variance for the random variable with solid density curve is 4, whereas the variance of the random variable with dashed density curve.\n"
   ]
  },
  {
   "cell_type": "markdown",
   "metadata": {},
   "source": [
    "## The 68–95–99.7% Rule\n",
    "\n",
    "For normally distributed random variables, there is a simple rule, known as the **68–95–99.7% rule**, for finding the range of typical values.\n",
    "The 68–95–99.7% rule for normal distributions specifies that \n",
    "\n",
    "• 68% of values fall within 1 standard deviation of the mean:\n",
    "> P(μ−σ <X≤ μ+σ) = 0.68.\n",
    "> \n",
    "• 95% of values fall within 2 standard deviations of the mean:\n",
    "> P(μ− 2σ <X≤ μ+2σ) = 0.95.\n",
    ">\n",
    "• 99.7% of values fall within 3 standard deviations of the mean:\n",
    "> P(μ−3σ <X≤ μ+ 3σ) = 0.997."
   ]
  },
  {
   "cell_type": "markdown",
   "metadata": {},
   "source": [
    "### Example 8: 68% Probability\n",
    "\n",
    "Suppose we know that the population mean and standard deviation for **systolic blood pressure (SBP)** are μ = 125 and σ = 15, respectively. That is, _X_ ∼ _N_ (125, 152), where _X_ is the random variable representing  SBP. Therefore, the probability of observing\n",
    "an SBP in the range μ±σ is 0.68:\n",
    "\n",
    ">P(125 −15<X≤ 125+15) = P(110<X≤ 140) = 0.68\n",
    ">\n",
    "\n",
    "The Python code in the cell below shows how to generate a density curve that illustrates the _68%_ rule for systolic blood pressue. "
   ]
  },
  {
   "cell_type": "code",
   "execution_count": null,
   "metadata": {},
   "outputs": [],
   "source": [
    "# Example 6: Plot 68% probablity\n",
    "\n",
    "numSigma = 1\n",
    "mu = 125  # mean\n",
    "variance = 15**2  # variance\n",
    "sigma = np.sqrt(variance)  # standard deviation\n",
    "\n",
    "# Create a range of x values\n",
    "x = np.linspace(mu - 3 * sigma, mu + 3 * sigma, 100)\n",
    "\n",
    "# Create the normal distribution for the range\n",
    "y = stats.norm.pdf(x, mu, sigma)\n",
    "\n",
    "# Create the plot\n",
    "plt.plot(x, y,'k', linewidth=0.5)\n",
    "\n",
    "# Fill the area under the curve for the lower tail\n",
    "tail_x = np.linspace(mu - numSigma * sigma, mu, 100)\n",
    "tail_y = stats.norm.pdf(tail_x, mu, sigma)\n",
    "plt.fill_between(tail_x, tail_y, color='k', alpha=0.3)\n",
    "\n",
    "# Fill the area under the curve for the upper tail\n",
    "tail_x = np.linspace(mu + numSigma * sigma, mu, 100)\n",
    "tail_y = stats.norm.pdf(tail_x, mu, sigma)\n",
    "plt.fill_between(tail_x, tail_y, color='k', alpha=0.3)\n",
    "\n",
    "# Plot a zero dotted horizontal line \n",
    "plt.hlines(0, 70, 180, color='black', linestyle='dotted', linewidth=0.8 )\n",
    "\n",
    "# Plot the dashed horizontal line at 0.175 \n",
    "plt.hlines(0.0175, 112, 138, color='black', linestyle='dashed', linewidth=1.0)\n",
    "\n",
    "# Plot text\n",
    "plt.text(123.5, -0.001, 'μ', fontsize=13)   # mu at bottom\n",
    "plt.text(118, 0.0178, 'σ', fontsize=13)   # left sigma\n",
    "plt.text(130, 0.0178, 'σ', fontsize=13)   # right sigma\n",
    "plt.text(110.5, 0.01705, '<', fontsize=13)   # left arrow head\n",
    "plt.text(135.5, 0.01705, '>', fontsize=13)   # right arrow head\n",
    "\n",
    "# Plot the dot\n",
    "plt.plot(mu, 0.0175, 'ko', ms=4)\n",
    "\n",
    "# Label the plot\n",
    "plt.title('68% central probability', fontsize='12')   # Title\n",
    "plt.xlabel('X', fontsize='12')   # X-axis\n",
    "plt.ylabel('Density', fontsize='12')   # Y-axis\n",
    "\n",
    "plt.show()"
   ]
  },
  {
   "cell_type": "markdown",
   "metadata": {},
   "source": [
    "This plot illustrates the 68% rule for systolic blood pressure, which is assumed to have a normal distribution: _X_ ∼ _N_(125, 152). According to the rule, we would expect 68% of the observations to fall within 1 standard deviation of the mean. "
   ]
  },
  {
   "cell_type": "markdown",
   "metadata": {},
   "source": [
    "### **Exercise 8: 95% Probability**\n",
    "\n",
    "In the cell below write the Python code to illustrate the 95% rule for systolic blood pressure, which is assumed to have a normal distribution: _X_ ∼ _N_(125, 152). According to the rule, we would expect 95% of the observations to fall within 2 standard deviations of the mean. \n",
    "\n",
    "The only way to adjust the X and Y coordinates for the lettering is through \"trial-and-error\". You don't have to get it perfect to earn full credit, but give it a try. "
   ]
  },
  {
   "cell_type": "code",
   "execution_count": null,
   "metadata": {},
   "outputs": [],
   "source": [
    "# Insert your code for Exercise 8 here\n",
    "\n"
   ]
  },
  {
   "cell_type": "markdown",
   "metadata": {},
   "source": [
    "If your code is correct you should see the following image:\n",
    "\n",
    "![__](https://biologicslab.co/STA1403/images/A04/95Percent.png)\n",
    "\n",
    "This plot illustrates the 95% rule for systolic blood pressure, which is assumed to have a normal distribution: _X_ ∼ _N_(125, 152). According to the rule, we would expect 95% of the observations to fall within 2 standard deviations of the mean. \n"
   ]
  },
  {
   "cell_type": "markdown",
   "metadata": {},
   "source": [
    "## The STANDARD Normal Distribution\n",
    "\n",
    "There are an infinity number of normal distributions, but only one **_Standard_** Normal Distribution. The Standard Normal Distribution has a mean = 0 and a standard deviation = 1 \n",
    ">_X_ ∼ _N_ (0, 1)\n",
    ">\n",
    "where _X_ is a random variable. \n",
    "\n",
    "The standard normal distribution was first described by De Moivre in 1733 and later by the German mathematician, C. F. Gauss (1777-1885). For this reason, this distribution is also know as a \"Gaussian Distribution\". Most students know it simply as the \"bell-shaped\" curve when it comes to their exam grades.  \n",
    "\n",
    "Historically, before the development of affordable personal computers, the Standard Normal Distribution played a major role in statistics. Statisticians use Z tables, also known as standard normal tables. The Z table provides the cumulative probabilities of a standard normal distribution, which simplifies calculations. Instead of performing complex integrations to find probabilities, statisticians can simply look up values in the Z table. \n",
    "\n",
    "The first modern table of the normal distribution was later built by the French astronomer Christian Kramp in _Analyse des Réfractions Astronomiques et Terrestres_ (Par le citoyen Kramp, Professeur de Chymie et de Physique expérimentale à l'école centrale du Département de la Roer, 1799).\n",
    "\n",
    "![__](https://biologicslab.co/STA1403/images/A04/ZTable.png)\n",
    "\n",
    "While Z tables were widely used in the past, most modern statistical software can compute these probabilities directly, reducing the need for manual lookup. However, understanding Z tables is still fundamental to learning and applying statistics"
   ]
  },
  {
   "cell_type": "markdown",
   "metadata": {},
   "source": [
    "### Example 9: The Standard Normal Distribution\n",
    "\n",
    "The cell below shows the Python code for plotting a Standard Normal Distribution. The code is essentially the same code used above in Example 7 with the mean `mu` set to `0` and the standard deviation `sd` set to `1`."
   ]
  },
  {
   "cell_type": "code",
   "execution_count": null,
   "metadata": {},
   "outputs": [],
   "source": [
    "# Example 7: Standard Normal distribution(0,1)\n",
    "\n",
    "# Define distribution for standard normal distribution\n",
    "mu = 0        # mean\n",
    "sd = 1        # standard deviation\n",
    "\n",
    "\n",
    "# Set the number of trials\n",
    "size = 1000     # number of trials\n",
    "\n",
    "# Plot between -3.3 and 3.3 with .001 steps. \n",
    "x_axis = np.arange(-3.3, 3.3, 0.01) \n",
    "\n",
    "# Plot the curve here\n",
    "plt.plot(x_axis,  \n",
    "         norm.pdf(x_axis, mu, sd),\n",
    "        'k', \n",
    "         linewidth=0.8,\n",
    "         linestyle=\"solid\")\n",
    "\n",
    "# Plot the dotted horizontal line at zero \n",
    "plt.hlines(0, -3.5, 3.5, color='black', linestyle='dotted', linewidth=0.8)\n",
    "\n",
    "# Label the axes\n",
    "plt.title('Normal Distribution: μ = 0, σ = 1 ')\n",
    "plt.xlabel('X', fontsize='12')   # X-axis\n",
    "plt.ylabel('Density', fontsize='12')   # Y-axis\n",
    "\n",
    "\n",
    "# Show the plot\n",
    "plt.show()"
   ]
  },
  {
   "cell_type": "markdown",
   "metadata": {},
   "source": [
    "This figure is equivalent to **Fig. 5.13** in your textbook. As expected, the density curve for the Standard Normal Distribution is symmetric around the mean of 0. Using the 68–95–99.7% rule, we expect 68% of the values to be between −1 and 1, 95% of values to be between −2 and 2, and nearly all (99.7%) of the values to be between −3 and 3."
   ]
  },
  {
   "cell_type": "markdown",
   "metadata": {},
   "source": [
    "## _Student's t-distribution_\n",
    "\n",
    "Another continuous probability distribution that is used very often in statistics is the **_Student’s t -distribution_** or simply the _t_ -distribution. As we will see in later chapters, the _t_ -distribution especially plays an important role in testing hypotheses regarding the population mean. For example, testing the hypothesis that whether the average body temperature of healthy people is the widely accepted value of 98.6°F involves the _t_ -distribution.\n",
    "\n",
    "A _t_ -distribution is specified by only one parameter called the degrees of freedom _df_. The _t_ -distribution with _df_ degrees of freedom is usually denoted as _t_ (_df_) or _t<sub>df</sub>_ , where _df_ is a positive real number (_df_ > 0). The mean of this\n",
    "distribution is μ = 0, and the variance is determined by the degrees of freedom parameter, σ<sup>2</sup> = df/(df −2), which is of course defined when _df_ > 2."
   ]
  },
  {
   "cell_type": "markdown",
   "metadata": {},
   "source": [
    "### Example 10: Comparison of Standard Normal and t-Distributions\n",
    "\n",
    "The cell below shows the Python code for plotting both the standard normal and _t_-distributions on the same axis. For plotting the _t_-distribution, the code uses the "
   ]
  },
  {
   "cell_type": "code",
   "execution_count": null,
   "metadata": {},
   "outputs": [],
   "source": [
    "# Example 10: Standard normal and t-distributions\n",
    "\n",
    "# Define parameters for the normal distribution\n",
    "mu = 0        # mean\n",
    "sd = 1         # standard deviation\n",
    "size = 1000     # number of trials\n",
    "\n",
    "\n",
    "# Plot between -10 and 10 with .001 steps. \n",
    "x_axis = np.arange(-5, 5, 0.01) \n",
    "\n",
    "# Plot the normal distribution\n",
    "plt.plot(x_axis,  norm.pdf(x_axis, mu, sd),'k-', label=\"N(0,1)\")\n",
    "\n",
    "x = np.linspace(-5, 5, 100)\n",
    "degrees_of_freedom = [4, 1]  # Varying degrees of freedom\n",
    " \n",
    "# Plotting T-distribution curves for different degrees of freedom\n",
    "for df in degrees_of_freedom:\n",
    "    y = t.pdf(x, df)  # Using default location and scale parameters (0 and 1)\n",
    "    plt.plot(x, y, label=f\"t({df})\")\n",
    " \n",
    "plt.xlabel('X')\n",
    "plt.ylabel('Density')\n",
    "plt.title('Comparison of Normal and t-Distributions')\n",
    "plt.legend()\n",
    "\n",
    "# Plot a zero dotted horizontal line \n",
    "plt.hlines(0, -5, 5, color='black', linestyle='dotted', linewidth=0.8 )\n",
    "\n",
    "# Show the plot\n",
    "plt.show()"
   ]
  },
  {
   "cell_type": "markdown",
   "metadata": {},
   "source": [
    "This plot is equivalent to **Fig. 5.14** in your textbook. It compares the pdf of a standard normal distribution (black line) to _t_ -distributions with 1 degree of freedom (orange line) and then with 4 degrees of freedom (blue line). The _t_ -distribution has _heavier tails_ than the standard normal; however, as the degrees of freedom increase, the _t_ -distribution approaches the standard normal distribution."
   ]
  },
  {
   "cell_type": "markdown",
   "metadata": {},
   "source": [
    "## Cumulative Distribution Function\n",
    "\n",
    "We saw that by using lower tail probabilities, we can find the probability of any given interval (see Eq. 5.1). This is true for all probability distributions (discrete or continuous). Indeed, all we need to find the probabilities of any interval is a function\n",
    "that returns the lower tail probability at any given value of the random variable.\n",
    "\n",
    "This function is called the cumulative distribution function (cdf) or simply the distribution function. For the value x of the random variable X, the cumulative distribution function returns _P_ (_X_ ≤ _x_)."
   ]
  },
  {
   "cell_type": "markdown",
   "metadata": {},
   "source": [
    "### Example 11: Cumulative Distribution Function\n",
    "\n",
    "The cell below shows the Python code for plotting a _Cumulative Distribution Function_ or cdf. The cdf is useful for finding the lower tail probability. "
   ]
  },
  {
   "cell_type": "code",
   "execution_count": null,
   "metadata": {},
   "outputs": [],
   "source": [
    "# Example 11: Cumulative Distribution Function\n",
    "  \n",
    "# No of data points used \n",
    "N = 5000\n",
    "  \n",
    "# generate data using normal distribution \n",
    "data = np.random.randn(N) \n",
    "  \n",
    "# sort the data in ascending order \n",
    "x = np.sort(data) \n",
    "  \n",
    "# get the cdf values of y \n",
    "y = np.arange(N) / float(N) \n",
    "\n",
    "# Plot the graph\n",
    "plt.plot(x, y, 'k') \n",
    "\n",
    "# Plot a zero dotted horizontal line \n",
    "plt.hlines(0, -4.2, 4.2, color='black', linestyle='dotted', linewidth=0.5 )\n",
    "\n",
    "# Horizontal line at 0.5\n",
    "plt.hlines(0.5, -4.1, 0, color='black', linestyle='dashed', linewidth=1.0 )  \n",
    "\n",
    "# Verical line at 0\n",
    "plt.vlines(0, 0.5, 0, color='black', linestyle='dashed', linewidth=1.0 ) \n",
    "\n",
    "#####################################\n",
    "# CHANGE THESE VALUES FOR EXERCISE 11\n",
    "# Plot vertical arrow head\n",
    "plt.plot(0, 0.48, '^k')\n",
    "# Plot hortizontal arrow head\n",
    "plt.plot(-4, 0.5, '<k')\n",
    "#####################################\n",
    "\n",
    "\n",
    "# Label the plot\n",
    "plt.xlabel('X') \n",
    "plt.ylabel('Cumulative Probabilty') \n",
    "\n",
    "# Show the plot\n",
    "plt.show()"
   ]
  },
  {
   "cell_type": "markdown",
   "metadata": {},
   "source": [
    "This figure is equivalent to the _Left Panel_ of **Fig. 5.15** in your textbook. \n",
    "\n",
    "For the standard normal distribution in **Fig. 5.15**, we used the cdf plot to find the lower tail probability of zero: P(X ≤ 0) = 0.5. For this, we followed the direction of arrows from the horizontal axis to the vertical axis. Following the arrow from _x_ = 0 (on the horizontal axis) to the cummulative probability (on the vertical axis) gives us the probability _P_ (_X_ ≤ 0) = 0.5."
   ]
  },
  {
   "cell_type": "markdown",
   "metadata": {},
   "source": [
    "### **Exercise 11: Cumulative Distribution Function**\n",
    "\n",
    "In the cell below, write the Python code to generate the cdf of a normal distribution using exactly the same code used in Example 12. However, change the parameters of the arrow heads to match the _Right Panel_ of **Fig. 5.15** in your textbook. (See image below). In this figure, the \"arrow heads\" are actually just text characters as follows:\n",
    "\n",
    "* left arrow head:   `<`\n",
    "* right arrow head:  `>`\n",
    "* up arrow head:     `^`\n",
    "* down arrow head:   `v`  (this is a lower case letter v )"
   ]
  },
  {
   "cell_type": "code",
   "execution_count": null,
   "metadata": {},
   "outputs": [],
   "source": [
    "# Insert your code for Exercise 11 here\n",
    "\n",
    "\n"
   ]
  },
  {
   "cell_type": "markdown",
   "metadata": {},
   "source": [
    "If your code is correct you should see the following image:\n",
    "\n",
    "![__](https://biologicslab.co/STA1403/images/A04/CDF.png)\n",
    "\n",
    "This image is equivalent to the _Right Panel_ of **Fig. 5.15** in your textbook. We can use this cdf plot inthe reverse direction to find the value of a random variable for a given lower tail probability. Here, we follow the direction of arrows from the vertical axis to the horizontal axis at the lower tail probability of 0.5 in order to find the value of the random variable whose lower tail probability\n",
    "is 0.5. In this case, the arrows start from 0.5 and points toward the value 0 on the horizontal axis (which represents the values of the random variable). We say zero is the 0.5 quantile of the random variable X. In general, the 0.5 quantile of a random variable is called its median. For a normally distributed random variable, mean and median are the same."
   ]
  },
  {
   "cell_type": "markdown",
   "metadata": {},
   "source": [
    "## **Lesson Turn-In**\n",
    "\n",
    "When you have completed all of the code cells, generate a PDF of your COLAB notebook and save it as `Assignment_04.lastname.pdf` where _lastname_ is your last name. Upload your PDF to Canvas for grading."
   ]
  },
  {
   "cell_type": "code",
   "execution_count": null,
   "metadata": {},
   "outputs": [],
   "source": []
  }
 ],
 "metadata": {
  "kernelspec": {
   "display_name": "Python 3 (ipykernel)",
   "language": "python",
   "name": "python3"
  },
  "language_info": {
   "codemirror_mode": {
    "name": "ipython",
    "version": 3
   },
   "file_extension": ".py",
   "mimetype": "text/x-python",
   "name": "python",
   "nbconvert_exporter": "python",
   "pygments_lexer": "ipython3",
   "version": "3.9.19"
  }
 },
 "nbformat": 4,
 "nbformat_minor": 4
}
