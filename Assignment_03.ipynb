{
 "cells": [
  {
   "cell_type": "markdown",
   "metadata": {
    "id": "bLEEW13uCtiJ"
   },
   "source": [
    "<a href=\"https://colab.research.google.com/github/DavidSenseman/STA1403/blob/master/Assignment_03.ipynb\" target=\"_parent\"><img src=\"https://colab.research.google.com/assets/colab-badge.svg\" alt=\"Open In Colab\"/></a>"
   ]
  },
  {
   "cell_type": "markdown",
   "metadata": {},
   "source": [
    "---------------------------\n",
    "**COPYRIGHT NOTICE:** This Jupyterlab Notebook is a Derivative work of [Jeff Heaton](https://github.com/jeffheaton) licensed under the Apache License, Version 2.0 (the \"License\"); You may not use this file except in compliance with the License. You may obtain a copy of the License at\n",
    "\n",
    "> [http://www.apache.org/licenses/LICENSE-2.0](http://www.apache.org/licenses/LICENSE-2.0)\n",
    "\n",
    "Unless required by applicable law or agreed to in writing, software distributed under the License is distributed on an \"AS IS\" BASIS, WITHOUT WARRANTIES OR CONDITIONS OF ANY KIND, either express or implied. See the License for the specific language governing permissions and limitations under the License.\n",
    "\n",
    "------------------------"
   ]
  },
  {
   "cell_type": "markdown",
   "metadata": {},
   "source": [
    "# **STA1403: \"Biostats\"**"
   ]
  },
  {
   "cell_type": "markdown",
   "metadata": {},
   "source": [
    "## **Assignment_03: Basic Python Syntax**"
   ]
  },
  {
   "cell_type": "markdown",
   "metadata": {
    "jp-MarkdownHeadingCollapsed": true,
    "tags": []
   },
   "source": [
    "#### In this assignment you will learn about:\n",
    "\n",
    "* The Python Interpreter\n",
    "* Comments\n",
    "* Functions\n",
    "* Variables\n",
    "* Strings\n",
    "* String Indexing"
   ]
  },
  {
   "cell_type": "markdown",
   "metadata": {
    "id": "yKQylnEiLDUM"
   },
   "source": [
    "### Google CoLab Instructions\n",
    "\n",
    "The following code will map your GDrive to ```/content/drive``` and print out your Google GMAIL address."
   ]
  },
  {
   "cell_type": "code",
   "execution_count": null,
   "metadata": {
    "colab": {
     "base_uri": "https://localhost:8080/"
    },
    "id": "seXFCYH4LDUM",
    "outputId": "c05015aa-871e-4779-9265-5ad07e8bf617",
    "scrolled": true
   },
   "outputs": [],
   "source": [
    "# You must run this cell second\n",
    "try:\n",
    "    from google.colab import drive\n",
    "    drive.mount('/content/drive', force_remount=True)\n",
    "    from google.colab import auth\n",
    "    auth.authenticate_user()\n",
    "    COLAB = True\n",
    "    print(\"Note: using Google CoLab\")\n",
    "    %tensorflow_version 2.x\n",
    "    import requests\n",
    "    gcloud_token = !gcloud auth print-access-token\n",
    "    gcloud_tokeninfo = requests.get('https://www.googleapis.com/oauth2/v3/tokeninfo?access_token=' + gcloud_token[0]).json()\n",
    "    print(gcloud_tokeninfo['email'])\n",
    "except:\n",
    "    print(\"Note: not using Google CoLab\")\n",
    "    COLAB = False"
   ]
  },
  {
   "cell_type": "markdown",
   "metadata": {},
   "source": [
    "## **Python Basics**\n",
    "\n",
    "In this course you will learn how to use the programming language **Python** to analyze biological and medical datasets using various visualization and statistical packages. These Python assignments are designed to complement the material in your textbook, _Biostatistics with R_ by Bakak Shahbaba, except they utilize the Python programming language. \n"
   ]
  },
  {
   "cell_type": "markdown",
   "metadata": {},
   "source": [
    "### The Python Interpreter\n",
    "\n",
    "There are two types of computer languages, _complied_ and _interpreted_. Compiled languages include FORTAN and C, while interpreted languages include Python, R, and BASIC. \n",
    "\n",
    "##### Complied Languages\n",
    "\n",
    "When programming in a compiled language, you start by writing a _source file_. When you have finished, the source file is processed by a computer program called a _compiler_. The compiler's first step is to _pre-process_ the source code and report any coding errors. Once all the errors has been fixed, the compiler's next step is to produce an _intermediate compiled output file_ containing assembly-level instructions. This intermediate file is then processed by the compiler's _assembler_ to generate **machine code**. Finally, the compiler's _linker_ links all the function calls with their definitions, and adds some extra code to indicate when the program starts and stops. Your source file is finally an **_executable file_** that you call run on your computer. \n",
    "\n",
    "Because of these intermediate steps--between writing your code and running it--learning how to program  a complied language is slower than learning how to program an interpreted language. \n",
    "\n",
    "##### Interpreted Languages\n",
    "\n",
    "Interpreted computer languages, like Python, do **not** need to be compiled before they can be executed. Instead, a computer program called the **Python Interpreter** reads one line of code at a time. If there are no errors, the Python interpreter immediately executes the code, and then reads the next line of code, executes it, and so forth until it finishes the last line. \n",
    "Since there are no intermediate steps, learning to program an interpreted computer language is faster since you get immediate \"feedback\".\n",
    "\n",
    "Actually, many students who take STA1403 find programming to be kind of enjoyable. The Python language has a reputation of being the easiest and most fun to learn of all the modern programming languages (e.g Java, JavaScript, C++, C#). \n",
    "\n",
    "Certainly [Guido van Rossum](https://pythoninstitute.org/about-python#:~:text=Python%20was%20created%20by%20Guido,called%20Monty%20Python's%20Flying%20Circus) had a had a sense of humor when he created Python. He named his new language, not after the snake, but in honor of the cult British comedy show [Monty Python's Flying Circus](https://en.wikipedia.org/wiki/Monty_Python%27s_Flying_Circus).\n",
    "\n",
    "![__](monty-python-dead-parrot.gif)\n",
    "\n",
    ">C: Look, my lad, I know a dead parrot when I see one, and I'm looking at one right now. <br> O: No no he's not dead, he's, he's restin'! Remarkable bird, the Norwegian Blue, idn'it, ay? Beautiful plumage!\n",
    "\n",
    "By the way, if you enjoy finding \"Easter Eggs\", just execute the Python command `import this` some time when you are bored."
   ]
  },
  {
   "cell_type": "markdown",
   "metadata": {},
   "source": [
    "### Hello World\n",
    "\n",
    "In 1978 Brian Kernighan published one of the most influential books on programming, called [_The C Programming Language_](https://www.amazon.com/Programming-Language-2nd-Brian-Kernighan/dp/0131103628?ref_=Oct_d_omg_d_491314_0&pd_rd_w=sZCiH&content-id=amzn1.sym.30700090-8aee-489b-baf0-d51741979308&pf_rd_p=30700090-8aee-489b-baf0-d51741979308&pf_rd_r=CEMQ4JYFS8A9RWC1VAHQ&pd_rd_wg=CRz8X&pd_rd_r=3dfca2e1-8f9d-4469-ab20-efaac5bd8488&pd_rd_i=0131103628). The very first line of code the reader was asked to write was a simple, one line program that printed out the greeting, \"Hello World\".  "
   ]
  },
  {
   "cell_type": "markdown",
   "metadata": {},
   "source": [
    "### **Exercise 1: Print out `Hello World`**\n",
    "\n",
    "Following in the footsteps of millions of students who have gone before you, write the following Python code in the cell below:\n",
    "\n",
    "`print(\"Hello World\")`\n",
    "\n",
    "When you are done, hold down the `Shift` key and press `Enter` to run the code."
   ]
  },
  {
   "cell_type": "code",
   "execution_count": null,
   "metadata": {},
   "outputs": [],
   "source": [
    "# Insert your code for Exercise 1 here\n",
    "\n",
    "\n"
   ]
  },
  {
   "cell_type": "markdown",
   "metadata": {},
   "source": [
    "If your is code correct, you should see `Hello World` printed immediately below your code cell. \n",
    "\n",
    "#### **CONGRATULATIONS!**\n",
    "\n",
    "You have successfully completed your first Python coding **Exercise** in BIO 1173! \n",
    "\n",
    "The remainder of the course will be essentially the same steps. First, you will be given an example of Python code along with an explanation of what it does. You will then be asked to write a similar--but not identical--piece of code using the example as a model (\"copy and paste\", then modify). Finally, you will be shown the correct output so you can change your code in case you made any errors.   "
   ]
  },
  {
   "cell_type": "markdown",
   "metadata": {},
   "source": [
    "## Basic Python Elements \n",
    "\n",
    "The Python language code has several different types of **_elements_**. Learning to identify the different elements and and how to use them is an important and necessary step to becoming a Python programmer. \n",
    "\n",
    "**Exercise 1** contained three of the most basic elements in the Python language: \n",
    "\n",
    "1. Comments\n",
    "2. Strings\n",
    "3. Functions\n",
    "\n",
    "### Comments\n",
    "\n",
    "The first line in **Exercise 1** was:\n",
    "\n",
    "`# Insert your code for Exercise 1 here`\n",
    "\n",
    "That line of code is a **_comment_**.\n",
    "\n",
    "Even though _comments_ are not run (executed) by the Python Interpreter, they are extremely important. Whenever Python \"sees\" the hashtag symbol `#`, it **ignores** everything _after_ it until the next line of code. \n",
    "\n",
    "Comments are included in computer code to explain to **_you_**, not Python, what's going on. When you are writing code, you know what is going on. However, if you go back and look at your code sometime later, it might not be so clear what you wanted the code to do or why you wrote it a certain way. By adding comments you help yourself (as well as anyone else reading your code) understand what's going on. \n",
    "\n",
    "By the way, you don't have to limit your comments to a separate line. You can also add a comment at the end of a code line. Consider, for example, the following:\n",
    "\n",
    "`# Insert your code for Exercise 1 here    `<br>\n",
    "`print(\"Hello World\")  # Kernighan's example  `\n",
    "\n",
    "In this example, the print function is followed by the comment `# Kernighan's example`. The comment helps to explain to your, but not to the Python Interpreter, why that particular string was being printed.\n",
    "\n",
    "In this course, comments will be placed liberally within the code to help you understand the following:\n",
    "\n",
    "1. What the code is trying to accomplished.\n",
    "2. What arguments and their values are being passed to a function.\n",
    "3. Why was the code written this way instead of another way. \n",
    "\n",
    "A nice feature of the Jupyter Lab notebook, is that it automatically displays comments using a green font. So if you see text written in green, you know that Python Interpreter will ignore it but you should pay attention to it.\n",
    "\n",
    "### Strings\n",
    "\n",
    "Going back to **Exercise 1**, inside the parentheses were the words **Hello World** enclosed in double quotation marks `(\"Hello World\")`. \n",
    "\n",
    "Whenever Python sees _characters_ (letters, numbers, punctuation marks) enclosed within quotation marks, Python treats them as a literal string constant, or more succinctly, a **_string_**. Strings are an especially important element type in the Python language, and Python has a very rich set of \"tools\" (methods) for string manipulations.\n",
    "\n",
    "-------------------\n",
    "\n",
    "### Quotation Marks\n",
    "\n",
    "Python uses both single (') and double (\") quotes interchangeably to denote literal string constants. The general convention is that double quotes should enclose actual text, such as words or sentences while single quotes should enclose symbolic text, such as error codes. In some instances, it is necesary to use both types of quotation marks within the same sentence, as will shown below.\n",
    "\n",
    "-------------------\n",
    "\n",
    "### Functions\n",
    "\n",
    "**Functions** are the _commands_ that perform some action. Python functions are always followed by parentheses. For example, **Exercise 1** used the Python function `print()`. \n",
    "\n",
    "Python functions may, or may not, have **_arguments_**. If a function does **not** have an argument, the parantheses are empty; If the function has one (or more) arguments, the arguments are written inside the parantheses, separated by commas. \n",
    "\n",
    "In **Exercise 1**, the `print()` function had one argument, the string `\"Hello Word\"`. In ComputerSpeak you would say that \"The code  _passed_ one argument to the print function\". "
   ]
  },
  {
   "cell_type": "markdown",
   "metadata": {},
   "source": [
    "### Variables\n",
    "\n",
    "Variables are essentially _labels_ that are assigned to Python objects such as a string. Example 2 below, uses the variable, `msg`, as a label for the string \"Hello World\". In ComputerSpeak, you say that \"you _assign_ a value to a variable\". The equal sign `=` is used to make an assignment. \n",
    "\n",
    "Instead of passing the string \"Hello World\" to the print function, you can just pass the variable `msg`, since from Python's perspective, a variable is the same as the thing as the object it represents. \n",
    "\n",
    "Since the string in this example is pretty short, you might not see any big advantage to using a variable instead of the string itself. After all, assigning a string to a variable is just more code to write. \n",
    "\n",
    "But suppose our string was much longer, such as the URL to a website with a dataset about the frequency of shark attacks:\n",
    "\n",
    "https://www.kaggle.com/account/login?titleType=dataset-downloads&showDatasetDownloadSkip=False&messageId=datasetsWelcome&returnUrl=%2Fdatasets%2Fthedevastator%2Fglobal-shark-attack-incidents%2Fversions%2F2%3Fresource%3Ddownload\n",
    "\n",
    "If you need to use the URL in more than once, it makes sense to assign it to a short variable like `shark_data`. \n",
    "\n",
    "`shark_data=https://www.kaggle.com/account/login?titleType=dataset-downloads&showDatasetDownloadSkip=False&messageId=datasetsWelcome&returnUrl=%2Fdatasets%2Fthedevastator%2Fglobal-shark-attack-incidents%2Fversions%2F2%3Fresource%3Ddownload`\n",
    "\n",
    "Then, when you need to reference the URL, you just substitute `shark_data` instead writting out the entire string.\n"
   ]
  },
  {
   "cell_type": "markdown",
   "metadata": {},
   "source": [
    "#### Example 2: Using variables\n",
    "\n",
    "The code in the cell below creates a variable called `msg` and assigns to it the string `Hello World`. It then uses `msg` as a substitute for \"Hello World\" as the argument for the `print()` function.\n"
   ]
  },
  {
   "cell_type": "code",
   "execution_count": null,
   "metadata": {},
   "outputs": [],
   "source": [
    "# Example 2: Create and use a string variable \n",
    "\n",
    "# Assign the string to a variable\n",
    "msg = \"Hello World\"\n",
    "\n",
    "# print the variable\n",
    "print(msg)"
   ]
  },
  {
   "cell_type": "markdown",
   "metadata": {},
   "source": [
    "The output for the code cell above is:\n",
    "\n",
    "`Hello Python`\n",
    "\n",
    "which is exactly the same output as **Exercise 1**.\n",
    "\n",
    "The term _variable_ refers to the fact that you can easily change (\"vary\") the value of a variable by simply assigning it to a different value.\n",
    "\n",
    "When you run the code cell below, it first prints out `Hello World!` which was the value assigned to the variable `msg` in the code cell above. It then prints out a different message after its value has been reassigned.  "
   ]
  },
  {
   "cell_type": "code",
   "execution_count": null,
   "metadata": {},
   "outputs": [],
   "source": [
    "# Change the value of a variable\n",
    "\n",
    "# Print original value stored in `msg` \n",
    "print(msg)\n",
    "\n",
    "# Assign a new value to `msg`\n",
    "msg = \"What the heck...printing out 'Hello World' is getting boring.\"\n",
    "\n",
    "# Print the new value stored in `msg`\n",
    "print(msg)"
   ]
  },
  {
   "cell_type": "markdown",
   "metadata": {},
   "source": [
    "You should have seen two different messages since the value of `msg` was changed after the first time it was printed out."
   ]
  },
  {
   "cell_type": "markdown",
   "metadata": {},
   "source": [
    "-----------------------------------------------------------\n",
    "\n",
    "### Naming and Using Variables\n",
    "\n",
    "In this course you will required to create and use variables very frequently. When it comes to naming your variables, you must follow a few rules to avoid errors.\n",
    "\n",
    "* Variable names can contain only letters, numbers, and underscores.\n",
    "* Variable names can only start with a letter or an underscore, **not** a number.\n",
    "* Variable names can **not** contain a space. To make variable names easier to understand, use an underscore and/or a capitialization instead of a space to separate different words. For example, either `total_neurons` or `TotalNeurons` would be good variable names, while the name `Total Neurons`, with a space between the words, would generate an error.\n",
    "* Variable names should be both short and descriptive. For example, the name `total_neurons` is better (more descriptive) than just `tn`. It is also better (shorter) than `total_number_of_neurons_in_the_model`. \n",
    "* Try to avoid using the lowercase letter _l_ and the uppercase letter _O_ since they are easily confused with the number _1_ and the number _0_.\n",
    "* Avoid using Python **_reserved words_** as variable names. Python comes with a set of keywords and built-in functions. For example, `True, False, as, and, from, or, while`, are keywords, while `any(), bool(), bytes(), chr(), range(), vars()` are built-in functions.  \n",
    "\n",
    "----------------------------------------------------------------------"
   ]
  },
  {
   "cell_type": "markdown",
   "metadata": {},
   "source": [
    "#### **Exercise 2: Create string variables** \n",
    "\n",
    "In the code cell below, create _two_ new variables and assign a different string (message) to each variable. Make sure to follow the naming conventions listed above.\n",
    "\n",
    "Have your code print out both messages. "
   ]
  },
  {
   "cell_type": "code",
   "execution_count": null,
   "metadata": {},
   "outputs": [],
   "source": [
    "# Insert your code for Exercise 2 here\n",
    "\n",
    "\n"
   ]
  },
  {
   "cell_type": "markdown",
   "metadata": {},
   "source": [
    "If your code is correct you should see two messages printed out. "
   ]
  },
  {
   "cell_type": "markdown",
   "metadata": {},
   "source": [
    "## Strings\n",
    "\n",
    "As mentioned above, strings are a very important data type in Python. For the remainder of this lesson, we will look more closely at this data type. "
   ]
  },
  {
   "cell_type": "markdown",
   "metadata": {},
   "source": [
    "### String methods\n",
    "\n",
    "In Python, methods and functions have similar purposes but differ in important ways. \n",
    "Functions are independent which means you are free to insert a function anywhere in a program. Methods are not independent but are part of an object. Functions are called by name, while methods are accessed using dot notation. "
   ]
  },
  {
   "cell_type": "markdown",
   "metadata": {},
   "source": [
    "### Example 3: Use the `upper()` string method\n",
    "\n",
    "Example 3 illustrates how to call a string method using the dot notation. You have already seen how to call the `print()` function in **Exercise 1**. In the code cell below, the `print()` function is combined with the `upper()` string method to change how a particular string is printed out. "
   ]
  },
  {
   "cell_type": "code",
   "execution_count": null,
   "metadata": {},
   "outputs": [],
   "source": [
    "# Example 3: Application of upper() string method\n",
    "\n",
    "# Assign a string to variable name\n",
    "fatherANN = \"Geoffrey Hinton\"   # The father of artificial neural networks\n",
    "\n",
    "# Print\n",
    "print(fatherANN.upper())"
   ]
  },
  {
   "cell_type": "markdown",
   "metadata": {},
   "source": [
    "By inspection of the output, you can see that the job of the `upper()` method is to capitalize (change to upper case) every letter in the associated string. In other words, a method is associated with, and acts only on, the object to which it is attached by the dot.  \n",
    "\n",
    "The dot notation is the only way to access a method. Like functions, methods must also be followed by a pair of parentheses. The `upper()` method does not require an argument so the paratheses for this method are empty.  "
   ]
  },
  {
   "cell_type": "markdown",
   "metadata": {},
   "source": [
    "### **Exercise 3: Use the `lower()` string method**\n",
    "\n",
    "Python provides another string method, `lower()`, that complements the action of the `upper()` method. \n",
    "\n",
    "In the cell below, use the `lower()` method to print out the string variable `fatherANN` previously defined in Example 3."
   ]
  },
  {
   "cell_type": "code",
   "execution_count": null,
   "metadata": {},
   "outputs": [],
   "source": [
    "# Insert your code for Exercise 3 here\n",
    "\n"
   ]
  },
  {
   "cell_type": "markdown",
   "metadata": {},
   "source": [
    "If your code is correct you should see the following output:\n",
    "\n",
    "`geoffrey hinton`\n",
    "\n",
    "As you might have guessed, the job of the `lower()` method is to convert every letter to lowercase. "
   ]
  },
  {
   "cell_type": "markdown",
   "metadata": {},
   "source": [
    "### Example 4: Printing using `F-strings`\n",
    "\n",
    "Some string methods require an argument such as Python's `count()` method. The `count()` method returns the number of times a specified value appears in the string.\n",
    "\n",
    "The code in the cell below uses the `count()` method to count the number of times the letter \"a\" appears in a sentence. \n",
    "\n",
    "The code also provides an example of how to print text and variable values together, using an `f-string`. **F-strings** will be the preferred method of printing the value of variables in this course and you will need to use it frequently. \n"
   ]
  },
  {
   "cell_type": "code",
   "execution_count": null,
   "metadata": {},
   "outputs": [],
   "source": [
    "# Example 4\n",
    "\n",
    "sentence = \"A neural network is a method in artificial intelligence that \\\n",
    "            teaches computers to process data in a way that is inspired \\\n",
    "            by the human brain.\"\n",
    "\n",
    "num = sentence.count(\"a\")\n",
    "\n",
    "print(f\"There were {num} a's in the sentence.\")"
   ]
  },
  {
   "cell_type": "markdown",
   "metadata": {},
   "source": [
    "There are several different ways in Python to print both text (strings) and variable values (e.g. number) in the same sentence. Python version 3.6 introduced the f-string method shown above. \n",
    "\n",
    "To use this printing method, the letter `f` must be place immediately after the left parenthesis of the `print()` function. As usual, the double (or single) quotation marks are needed to enclose the string to be printed. Finally, the variable value is enclosed within curly braces `{ }`.  \n",
    "\n",
    "-----------------------\n",
    "\n",
    "### Use a backslash `\\` to continue a line\n",
    "You should also notice from this example, that a backslash `\\` was use to \"spread\" (continue) a long sentence across multiple lines of code. Adding a backslash indicates to Python that the code continues on the next line. Remember, the Python Interpreter reads one line at a time. Without the backslash, the Python Interpreter would come to the end of the line and reported an error since it didn't find any quotation mark to enclose (finish) the end the string.\n",
    "\n",
    "------------------------\n"
   ]
  },
  {
   "cell_type": "markdown",
   "metadata": {},
   "source": [
    "### **Exercise 4: Printing using `f-strings`**\n",
    "\n",
    "Another Python string method is `find()`. The `find()` method finds the first occurrence (location) of the specified value. If the value is not found, the `find()` method returns -1.\n",
    "\n",
    "In the code cell below, use the `find()` method to located the position of the string 'computers' in the same sentence used in Example 4. Store the output of the `find()` method in a new variable called `loc_computer`. \n",
    "\n",
    "Use the f-string method to print out the location (`loc_computer`) returned by the `find()` method in an appropiate sentence. Don't forget to change the text in your print statement to make it appropiate for the `find()` method. Keep changing your code so it produces the same output as shown below.\n"
   ]
  },
  {
   "cell_type": "code",
   "execution_count": null,
   "metadata": {},
   "outputs": [],
   "source": [
    "# Insert your code for Exercise 4 here\n",
    "\n",
    "\n"
   ]
  },
  {
   "cell_type": "markdown",
   "metadata": {},
   "source": [
    "If your code was correct, you should see the following:\n",
    "\n",
    "`The word 'computer' appeared 81 in the sentence.`\n",
    "\n",
    "The number `81` means that the first letter in the word `computer` was located 81 spaces from the start of the sentence.\n",
    "\n",
    "-------------------------------------\n",
    "\n",
    "##### Mixing Single and Double Quotation Marks\n",
    "\n",
    "You can use either double quotation marks `\" \"` or single quotation marks `' '` to enclose a Python string. Sometimes you may need to use both types in the same argument as in **Exercise 4**.\n",
    "\n",
    "In **Exercise 4**, you needed to use double quotation marks `\" \"` to enclose the entire sentence, and single quotation marks `' '` to just enclose the word 'computer'. \n",
    "\n",
    "--------------------------------------"
   ]
  },
  {
   "cell_type": "markdown",
   "metadata": {},
   "source": [
    "## String Indexing\n",
    "\n",
    "In **Exercise 4** the `find()` method was used to find the first occurence of a specified value. The value that this method returned was a location within the string. Finding a particular string location is closely related to the concept of **_string indexing_**. "
   ]
  },
  {
   "cell_type": "markdown",
   "metadata": {},
   "source": [
    "### Example 5: Use square bracket indexing\n",
    "\n",
    "Square brackets `[ ]` can used to access individual elements in a Python object such as a string, an array or a dictionary. To use square bracket syntax, just add the brackets to the end of an object with a number inside. The number specifies the location within the object.\n",
    "\n",
    "The code in the cell below shows how to find the letter that is located at position 81 in the string. This example uses the same string that was used in **Exercise 4**.\n"
   ]
  },
  {
   "cell_type": "code",
   "execution_count": null,
   "metadata": {},
   "outputs": [],
   "source": [
    "# Example 5: Use square brackets to locate the letter at position 81\n",
    "\n",
    "# Assign string to the variable sentence\n",
    "sentence = \"A neural network is a method in artificial intelligence that \\\n",
    "            teaches computers to process data in a way that is inspired \\\n",
    "            by the human brain.\"\n",
    "\n",
    "# Print out the value at position 81\n",
    "sentence[81]"
   ]
  },
  {
   "cell_type": "markdown",
   "metadata": {},
   "source": [
    "The output is the letter `c`. This is exactly as we should have expected based on the results of **Exercise 4** where the `find()` method was used to find the first occurence of `computer` within the longer string. "
   ]
  },
  {
   "cell_type": "markdown",
   "metadata": {},
   "source": [
    "### **Exercise 5: Use square bracket to located the letter position 1**\n",
    "\n",
    "In the cell below, use square bracket syntax to find the first letter in the string variable `sentence`."
   ]
  },
  {
   "cell_type": "code",
   "execution_count": null,
   "metadata": {},
   "outputs": [],
   "source": [
    "# Insert your code for Exercise 5 here\n",
    "\n"
   ]
  },
  {
   "cell_type": "markdown",
   "metadata": {},
   "source": [
    "If your code is correct you should see the letter `'A'` inside a pair of single quotation marks. If your output was `' '` without the letter `A` inside, don't worry, you have been **_tricked!_** \n",
    "\n",
    "The point of tricking you was to make an important point: \n",
    "\n",
    "##### In Python, numbering always starts at `0` instead of at `1`. \n",
    "\n",
    "To see the **first** letter, you should write `sentence[0]` instead of `sentence[1]`. If you wrote the later, Python returned the blank space after the letter `A`. \n",
    "\n",
    "----------------------------------------\n",
    "\n",
    "### Why does Python start numbering at 0?\n",
    "\n",
    "Zero-based numbering or index origin = 0 is a way of numbering in which the initial element of a sequence is assigned the index 0, rather than the index 1 as is typical in everyday non-mathematical or non-programming circumstances. Many modern computer languages such as C use zero-based numbering, but not all of them. For example the statistical computing language R starts numbering arrays at 1 which certainly makes it easier for first-time programmers to learn. And some languages like Pascal, Lua and Visual Basic allow the programmer to set the index origin number to either 0 or 1 within their code.\n",
    "\n",
    "In other words, this is one of the most basic decisions that the creator of Python, Guido van Rossum, had to make when started writing the Python language in the late 1980's. For better or worse, you will have to get use to the notion that sequences always starting at 0 when you program in Python.  \n",
    "\n",
    "For the new Python programmer, starting with 0 will invariably lead to problems. For example, it's easy to forget that if you have 100 patient records in a file, the index of the last record is 99, not 100. \n",
    "\n",
    "---------------------------------------------"
   ]
  },
  {
   "cell_type": "markdown",
   "metadata": {},
   "source": [
    "### Example 6: String slicing\n",
    "\n",
    "When using square bracket indexing, you are not limited to a single number. You can easily extract a range of letter using a technique known as **string splicing**. \n",
    "\n",
    "For the next few examples, we use the word `'Supercalifragilisticexpialidocious'` from 1964 movie _Mary Poppins_ to illustrate various ways to use string slicing. \n",
    "\n",
    "To extract `Super`, we could use the following square bracket syntax."
   ]
  },
  {
   "cell_type": "code",
   "execution_count": null,
   "metadata": {},
   "outputs": [],
   "source": [
    "# Extract the first 5 letters\n",
    "\n",
    "'Supercalifragilisticexpialidocious'[0:5]"
   ]
  },
  {
   "cell_type": "markdown",
   "metadata": {},
   "source": [
    "The output is `'Super'` which is exactly what we wanted to extract. Notice that there are single quotation marks `'  '` that enclose the word Supercalifragilisticexpialidocious. That tells Python to treat this word as a string. If you forget to include the quotation marks, you will get an error.\n",
    "\n",
    "Perhaps to some of you, it might seem that something \"funny\" going on in the above example. Clearly the word `'Super'` has exactly 5 letters. But if start slicing at 0, and end at 5, wouldn't that be **6** letters?\n",
    "\n",
    "Here is a more formal definition of _string slicing_ to explain why `strng`[0:5] returns only 5 letters instead of 6.\n",
    "\n",
    "> String slicing extracts a series of characters from a string. The character positions of a slice are specified by two or three integers inside square brackets, separated by colons. The first index indicates the position of the first character to be extracted. The second index indicates where the slice ends. The character at that position is **not** included in the slice. A slice [m:n] would therefore be read as “from character m up to but _not including_ character n.”"
   ]
  },
  {
   "cell_type": "markdown",
   "metadata": {},
   "source": [
    "### **Exercise 6: String slicing**\n",
    "\n",
    "In the cell below use square bracket notation to extract `'fragilistic'` from the string `'Supercalifragilisticexpialidocious'` "
   ]
  },
  {
   "cell_type": "code",
   "execution_count": null,
   "metadata": {},
   "outputs": [],
   "source": [
    "# Insert your code for Exercise 6 here\n",
    "\n"
   ]
  },
  {
   "cell_type": "markdown",
   "metadata": {},
   "source": [
    "If your code is correct you should see `'fragilistic'`."
   ]
  },
  {
   "cell_type": "markdown",
   "metadata": {},
   "source": [
    "### Quick review of the `find()` method\n",
    "\n",
    "If we don't want to manually count the number of letters between the start of the string and the start of the first character we want to extract, we can just use the `find()` method described earlier in this lesson."
   ]
  },
  {
   "cell_type": "code",
   "execution_count": null,
   "metadata": {},
   "outputs": [],
   "source": [
    "# Use the find() method locate start of 'fragilistic'\n",
    "\n",
    "startLoc = 'Supercalifragilisticexpialidocious'.find('fragilistic')\n",
    "\n",
    "# Print out location using f-print\n",
    "print(f\"The starting location of 'fragilistic' was at position {startLoc}.\")"
   ]
  },
  {
   "cell_type": "markdown",
   "metadata": {},
   "source": [
    "Since 'fragilistic' has 11 characters, and the `find()` method tells the start location is 9, the correct index for **Exercise 6** must be `[9:20]` in **Exercise 6**."
   ]
  },
  {
   "cell_type": "markdown",
   "metadata": {},
   "source": [
    "### Example 7: Omitting index values\n",
    "\n",
    "When string splicing, the first index value specifies where to start and the second index value where to start. If you omit the first index value, Python automatically starts at very beginning of the string. The cell below illustrates how to extract `Super` by omitting the first index value."
   ]
  },
  {
   "cell_type": "code",
   "execution_count": null,
   "metadata": {},
   "outputs": [],
   "source": [
    "'Supercalifragilisticexpialidocious'[ :5]"
   ]
  },
  {
   "cell_type": "markdown",
   "metadata": {},
   "source": [
    "### **Exercise 7: Omitting index values**\n",
    "\n",
    "When string splicing, the first index value specifies where to start and the second index value where to start. If you omit the second index value, Python automatically goes to the very end of the string.\n",
    "\n",
    "In the cell below, start by using the `find()` method to locate the beginning of `'expialidocious'`. Save of the output of the `find()` method as the variable, `startLoc`. \n",
    "\n",
    "Then extract `'expialidocious'` with square bracket notation, using the variable `startLoc` as the first index value, and leaving the second index value blank."
   ]
  },
  {
   "cell_type": "code",
   "execution_count": null,
   "metadata": {},
   "outputs": [],
   "source": [
    "# Insert your code for Exercise 7 here\n",
    "\n"
   ]
  },
  {
   "cell_type": "markdown",
   "metadata": {},
   "source": [
    "If your code is correct the output of your code cell should be:\n",
    "\n",
    "`'expialidocious'`"
   ]
  },
  {
   "cell_type": "markdown",
   "metadata": {},
   "source": [
    "### Example 8: Using negative integers as indicies\n",
    "\n",
    "Using a negative integer allows you to access values starting from the _end_ of a sequence. Given that `'expialidocious'` has 14 letters, and is located at the end of the sequence, another way to extract it, is shown in the code cell below.\n"
   ]
  },
  {
   "cell_type": "code",
   "execution_count": null,
   "metadata": {},
   "outputs": [],
   "source": [
    "# Example 8: Negative index value\n",
    "\n",
    "'Supercalifragilisticexpialidocious'[-14: ]"
   ]
  },
  {
   "cell_type": "markdown",
   "metadata": {},
   "source": [
    "### **Exercise 8: Using negative integer as indicies**\n",
    "\n",
    "In a number of programming situations you will need to know the very _last_ element in a sequence. This might be a problem if you didn't know the sequence length. Fortunately there is a simply way to access the last element of any sequence, by just using `-1` as the index.\n",
    "\n",
    "In the code cell below, extract the last letter in the word 'Supercalifragilisticexpialidocious' using square bracket indexing. Since you are only accessing a _single_ letter, you only need a single index value.\n"
   ]
  },
  {
   "cell_type": "code",
   "execution_count": null,
   "metadata": {},
   "outputs": [],
   "source": [
    "# Example 8: Negative index value\n",
    "\n"
   ]
  },
  {
   "cell_type": "markdown",
   "metadata": {},
   "source": [
    "If your code is correct the output of your cell should be `'s'`."
   ]
  },
  {
   "cell_type": "markdown",
   "metadata": {},
   "source": [
    "## **Lesson Turn-in**\n",
    "\n",
    "When you have run all of the code cells print out a PDF copy of this notebook. You should save your PDF in the Assignment_03 folder with the name `Assignment_03_lastname.pdf` where _lastname_ is your last name. Upload the PDF to Assignment_03 on Canvas for grading."
   ]
  }
 ],
 "metadata": {
  "kernelspec": {
   "display_name": "Python 3.9 (biostats)",
   "language": "python",
   "name": "biostats"
  },
  "language_info": {
   "codemirror_mode": {
    "name": "ipython",
    "version": 3
   },
   "file_extension": ".py",
   "mimetype": "text/x-python",
   "name": "python",
   "nbconvert_exporter": "python",
   "pygments_lexer": "ipython3",
   "version": "3.9.19"
  }
 },
 "nbformat": 4,
 "nbformat_minor": 4
}
