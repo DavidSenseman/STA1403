{
 "cells": [
  {
   "cell_type": "markdown",
   "id": "a905dd3d-df47-4384-a1c0-eda7c61c2318",
   "metadata": {
    "id": "bLEEW13uCtiJ"
   },
   "source": [
    "<a href=\"https://colab.research.google.com/github/DavidSenseman/STA1403/blob/master/Assignment_02.ipynb\" target=\"_parent\"><img src=\"https://colab.research.google.com/assets/colab-badge.svg\" alt=\"Open In Colab\"/></a>"
   ]
  },
  {
   "cell_type": "markdown",
   "id": "808acca4-6b6d-4642-8b23-f6f45a29a7a2",
   "metadata": {},
   "source": [
    "---------------------------\n",
    "**COPYRIGHT NOTICE:** This Jupyterlab Notebook is a Derivative work of [Jeff Heaton](https://github.com/jeffheaton) licensed under the Apache License, Version 2.0 (the \"License\"); You may not use this file except in compliance with the License. You may obtain a copy of the License at\n",
    "\n",
    "> [http://www.apache.org/licenses/LICENSE-2.0](http://www.apache.org/licenses/LICENSE-2.0)\n",
    "\n",
    "Unless required by applicable law or agreed to in writing, software distributed under the License is distributed on an \"AS IS\" BASIS, WITHOUT WARRANTIES OR CONDITIONS OF ANY KIND, either express or implied. See the License for the specific language governing permissions and limitations under the License.\n",
    "\n",
    "------------------------"
   ]
  },
  {
   "cell_type": "markdown",
   "id": "558feb7d-3b38-437c-bc27-f43e7e0cb78d",
   "metadata": {},
   "source": [
    "# **STA1403: \"Biostats\"**"
   ]
  },
  {
   "cell_type": "markdown",
   "id": "40c6702b-1bcc-46ee-85e8-bda0aa8127d4",
   "metadata": {},
   "source": [
    "### **Assignment_02: Basic Python Syntax**"
   ]
  },
  {
   "cell_type": "markdown",
   "id": "de9f44a7-accd-4e3c-9709-962a3d1872ef",
   "metadata": {
    "tags": []
   },
   "source": [
    "#### In this assignment you will learn about:\n",
    "\n",
    "* Syntax\n",
    "* Help\n",
    "* Variables\n",
    "* Operators\n",
    "* Expressions"
   ]
  },
  {
   "cell_type": "markdown",
   "id": "d2559453-84b9-4b52-9b55-1e12ba487284",
   "metadata": {
    "id": "yKQylnEiLDUM"
   },
   "source": [
    "### Google CoLab Instructions\n",
    "\n",
    "The following code will map your GDrive to ```/content/drive``` and print out your Google GMAIL address."
   ]
  },
  {
   "cell_type": "code",
   "execution_count": 1,
   "id": "2b02fbf2-cb64-4343-ad65-c9b35877a35e",
   "metadata": {
    "colab": {
     "base_uri": "https://localhost:8080/"
    },
    "id": "seXFCYH4LDUM",
    "outputId": "c05015aa-871e-4779-9265-5ad07e8bf617",
    "scrolled": true
   },
   "outputs": [
    {
     "name": "stdout",
     "output_type": "stream",
     "text": [
      "Note: not using Google CoLab\n"
     ]
    }
   ],
   "source": [
    "# You must run this cell second\n",
    "try:\n",
    "    from google.colab import drive\n",
    "    drive.mount('/content/drive', force_remount=True)\n",
    "    from google.colab import auth\n",
    "    auth.authenticate_user()\n",
    "    COLAB = True\n",
    "    print(\"Note: using Google CoLab\")\n",
    "    %tensorflow_version 2.x\n",
    "    import requests\n",
    "    gcloud_token = !gcloud auth print-access-token\n",
    "    gcloud_tokeninfo = requests.get('https://www.googleapis.com/oauth2/v3/tokeninfo?access_token=' + gcloud_token[0]).json()\n",
    "    print(gcloud_tokeninfo['email'])\n",
    "except:\n",
    "    print(\"Note: not using Google CoLab\")\n",
    "    COLAB = False"
   ]
  },
  {
   "cell_type": "markdown",
   "id": "48190ee9",
   "metadata": {},
   "source": [
    "## **Python Syntax**\n",
    "\n",
    "In computer science, the **_syntax_** of a computer language is the set of rules that defines the combinations of symbols that are considered to be a correctly structured or written. One of the main challenges in learning any computer language is learning the correct syntax. \n",
    "\n",
    "If the syntax of your code isn't perfect, **Python** will become confused and immediately complain by printing an error message. This course is designed to teach you how to write the correct Python syntax. Perhaps more importantly, this course is designed to help you figure out why a syntax error occurred and how to fix it.\n",
    "\n",
    "Sooner or later (probably sooner) you will get an error message from **Python** complaining by a syntax error. When you run the code in the next cell you will see an example of a common syntax error."
   ]
  },
  {
   "cell_type": "code",
   "execution_count": 1,
   "id": "92987284-c9aa-4561-a8a2-f0050af2d6bd",
   "metadata": {},
   "outputs": [
    {
     "ename": "SyntaxError",
     "evalue": "invalid syntax. Perhaps you forgot a comma? (1751325964.py, line 3)",
     "output_type": "error",
     "traceback": [
      "\u001b[1;36m  Cell \u001b[1;32mIn[1], line 3\u001b[1;36m\u001b[0m\n\u001b[1;33m    print(The Double Helix)\u001b[0m\n\u001b[1;37m          ^\u001b[0m\n\u001b[1;31mSyntaxError\u001b[0m\u001b[1;31m:\u001b[0m invalid syntax. Perhaps you forgot a comma?\n"
     ]
    }
   ],
   "source": [
    "# Running this cell will produce an error\n",
    "\n",
    "print(The Double Helix)"
   ]
  },
  {
   "cell_type": "markdown",
   "id": "71236506-915f-4578-b7db-b8c9667a1741",
   "metadata": {
    "tags": []
   },
   "source": [
    "Running the cell above produces the following error message: <br>\n",
    "\n",
    "~~~text\r",
    "  Cell In[1], line 3\n",
    "    print(The Double Helix)\n",
    "          ^\n",
    "SyntaxError: invalid syntax. Perhaps you forgot a comma?\n",
    "~~~\n",
    "\n",
    "**Python** became confused because the syntax wasn't correct. In particular, a string such as \"The Double Helix\" must be enclosed in double quotation marks. \n",
    "\n",
    "As shown in the next cell, the error goes away if we **_precisely_** follow **Python's** syntax rule. "
   ]
  },
  {
   "cell_type": "code",
   "execution_count": 2,
   "id": "37cfc54f",
   "metadata": {},
   "outputs": [
    {
     "name": "stdout",
     "output_type": "stream",
     "text": [
      "The Double Helix\n"
     ]
    }
   ],
   "source": [
    "# Running this cell will not produce an error\n",
    "\n",
    "print(\"The Double Helix\")"
   ]
  },
  {
   "cell_type": "markdown",
   "id": "3b418fbb-26e4-4065-b979-d8374bff0af4",
   "metadata": {
    "tags": []
   },
   "source": [
    "-------------------------------\n",
    "\n",
    "#### **Commment Statements**\n",
    "\n",
    "As you might have noticed, the first line in the cell above started with the symbol `#`. When Python sees `#`, it treats everything on the line after `#` as a **_comment_** and skips over it without executing it. In other words, Python completely ignores any line that starts with a `#`. \n",
    "\n",
    "Comments are for you and any other person who reads your Python code. Comments tell the reader what your code is doing and why. Writing good comments is a very important part of writing good **Python** code.\n",
    "\n",
    "------------------------------"
   ]
  },
  {
   "cell_type": "markdown",
   "id": "ba7eaf8f-83f2-4785-9ebf-64762f250de5",
   "metadata": {},
   "source": [
    "## **Help**\n",
    "\n",
    "**Python** has a built-in _Help Facility_. Until we’ve explored more of **Python**, much of what Help tells you will probably appear strange or even unintelligible. Nevertheless, the Help Facility is a useful tool even at this early stage. You can use either of these commands to access it: \n",
    "\n",
    "`help()` \n",
    "\n",
    "Enters the interactive help facility \n",
    "\n",
    "`help(x)` \n",
    "\n",
    "Prints information about x, which can be anything (a value, a type, a function, etc.)\n"
   ]
  },
  {
   "cell_type": "markdown",
   "id": "342347ab",
   "metadata": {},
   "source": [
    "### Help facility for a specific item\n",
    "\n",
    "The cell below shows how to use the help facility to find information about a specific item. In this example, help is being asked about the topics available in `help`. "
   ]
  },
  {
   "cell_type": "code",
   "execution_count": 3,
   "id": "7be58ea0",
   "metadata": {},
   "outputs": [
    {
     "name": "stdout",
     "output_type": "stream",
     "text": [
      "\n",
      "Here is a list of available topics.  Enter any topic name to get more help.\n",
      "\n",
      "ASSERTION           DELETION            LOOPING             SHIFTING\n",
      "ASSIGNMENT          DICTIONARIES        MAPPINGMETHODS      SLICINGS\n",
      "ATTRIBUTEMETHODS    DICTIONARYLITERALS  MAPPINGS            SPECIALATTRIBUTES\n",
      "ATTRIBUTES          DYNAMICFEATURES     METHODS             SPECIALIDENTIFIERS\n",
      "AUGMENTEDASSIGNMENT ELLIPSIS            MODULES             SPECIALMETHODS\n",
      "BASICMETHODS        EXCEPTIONS          NAMESPACES          STRINGMETHODS\n",
      "BINARY              EXECUTION           NONE                STRINGS\n",
      "BITWISE             EXPRESSIONS         NUMBERMETHODS       SUBSCRIPTS\n",
      "BOOLEAN             FLOAT               NUMBERS             TRACEBACKS\n",
      "CALLABLEMETHODS     FORMATTING          OBJECTS             TRUTHVALUE\n",
      "CALLS               FRAMEOBJECTS        OPERATORS           TUPLELITERALS\n",
      "CLASSES             FRAMES              PACKAGES            TUPLES\n",
      "CODEOBJECTS         FUNCTIONS           POWER               TYPEOBJECTS\n",
      "COMPARISON          IDENTIFIERS         PRECEDENCE          TYPES\n",
      "COMPLEX             IMPORTING           PRIVATENAMES        UNARY\n",
      "CONDITIONAL         INTEGER             RETURNING           UNICODE\n",
      "CONTEXTMANAGERS     LISTLITERALS        SCOPING             \n",
      "CONVERSIONS         LISTS               SEQUENCEMETHODS     \n",
      "DEBUGGING           LITERALS            SEQUENCES           \n",
      "\n"
     ]
    }
   ],
   "source": [
    "# Example 1: Use the Help facility\n",
    "help(\"topics\")"
   ]
  },
  {
   "cell_type": "markdown",
   "id": "ebece4ce",
   "metadata": {},
   "source": [
    "As you can see from the output above, the output of `help` will often seem a bit strange at first until you know more about Python coding."
   ]
  },
  {
   "cell_type": "markdown",
   "id": "4799ffda",
   "metadata": {},
   "source": [
    "### **Exercise 1: Help Facility**\n",
    "\n",
    "For Exercise 1, write the **Python** code in the cell below to bring up the `Help Facility` to search for help with the **Python** topic `FLOAT`. Make sure to capitalize the topic, FLOAT, and enclose it in single quotation marks."
   ]
  },
  {
   "cell_type": "code",
   "execution_count": 4,
   "id": "aef98fe6",
   "metadata": {},
   "outputs": [],
   "source": [
    "# Insert your code for Exercise 1 here\n",
    "\n"
   ]
  },
  {
   "cell_type": "markdown",
   "id": "93dceed8-7188-4ecd-8788-8307fba08540",
   "metadata": {},
   "source": [
    "If your code is correct you should have seen the following output:\n",
    "\n",
    "![__](https://biologicslab.co/STA1403/images/A02_Image_01.png)"
   ]
  },
  {
   "cell_type": "markdown",
   "id": "8e74522f-d22e-4e90-998a-cf8baa28ed51",
   "metadata": {},
   "source": [
    "## **Variables**\n",
    "\n",
    "One of the most important types of data in Python is called a _variable_. As its name implies, a variable can take on different values. Variables can have a short name like _x_ or _y_, but it is usually better to give a variable a short descriptive name. \n",
    "\n",
    "There are 4 rules when it comes to Python variables:\n",
    "\n",
    "* A variable name must start with a letter or the underscore character\n",
    "* A variable name cannot start with a number\n",
    "* A variable name can only contain alpha-numeric characters and underscores (A-z, 0-9, and _ )\n",
    "* Variable names are case-sensitive (age, Age and AGE are three different variables)\n",
    "\n",
    "Variables are **_assigned_** a value using the equal sign `=` as shown in Example 2 below. \n"
   ]
  },
  {
   "cell_type": "markdown",
   "id": "9601161b",
   "metadata": {},
   "source": [
    "### Example 2: Assign the string \"James Watson\" to the variable `var1`\n",
    "\n",
    "In Python, the `=` is used to assign a value to a variable.  The cell below assigns the **_string_** `\"James Watson\"` to the variable `var1`.  In Python a _string_ is a group of letters enclosed in quotation marks. We will look at strings more closely in the next lesson. "
   ]
  },
  {
   "cell_type": "code",
   "execution_count": 5,
   "id": "7e0bd8a0",
   "metadata": {},
   "outputs": [
    {
     "name": "stdout",
     "output_type": "stream",
     "text": [
      "James Watson\n"
     ]
    }
   ],
   "source": [
    "# Example 2: Assign a string to a variable\n",
    "\n",
    "# Assign the string \"James Watson\" to the variable var1\n",
    "var1 = \"James Watson\"\n",
    "\n",
    "# Print out the value of Name1\n",
    "print(var1)\n"
   ]
  },
  {
   "cell_type": "markdown",
   "id": "29cd6a8c",
   "metadata": {},
   "source": [
    "### **Exercise 2:  Assign the string \"Francis Crick\" to the variable `var2`**\n",
    "\n",
    "In the cell below create the string \"Francis Crick\", assign it to a variable called `var2` and then print it out. "
   ]
  },
  {
   "cell_type": "code",
   "execution_count": 6,
   "id": "b53badec",
   "metadata": {},
   "outputs": [],
   "source": [
    "# Insert your code for Exercise 2 here\n",
    "\n"
   ]
  },
  {
   "cell_type": "markdown",
   "id": "dd00fbf0",
   "metadata": {},
   "source": [
    "If you code for Exercise 2 is correct, you should see the following output: \n",
    "\n",
    "~~~text\n",
    "Francis Crick\n",
    "~~~"
   ]
  },
  {
   "cell_type": "markdown",
   "id": "39b26be4",
   "metadata": {},
   "source": [
    "## **Operators and Expressions**\n",
    "\n",
    "Python has a large number of **_operators_** that perform actions or \"operations\" on variables. In this section we look at some of the most important operators that we will be using in this course.   \n",
    "\n",
    "We start with the addition operator which is the plus symbol `+`. In general, an _operator_ is a symbol that indicates a calculation using one or more **_operands_**. The combination of the operator and its operand(s) is called an **_expression_**."
   ]
  },
  {
   "cell_type": "markdown",
   "id": "cebb52e8",
   "metadata": {},
   "source": [
    "### Example 3: Use the `+` operator to _add_ two integer numbers together\n",
    "\n",
    "The addition operator `+` can be used to add two numbers together. In R there are two kinds of numbers, integers or _int_ and floating point numbers or _float_. The cell below uses the addition operator to add two _integers_ together. "
   ]
  },
  {
   "cell_type": "code",
   "execution_count": 7,
   "id": "9662574d",
   "metadata": {},
   "outputs": [
    {
     "data": {
      "text/plain": [
       "6"
      ]
     },
     "execution_count": 7,
     "metadata": {},
     "output_type": "execute_result"
    }
   ],
   "source": [
    "# Example 3: Use the addition operator\n",
    "\n",
    "# addition operator +\n",
    "4 + 2"
   ]
  },
  {
   "cell_type": "markdown",
   "id": "4bf7b361",
   "metadata": {},
   "source": [
    "### **Exercise 3: Use the `+` operator to add three float numbers together**\n",
    "\n",
    "In the cell below, use the addition operator to add together the numbers 10.2, 6 and 0.5. In this exercise we are mixing to floating value numbers, 10.2 and 0.5 with the integer 6."
   ]
  },
  {
   "cell_type": "code",
   "execution_count": 8,
   "id": "c8c38785",
   "metadata": {},
   "outputs": [],
   "source": [
    "# Insert your code for Exercise 3 here\n",
    "\n"
   ]
  },
  {
   "cell_type": "markdown",
   "id": "3b1eea72",
   "metadata": {},
   "source": [
    "If your code is correct for Exercise 3, you should see the floating point number `16.7`. Note that Python automatically returns the answer as a float (a number with a decimal point). "
   ]
  },
  {
   "cell_type": "markdown",
   "id": "31bdeb34",
   "metadata": {},
   "source": [
    "### Example 4: Use the `*` operator to multiple two numbers together\n",
    "\n",
    "The `*` operator is used to _multiple_ numbers together. The code in the cell below uses the `*` operator to multiple the numbers 4 and 3. "
   ]
  },
  {
   "cell_type": "code",
   "execution_count": 9,
   "id": "2260c89d",
   "metadata": {},
   "outputs": [
    {
     "data": {
      "text/plain": [
       "12"
      ]
     },
     "execution_count": 9,
     "metadata": {},
     "output_type": "execute_result"
    }
   ],
   "source": [
    "# Example 4: Use the multiplication operator\n",
    "\n",
    "# multiplication operator *\n",
    "4 * 3"
   ]
  },
  {
   "cell_type": "markdown",
   "id": "2b1afef0",
   "metadata": {},
   "source": [
    "### **Exercise 4: Use the `*` operator to multiple three numbers together**\n",
    "\n",
    "In the cell below, use the `*` operator to multiple the numbers 10.2, 6 and 0.5 together. "
   ]
  },
  {
   "cell_type": "code",
   "execution_count": 10,
   "id": "2ad7d588",
   "metadata": {},
   "outputs": [],
   "source": [
    "# Insert your code for Exercise 4 here \n",
    "\n"
   ]
  },
  {
   "cell_type": "markdown",
   "id": "b779d940-ec53-4dc3-802c-593201a12ed8",
   "metadata": {},
   "source": [
    "If your code for **Exercise 4** is correct, you should see the number `30.599999999999998`. As was mentioned above, Python treats integers and floating point numbers very differently. This is why the answer is not `30.6`.\n",
    "\n",
    "-----------------------------------\n",
    "\n",
    "**Why 30.599999999999998 and not just 30.6?**\n",
    "\n",
    "You might be wondering why Python didn't simply print out the value `30.6`? After all, that's the number you should get. If you multiply 6 by 0.5 you get 3.0. And if you multiply 3.0 times 10.2 you get exactly 30.6. So why 30.599999999999998? The answer is somewhat complicated but it has to do with how Python stores floating point numbers in memory. But don't worry, Guido van Rossum knew what he was doing when he wrote Python.  \n",
    "\n",
    "----------------------------------"
   ]
  },
  {
   "cell_type": "markdown",
   "id": "c327b6e9",
   "metadata": {},
   "source": [
    "### Example 5 Use the double asterisk operator to exponentiate a number\n",
    "\n",
    "Raising a number to a power is called **_exponentiation_**. In Python, the operator for exponentiation is a double asterisk `**`. The cell below uses the `**` operator to raise the number 4 to the power of 3."
   ]
  },
  {
   "cell_type": "code",
   "execution_count": 11,
   "id": "760af786",
   "metadata": {},
   "outputs": [
    {
     "data": {
      "text/plain": [
       "64"
      ]
     },
     "execution_count": 11,
     "metadata": {},
     "output_type": "execute_result"
    }
   ],
   "source": [
    "# Example 5: Use the exponentiation operator\n",
    "\n",
    "# exponentiation (power) operator **\n",
    "4 ** 3"
   ]
  },
  {
   "cell_type": "markdown",
   "id": "e62d6d61",
   "metadata": {},
   "source": [
    "### **Exercise 5: Use the double asterisk operator to exponentiate a number**\n",
    "\n",
    "Use the `**` operator in the cell below to raise the floating point number 2.0 to the power of 8."
   ]
  },
  {
   "cell_type": "code",
   "execution_count": 12,
   "id": "87c4192c",
   "metadata": {},
   "outputs": [],
   "source": [
    "# Insert your code for Exercise 5 here\n",
    "\n"
   ]
  },
  {
   "cell_type": "markdown",
   "id": "39a34cda",
   "metadata": {},
   "source": [
    "If your code for Exercise 6 is correct, you should see the floating point number `256.0`."
   ]
  },
  {
   "cell_type": "markdown",
   "id": "cdc6fcf9",
   "metadata": {},
   "source": [
    "### Example 6: Use the division operator `/` to divide two numbers\n",
    "\n",
    "Division in Python is done using the division operator `/`. The cell below uses the `/` operator to divide the number 24 by 8. "
   ]
  },
  {
   "cell_type": "code",
   "execution_count": 13,
   "id": "165eceaf",
   "metadata": {},
   "outputs": [
    {
     "data": {
      "text/plain": [
       "3.0"
      ]
     },
     "execution_count": 13,
     "metadata": {},
     "output_type": "execute_result"
    }
   ],
   "source": [
    "# Example 6: Use the division operator\n",
    "\n",
    "# division operator /\n",
    "24 / 8"
   ]
  },
  {
   "cell_type": "markdown",
   "id": "0a710058",
   "metadata": {},
   "source": [
    "### **Exercise 6: Use the division operator `/` to divide two numbers**\n",
    "\n",
    "In the cell below, use the division operator `/` to divide the number 435.0 by 8.25."
   ]
  },
  {
   "cell_type": "code",
   "execution_count": 14,
   "id": "77e2b65c",
   "metadata": {},
   "outputs": [],
   "source": [
    "# Insert your code for Exercise 6 here\n",
    "\n",
    "\n"
   ]
  },
  {
   "cell_type": "markdown",
   "id": "b182bb81",
   "metadata": {},
   "source": [
    "If your code for Exercise 6 is correct, you should see the number `52.72727272727273`. "
   ]
  },
  {
   "cell_type": "markdown",
   "id": "e08fc355-7481-4d55-b775-554b2c9be505",
   "metadata": {},
   "source": [
    "-------------------------------\n",
    "\n",
    "#### **Note about Division Operators**\n",
    "\n",
    "When is comes to division, Python offers three different ways to divide one number by another. The example above in Exercise 7 used the backslash symbol `/`. This is _normal_ division and the answer (quotient) is always a floating number. Besides normal division, the double forward slash  `//` can used for integer division with the answer being an integer. (Technically, the `//` operator produces _floor division_). Python can also be used for _modulo division_ using the percent `%` operator. \n",
    "\n",
    "-------------------------------"
   ]
  },
  {
   "cell_type": "markdown",
   "id": "77ed04c9-1005-4d30-bdde-8fd06f8c4c59",
   "metadata": {},
   "source": [
    "### Example 7: Logical Operators\n",
    "\n",
    "Like other programming languages, Python provides operations on **_truth values_**. There are two \"truth values\" in Python `True` and `False`. Importantly, these words are *case sensitive*. In other words, Python does **not** recognize the word `TRUE` as a logical operator, only the word `True`.  \n",
    "\n",
    "Logical operators follow the mathematical laws of Boolean logic. The classic _Boolean operators_ are **not**, **and**, and **or**. In Python, those are written just that way instead of using special symbols as illustrated in the examples below."
   ]
  },
  {
   "cell_type": "code",
   "execution_count": 15,
   "id": "1a2a7bcd-0a29-453e-9841-b5ad78f06903",
   "metadata": {},
   "outputs": [
    {
     "data": {
      "text/plain": [
       "False"
      ]
     },
     "execution_count": 15,
     "metadata": {},
     "output_type": "execute_result"
    }
   ],
   "source": [
    "# the \"not\" logical operator\n",
    "not True"
   ]
  },
  {
   "cell_type": "code",
   "execution_count": 16,
   "id": "0aff36d0-3e49-4b03-b55a-fb6f103d0400",
   "metadata": {},
   "outputs": [
    {
     "data": {
      "text/plain": [
       "True"
      ]
     },
     "execution_count": 16,
     "metadata": {},
     "output_type": "execute_result"
    }
   ],
   "source": [
    "# another example of the \"not\" logical operator\n",
    "not False"
   ]
  },
  {
   "cell_type": "code",
   "execution_count": 17,
   "id": "ddbe3362-b856-42df-a19b-510a1c6fc0e8",
   "metadata": {},
   "outputs": [
    {
     "data": {
      "text/plain": [
       "True"
      ]
     },
     "execution_count": 17,
     "metadata": {},
     "output_type": "execute_result"
    }
   ],
   "source": [
    "# the \"and\" logical operator\n",
    "True and True"
   ]
  },
  {
   "cell_type": "code",
   "execution_count": 18,
   "id": "eb6665b6-034e-4e64-ae3c-8095f0085152",
   "metadata": {},
   "outputs": [
    {
     "data": {
      "text/plain": [
       "True"
      ]
     },
     "execution_count": 18,
     "metadata": {},
     "output_type": "execute_result"
    }
   ],
   "source": [
    "# the \"or\" logical operator\n",
    "True or False"
   ]
  },
  {
   "cell_type": "code",
   "execution_count": 19,
   "id": "059a3329-93ba-4772-92c4-610cf5eb5d77",
   "metadata": {},
   "outputs": [
    {
     "data": {
      "text/plain": [
       "False"
      ]
     },
     "execution_count": 19,
     "metadata": {},
     "output_type": "execute_result"
    }
   ],
   "source": [
    "# another example of the \"and\" logical operator\n",
    "False and False"
   ]
  },
  {
   "cell_type": "code",
   "execution_count": 20,
   "id": "57a33bba-e9e5-4f49-937c-79a01b926b26",
   "metadata": {
    "jupyter": {
     "source_hidden": true
    }
   },
   "outputs": [
    {
     "data": {
      "text/plain": [
       "True"
      ]
     },
     "execution_count": 20,
     "metadata": {},
     "output_type": "execute_result"
    }
   ],
   "source": [
    "# anothyer example the \"or\" logical operator\n",
    "False or True"
   ]
  },
  {
   "cell_type": "markdown",
   "id": "c11b6814",
   "metadata": {
    "jp-MarkdownHeadingCollapsed": true
   },
   "source": [
    "---------------------------\n",
    "\n",
    "#### **Boolean Logic**\n",
    "\n",
    "As you can see from the examples above, figuring out the results of a Boolean Logic statement can be a bit tricky. \n",
    "\n",
    "Boolean Logic is a very important topic in Biostatistics so we will look at it later in some detail. For the moment, just keep in mind that Boolean Operators are one type of R operator. \n",
    "\n",
    "-------------------------"
   ]
  },
  {
   "cell_type": "markdown",
   "id": "da2fd4fa-1644-4b05-abc2-cfa640bd17a3",
   "metadata": {},
   "source": [
    "### Example 8: Comparison Operators\n",
    "\n",
    "In addition to the Boolean operators, there are six comparison operators that return Boolean values (True or False).\n",
    "\n",
    "These comparison operators are: `==`, `!=`, `<`, `<=`, `>`, and `>=`. These symbols stand for the logical comparisons `equal to`, `less than`, `less than or equal`, `greater than` and `greater than or equal`, respectively. \n"
   ]
  },
  {
   "cell_type": "code",
   "execution_count": 21,
   "id": "e8a5332c-774b-41c4-a6f0-7bc0048385b8",
   "metadata": {},
   "outputs": [
    {
     "data": {
      "text/plain": [
       "True"
      ]
     },
     "execution_count": 21,
     "metadata": {},
     "output_type": "execute_result"
    }
   ],
   "source": [
    "# 'Equal to' operator  ==\n",
    "8 == 5 + 3"
   ]
  },
  {
   "cell_type": "code",
   "execution_count": 22,
   "id": "47618e86-352b-46dc-a365-16371e1ea572",
   "metadata": {},
   "outputs": [
    {
     "data": {
      "text/plain": [
       "False"
      ]
     },
     "execution_count": 22,
     "metadata": {},
     "output_type": "execute_result"
    }
   ],
   "source": [
    "# 'Greater than' operator  >\n",
    "3 > 13"
   ]
  },
  {
   "cell_type": "code",
   "execution_count": 23,
   "id": "6dc83c8d-40fd-4982-a4ad-508673997e8c",
   "metadata": {},
   "outputs": [
    {
     "data": {
      "text/plain": [
       "True"
      ]
     },
     "execution_count": 23,
     "metadata": {},
     "output_type": "execute_result"
    }
   ],
   "source": [
    "# 'Less than' operator   <\n",
    "'A' < 'B'"
   ]
  },
  {
   "cell_type": "markdown",
   "id": "ca7dded0-82dd-4f6e-8e32-516a8f7b24ec",
   "metadata": {},
   "source": [
    "------------------------------------\n",
    "\n",
    "## **Summary of Syntax**\n"
   ]
  },
  {
   "cell_type": "markdown",
   "id": "c25a3351-9d80-4653-bee6-99fc1d8337bd",
   "metadata": {},
   "source": [
    "| Python Syntax           | Description                                         |\n",
    "|:------------------------|:----------------------------------------------------|\n",
    "| `#`                     | Symbol used to indicate a comment                   |     \n",
    "| `a = b`                 | Assigment                                           |\n",
    "| `a + b`                 | Addition                                            |\n",
    "| `a * b`                 | Multiplication                                      |\n",
    "| `a / b`                 | Division (normal)                                   |\n",
    "| `a // b`                | Division (floor)                                    |\n",
    "| `a % b`                 | Division (modulo)                                   |\n",
    "| `a ** b`                | Exponentiation (power)                              |\n",
    "| `a < b`                 | Less Than                                           |\n",
    "| `a > b`                 | Greater Than                                        |\n",
    "| `a <= b`                | Less Than or Equal                                  |\n",
    "| `a >= b`                | Greater Than or Equal                               |\n",
    "| `a == b`                | Equal To                                            |\n",
    "| `a and b`               | Logical AND                                         |\n",
    "| `a or b`                | Logical OR                                          |\n",
    "| `a not b`               | Logical Negation                                    |\n",
    "|                         |                                                     |\n"
   ]
  },
  {
   "cell_type": "markdown",
   "id": "a0d313c2-8c78-49ac-8f97-60ffd26cb6e5",
   "metadata": {},
   "source": [
    "## **Lesson Turn-In**\n",
    "\n",
    "When you have completed Assignment_02 (i.e. **ALL** of the cells have been run), print out this COLAB notebook as a PDF and upload it to Canvas. Name your PDF as \"Assignment_02_*lastname*.pdf\" where *lastname* is your lastname. "
   ]
  }
 ],
 "metadata": {
  "kernelspec": {
   "display_name": "Python 3 (ipykernel)",
   "language": "python",
   "name": "python3"
  },
  "language_info": {
   "codemirror_mode": {
    "name": "ipython",
    "version": 3
   },
   "file_extension": ".py",
   "mimetype": "text/x-python",
   "name": "python",
   "nbconvert_exporter": "python",
   "pygments_lexer": "ipython3",
   "version": "3.11.5"
  }
 },
 "nbformat": 4,
 "nbformat_minor": 5
}
