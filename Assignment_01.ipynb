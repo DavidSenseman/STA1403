{
 "cells": [
  {
   "cell_type": "markdown",
   "metadata": {
    "id": "bLEEW13uCtiJ"
   },
   "source": [
    "<a href=\"https://colab.research.google.com/github/DavidSenseman/STA1403/blob/master/Assignment_01.ipynb\" target=\"_parent\"><img src=\"https://colab.research.google.com/assets/colab-badge.svg\" alt=\"Open In Colab\"/></a>"
   ]
  },
  {
   "cell_type": "markdown",
   "metadata": {},
   "source": [
    "---------------------------\n",
    "**COPYRIGHT NOTICE:** This Jupyterlab Notebook is a Derivative work of [Jeff Heaton](https://github.com/jeffheaton) licensed under the Apache License, Version 2.0 (the \"License\"); You may not use this file except in compliance with the License. You may obtain a copy of the License at\n",
    "\n",
    "> [http://www.apache.org/licenses/LICENSE-2.0](http://www.apache.org/licenses/LICENSE-2.0)\n",
    "\n",
    "Unless required by applicable law or agreed to in writing, software distributed under the License is distributed on an \"AS IS\" BASIS, WITHOUT WARRANTIES OR CONDITIONS OF ANY KIND, either express or implied. See the License for the specific language governing permissions and limitations under the License.\n",
    "\n",
    "------------------------"
   ]
  },
  {
   "cell_type": "markdown",
   "metadata": {},
   "source": [
    "# **STA1403: \"Biostats\"**"
   ]
  },
  {
   "cell_type": "markdown",
   "metadata": {},
   "source": [
    "### **Assignment_01: Getting Started with Google COLAB**"
   ]
  },
  {
   "cell_type": "markdown",
   "metadata": {
    "id": "yKQylnEiLDUM"
   },
   "source": [
    "## Google CoLab Instructions\n",
    "\n",
    "The following code will map your GDrive to ```/content/drive``` and print out your Google GMAIL address."
   ]
  },
  {
   "cell_type": "code",
   "execution_count": null,
   "metadata": {
    "colab": {
     "base_uri": "https://localhost:8080/"
    },
    "id": "seXFCYH4LDUM",
    "outputId": "c05015aa-871e-4779-9265-5ad07e8bf617",
    "scrolled": true
   },
   "outputs": [],
   "source": [
    "# You must run this cell second\n",
    "try:\n",
    "    from google.colab import drive\n",
    "    drive.mount('/content/drive', force_remount=True)\n",
    "    from google.colab import auth\n",
    "    auth.authenticate_user()\n",
    "    COLAB = True\n",
    "    print(\"Note: using Google CoLab\")\n",
    "    %tensorflow_version 2.x\n",
    "    import requests\n",
    "    gcloud_token = !gcloud auth print-access-token\n",
    "    gcloud_tokeninfo = requests.get('https://www.googleapis.com/oauth2/v3/tokeninfo?access_token=' + gcloud_token[0]).json()\n",
    "    print(gcloud_tokeninfo['email'])\n",
    "except:\n",
    "    print(\"Note: not using Google CoLab\")\n",
    "    COLAB = False"
   ]
  },
  {
   "cell_type": "markdown",
   "metadata": {},
   "source": [
    "# **Assignment 1: Introduction to Google COLAB**"
   ]
  },
  {
   "cell_type": "markdown",
   "metadata": {
    "tags": []
   },
   "source": [
    "#### **In this assignment you will learn about:**\n",
    "\n",
    "* Google COLAB Interface"
   ]
  },
  {
   "attachments": {},
   "cell_type": "markdown",
   "metadata": {
    "jp-MarkdownHeadingCollapsed": true,
    "tags": []
   },
   "source": [
    "## Overview of COLAB \n",
    "\n",
    "Google COLAB was designed to be similar to a **Jupyter Lab** notebook. Jupyter is a large umbrella project that covers many different software offerings and tools, including the popular [Jupyter Notebook](https://jupyter-notebook.readthedocs.io/en/latest/) and [JupyterLab](https://jupyterlab.readthedocs.io/en/latest/) web-based notebook authoring and editing applications. The Jupyter project and its subprojects all center around providing tools (and standards) for interactive computing with computational notebooks.\n",
    "\n",
    "In this course the main pedagogical (teaching) tool for teaching **Python** coding will be the Google COLAB notebook. In this course you will be assigned a number of COLAB notebook's as **_Assignments**. This particular COLAB notebook is **Assignment_01**. All coding assignments are **_optional_**. You decide not to complete any Python coding assignment, this will **not** affect your course grade! If you do decide to complete one (or more) coding assignments, you will be awarded up to 5 Bonus Points for each assignment completed. There are a total of 10 assignments so you can improve your course grade by a maximum of 50 Bounus Points. \n",
    "\n",
    "Each assignment explains a different aspect of writing computer code in **Python** and using **Python** to solve statistical problems using biological and medical datasets. \n",
    "\n",
    "## What is a COLAB Notebook?\n",
    "\n",
    "The primary objective of this assignment is to make you familiar with the Google COLAB interface. The visual interface for a COLAB notebook is shown in the following image:\n",
    "\n",
    "![____](https://biologicslab.co/STA1403/images/A01_Image01.png)\n",
    "\n",
    "**Pictured:** A computational notebook document, shown inside Google COLAB\n",
    "\n",
    "A notebook is a shareable document that combines computer code, plain language descriptions, data, rich visualizations like 3D models, charts, graphs and figures, and interactive controls. JupyterLab notebook provides a fast interactive environment for prototyping and explaining code, exploring and visualizing data, and sharing ideas with others."
   ]
  },
  {
   "cell_type": "markdown",
   "metadata": {},
   "source": [
    "## COLAB interface\n",
    "\n",
    "The [JupyterLab interface](https://jupyterlab.readthedocs.io/en/stable/user/interface.html) consists of a [main work area](https://jupyterlab.readthedocs.io/en/stable/user/interface.html#main-area) containing tabs of documents and activities, a collapsible [left sidebar](https://jupyterlab.readthedocs.io/en/stable/user/interface.html#left-sidebar), and a [menu bar](https://jupyterlab.readthedocs.io/en/stable/user/interface.html#menu-bar). The left sidebar contains a [file browser](https://jupyterlab.readthedocs.io/en/stable/user/files.html#working-with-files), the [list of running kernels and terminals](https://jupyterlab.readthedocs.io/en/stable/user/running.html#running), the command palette, the [notebook cell tools inspector](https://jupyterlab.readthedocs.io/en/stable/user/notebook.html#notebook), and the [tabs list](https://jupyterlab.readthedocs.io/en/stable/user/interface.html#tabs).\n",
    "\n"
   ]
  },
  {
   "cell_type": "markdown",
   "metadata": {
    "jp-MarkdownHeadingCollapsed": true
   },
   "source": [
    "### Main Work Area\n",
    "\n",
    "The area highlighted in red is COLABs **main work area**. \n",
    "\n",
    "![____](https://biologicslab.co/STA1403/images/A01_Image02.png)\n",
    "\n",
    "The main work area in JupyterLab enables you to arrange documents (notebooks, text files, etc.) and other activities (terminals, code consoles, etc.) into panels of tabs that can be resized or subdivided. Drag a tab to the center of a tab panel to move the tab to the panel. Subdivide a tab panel by dragging a tab to the left, right, top, or bottom of the panel. The work area has a single current activity. The tab for the current activity is marked with a colored top border (blue by default)."
   ]
  },
  {
   "cell_type": "markdown",
   "metadata": {
    "jp-MarkdownHeadingCollapsed": true
   },
   "source": [
    "### Left Side Menu\n",
    "\n",
    "The left menu in Google Colab provides several useful functions to help you manage your projects and files. Here are the main sections and their functions:\n",
    "\n",
    "* **Files:** This section allows you to upload, manage, and access files directly from your Google Drive or local system. You can also mount your Google Drive to access files stored there.\n",
    "* **Code Snippets:** This section provides a collection of pre-written code snippets that you can easily insert into your notebook. These snippets cover a wide range of tasks, from data manipulation to machine learning.\n",
    "* **Table of Contents:** This section helps you navigate through your notebook by providing a structured view of all the headings and sections. It’s especially useful for longer notebooks.\n",
    "* **Find and Replace:** This tool allows you to search for specific text within your notebook and replace it if needed.\n",
    "* **Terminal:** This feature provides access to a terminal where you can run shell commands directly within Colab\n",
    "\n",
    "The area highlighted in red shows the Left Side Menu.\n",
    "\n",
    "![____](https://biologicslab.co/STA1403/images/A01_Image03.png)\n"
   ]
  },
  {
   "cell_type": "markdown",
   "metadata": {
    "jp-MarkdownHeadingCollapsed": true
   },
   "source": [
    "### Top Menu Bar\n",
    "\n",
    "The icons in the Google Colab top menu bar provide quick access to various functions that help you manage and interact with your notebook. Here are some of the key icons and their functions:\n",
    "\n",
    "* **File:** </br>\n",
    "&ensp; _New Notebook:_ Create a new Colab notebook. </br>\n",
    "&ensp; _Open Notebook:_ Open an existing notebook from Google Drive, GitHub, or your local system.</br>\n",
    "&ensp; _Save:_ Save the current notebook.</br>\n",
    "&ensp; _Download:_ Download the notebook in different formats (e.g., .ipynb, .py).</br>\n",
    "* **Edit:**</br>\n",
    "&ensp; _Undo/Redo:_ Undo or redo your last action.</br>\n",
    "&ensp; _Find and Replace:_ Search for specific text and replace it if needed.</br>\n",
    "* **View:**</br>\n",
    "&ensp; _Table of Contents:_ Toggle the table of contents sidebar.</br>\n",
    "&ensp; _Show/Hide Code:_ Show or hide code cells.</br>\n",
    "* **Insert:**</br>\n",
    "&ensp; _Code Cell:_ Insert a new code cell.</br>\n",
    "&ensp; _Text Cell:_ Insert a new text cell.</br>\n",
    "* **Runtime:**</br>\n",
    "&ensp; _Run All:_ Run all cells in the notebook.</br>\n",
    "&ensp; _Restart Runtime:_ Restart the runtime environment.</br>\n",
    "&ensp; _Change Runtime Type:_ Change the runtime environment (e.g., switch between CPU and GPU).</br>\n",
    "* **Tools:**</br>\n",
    "&ensp; _Settings:_ Access various settings for the notebook.</br>\n",
    "&ensp; _Command Palette:_ Access a list of commands and shortcuts.</br>\n",
    "* **Help:**</br>\n",
    "&ensp; _Documentation:_ Access Google Colab documentation.</br>\n",
    "&ensp; _Keyboard Shortcuts:_ View a list of keyboard shortcuts.</br>\n",
    "\n",
    "The Menu Bar is highlighted in red in the following image:\n",
    "\n",
    "![____](https://biologicslab.co/STA1403/images/A01_Image04.png)"
   ]
  },
  {
   "cell_type": "markdown",
   "metadata": {},
   "source": [
    "## Cells\n",
    "\n",
    "A COLAB notebook consists of cells. There are two types of cells:\n",
    "\n",
    "1. **Markdown:** Rendered text\n",
    "2. **Code:** Python code\n",
    "\n",
    "### Markdown\n",
    "\n",
    "**Markdown cells** contain text, equations and graphics. The text is written in a type of \"markup language\" called **Markdown**. The cell below shows what the text in the you are reading looks like before it is **rendered**. To render a markdown cell, select the cell with your mouse and then press **Shift-Enter** or press the `Run this cell` icon."
   ]
  },
  {
   "cell_type": "markdown",
   "metadata": {},
   "source": [
    "~~~text\n",
    "\n",
    "## Cells\n",
    "\n",
    "A JupyterLab notebook consists of cells. There are two types of cells:\n",
    "\n",
    "1. **Markdown:** Rendered text\n",
    "2. **Code:** Python code\n",
    "\n",
    "### Markdown\n",
    "\n",
    "**Markdown cells** contain text, equations and graphics. The text is written in a type of \"markup language\" called **Markdown**. The cell below shows what the text in the you are reading looks like before it is **rendered**. To render a markdown cell, select the cell with your mouse and then press **Shift-Enter** or press the `Run this cell` icon.\n",
    "~~~"
   ]
  },
  {
   "cell_type": "markdown",
   "metadata": {},
   "source": [
    "### Code cells\n",
    "\n",
    "A **code cell** contains actual code that you want to run. You can tell the difference between a Markdown cell and a Code cell by its color. Markdown cells are white while Code cells are slightly gray. \n",
    "\n",
    "The image below shows the first code in Assignment_01.\n",
    "\n",
    "![____](https://biologicslab.co/STA1403/images/A01_Image05.png)\n",
    "\n",
    "To receive full credit for your Python coding assignments, you must \"run\" **all** code cells. This is especially true of the first code cell. If you don't run the first code cell you will not receive any credit for the assignment. \n",
    "\n",
    "To \"run\" (execute) a code cell, simply click on white triange surrounded by a black circle at the upper left edge of the code cell (where the hand icon is pointing). The output from running the code cell will be shown immediately below the cell. \n",
    "\n",
    "You should expect to see several warnings when you run the first code cell. This first warning is shown in the next image.\n",
    "\n",
    "![____](https://biologicslab.co/STA1403/images/A01_Image_06.png)\n",
    "\n",
    "You can safely ignore this and the next few warnings. Simply select `Run Anyway`. \n",
    "\n",
    "When all the warning messages have been addressed, the first code cell will run as shown in the next image.\n",
    "\n",
    "![____](https://biologicslab.co/STA1403/images/A01_Image_12.png)\n",
    "\n",
    "The output from the first code cell is high-lighted in yellow. Note that the last line of the output is your GMail address which indicates the author of the Google COLAB notebook."
   ]
  },
  {
   "cell_type": "markdown",
   "metadata": {},
   "source": [
    "## **Writing and Running Python Code**\n",
    "\n",
    "The pedagological approach used to teach Python coding and statistical analysis is to present a code example paired with a code example. The code **_example_** shows the correct Python syntax for preforming a certain task or a series of related tasks. You must run (execute) each code example to see what the code does by looking at the output that appears immediately below the code cell. And then, using the code in example as a template, you are asked to complete a campanion **_exercise_**. "
   ]
  },
  {
   "cell_type": "markdown",
   "metadata": {},
   "source": [
    "### Example 1: Pring out a message\n",
    "\n",
    "The code in the cell below prints out the message \"Hello World\". "
   ]
  },
  {
   "cell_type": "code",
   "execution_count": 1,
   "metadata": {},
   "outputs": [
    {
     "name": "stdout",
     "output_type": "stream",
     "text": [
      "Hello World\n"
     ]
    }
   ],
   "source": [
    "# Example 1: Print out a string\n",
    "\n",
    "print(\"Hello World\")"
   ]
  },
  {
   "cell_type": "markdown",
   "metadata": {},
   "source": [
    "When you run a code cell, a program called the `Python Interpreter` parses ('looks at') each line of code. If the `Python Interpreter` understands the code, it will carry out the code's command. In this example, **Python** printed out the words `Hello, World` to your COLAB notebook immediately below the code cell. If the **Python** Interpreter doesn't understand the code -- perhaps you spelled the command `print` with a captial letter as `Print` -- **Python** will report an error and stop. "
   ]
  },
  {
   "cell_type": "markdown",
   "metadata": {},
   "source": [
    "### **Exercise 1: Print out a message**\n",
    "\n",
    "In the cell below, write the code that prints out the message \"Good-bye Cruel World\". "
   ]
  },
  {
   "cell_type": "code",
   "execution_count": 2,
   "metadata": {},
   "outputs": [],
   "source": [
    "# Insert your code for Exercise 1 here\n",
    "\n"
   ]
  },
  {
   "cell_type": "markdown",
   "metadata": {},
   "source": [
    "If your code is correct, you should see the following output:\n",
    "\n",
    "~~~text\n",
    "Good-bye Cruel World\n",
    "~~~\n",
    "\n",
    "Usually, you will be given what the correct output of an exercise should look like. By comparing your output to the correct output, you should be able to make any necessary changes to your code."
   ]
  },
  {
   "cell_type": "markdown",
   "metadata": {},
   "source": [
    "## How to turn-in your completed JupyterLab notebook\n",
    "\n",
    "When you have completed an assignment, you need to print out a copy of your COLAB notebook as a PDF. From the top menu select **File** -> **Print**. This will bring up a new `Print` dialog window as shown in the next image.\n",
    "\n",
    "![__](https://biologicslab.co/STA1403/images/A01_Image_13.png)\n",
    "\n",
    "Under `Destination`, click on the downward triangle icon and select `Save as PDF`.  \n",
    "\n",
    "Name your PDF as `Assignment_01_lastname.pdf` where _lastname_ is your last name. Upload the PDF to Assignment_01 on Canvas for grading."
   ]
  }
 ],
 "metadata": {
  "kernelspec": {
   "display_name": "Python 3.9 (biostats)",
   "language": "python",
   "name": "biostats"
  },
  "language_info": {
   "codemirror_mode": {
    "name": "ipython",
    "version": 3
   },
   "file_extension": ".py",
   "mimetype": "text/x-python",
   "name": "python",
   "nbconvert_exporter": "python",
   "pygments_lexer": "ipython3",
   "version": "3.9.19"
  }
 },
 "nbformat": 4,
 "nbformat_minor": 4
}
