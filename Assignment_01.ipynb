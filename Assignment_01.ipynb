{
 "cells": [
  {
   "cell_type": "markdown",
   "metadata": {
    "id": "bLEEW13uCtiJ"
   },
   "source": [
    "<a href=\"https://colab.research.google.com/github/DavidSenseman/STA1403/blob/master/Assignment_01.ipynb\" target=\"_parent\"><img src=\"https://colab.research.google.com/assets/colab-badge.svg\" alt=\"Open In Colab\"/></a>"
   ]
  },
  {
   "cell_type": "markdown",
   "metadata": {},
   "source": [
    "---------------------------\n",
    "**COPYRIGHT NOTICE:** This Jupyterlab Notebook is a Derivative work of [Jeff Heaton](https://github.com/jeffheaton) licensed under the Apache License, Version 2.0 (the \"License\"); You may not use this file except in compliance with the License. You may obtain a copy of the License at\n",
    "\n",
    "> [http://www.apache.org/licenses/LICENSE-2.0](http://www.apache.org/licenses/LICENSE-2.0)\n",
    "\n",
    "Unless required by applicable law or agreed to in writing, software distributed under the License is distributed on an \"AS IS\" BASIS, WITHOUT WARRANTIES OR CONDITIONS OF ANY KIND, either express or implied. See the License for the specific language governing permissions and limitations under the License.\n",
    "\n",
    "------------------------"
   ]
  },
  {
   "cell_type": "markdown",
   "metadata": {},
   "source": [
    "# **STA1403: \"Biostats\"**"
   ]
  },
  {
   "cell_type": "markdown",
   "metadata": {},
   "source": [
    "### **Assignment_01: Getting Started with Google COLAB**"
   ]
  },
  {
   "cell_type": "markdown",
   "metadata": {
    "id": "yKQylnEiLDUM"
   },
   "source": [
    "## Google CoLab Instructions\n",
    "\n",
    "The following code will map your GDrive to ```/content/drive``` and print out your Google GMAIL address."
   ]
  },
  {
   "cell_type": "code",
   "execution_count": 2,
   "metadata": {
    "colab": {
     "base_uri": "https://localhost:8080/"
    },
    "id": "seXFCYH4LDUM",
    "outputId": "c05015aa-871e-4779-9265-5ad07e8bf617",
    "scrolled": true
   },
   "outputs": [
    {
     "name": "stdout",
     "output_type": "stream",
     "text": [
      "Note: not using Google CoLab\n"
     ]
    }
   ],
   "source": [
    "# You must run this cell second\n",
    "try:\n",
    "    from google.colab import drive\n",
    "    drive.mount('/content/drive', force_remount=True)\n",
    "    from google.colab import auth\n",
    "    auth.authenticate_user()\n",
    "    COLAB = True\n",
    "    print(\"Note: using Google CoLab\")\n",
    "    %tensorflow_version 2.x\n",
    "    import requests\n",
    "    gcloud_token = !gcloud auth print-access-token\n",
    "    gcloud_tokeninfo = requests.get('https://www.googleapis.com/oauth2/v3/tokeninfo?access_token=' + gcloud_token[0]).json()\n",
    "    print(gcloud_tokeninfo['email'])\n",
    "except:\n",
    "    print(\"Note: not using Google CoLab\")\n",
    "    COLAB = False"
   ]
  },
  {
   "cell_type": "markdown",
   "metadata": {},
   "source": [
    "# **Assignment 1: Introduction to JupyterLab**"
   ]
  },
  {
   "cell_type": "markdown",
   "metadata": {
    "tags": []
   },
   "source": [
    "#### **In this assignment you will learn about:**\n",
    "\n",
    "* Syntax\n",
    "* Help\n",
    "* Variables\n",
    "* Operators\n",
    "* Expressions"
   ]
  },
  {
   "attachments": {},
   "cell_type": "markdown",
   "metadata": {
    "tags": []
   },
   "source": [
    "## Overview of JupyterLab \n",
    "\n",
    "**Jupyter** is a large umbrella project that covers many different software offerings and tools, including the popular [Jupyter Notebook](https://jupyter-notebook.readthedocs.io/en/latest/) and [JupyterLab](https://jupyterlab.readthedocs.io/en/latest/) web-based notebook authoring and editing applications. The Jupyter project and its subprojects all center around providing tools (and standards) for interactive computing with computational notebooks.\n",
    "\n",
    "In this course the main pedagogical (teaching) tool for teaching **Python** coding will be the JupyterLab notebook. In this course you will be assigned a number of JupyterLab notebook's as **_Assignments**. This particular JupyterLab notebook is **Assignment_01**. \n",
    "\n",
    "Each assignment explains a different aspect of writing computer code in **Python** and using **Python** to solve statistical problems using biological and medical datasets. \n",
    "\n",
    "## What is a Notebook?\n",
    "\n",
    "The primary objective of this assignment is to make you familiar with the COLAB interface. The visual interface for a COLAB notebook is shown in the following image:\n",
    "    \n",
    "![_](jupyterlab.png)\n",
    "\n",
    "**Pictured:** _A computational notebook document, shown inside JupyterLab_\n",
    "\n",
    "A notebook is a shareable document that combines computer code, plain language descriptions, data, rich visualizations like 3D models, charts, graphs and figures, and interactive controls. JupyterLab notebook provides a fast interactive environment for prototyping and explaining code, exploring and visualizing data, and sharing ideas with others."
   ]
  },
  {
   "cell_type": "markdown",
   "metadata": {},
   "source": [
    "## JupyterLab interface\n",
    "\n",
    "The [JupyterLab interface](https://jupyterlab.readthedocs.io/en/stable/user/interface.html) consists of a [main work area](https://jupyterlab.readthedocs.io/en/stable/user/interface.html#main-area) containing tabs of documents and activities, a collapsible [left sidebar](https://jupyterlab.readthedocs.io/en/stable/user/interface.html#left-sidebar), and a [menu bar](https://jupyterlab.readthedocs.io/en/stable/user/interface.html#menu-bar). The left sidebar contains a [file browser](https://jupyterlab.readthedocs.io/en/stable/user/files.html#working-with-files), the [list of running kernels and terminals](https://jupyterlab.readthedocs.io/en/stable/user/running.html#running), the command palette, the [notebook cell tools inspector](https://jupyterlab.readthedocs.io/en/stable/user/notebook.html#notebook), and the [tabs list](https://jupyterlab.readthedocs.io/en/stable/user/interface.html#tabs).\n",
    "\n"
   ]
  },
  {
   "cell_type": "markdown",
   "metadata": {
    "jp-MarkdownHeadingCollapsed": true
   },
   "source": [
    "### Main Work Area\n",
    "\n",
    "The area highlighted in red is JupyterLab's **main work area**. \n",
    "\n",
    "![__](Interface_Main.png)\n",
    "\n",
    "The main work area in JupyterLab enables you to arrange documents (notebooks, text files, etc.) and other activities (terminals, code consoles, etc.) into panels of tabs that can be resized or subdivided. Drag a tab to the center of a tab panel to move the tab to the panel. Subdivide a tab panel by dragging a tab to the left, right, top, or bottom of the panel. The work area has a single current activity. The tab for the current activity is marked with a colored top border (blue by default)."
   ]
  },
  {
   "cell_type": "markdown",
   "metadata": {},
   "source": [
    "### Left Side Bar\n",
    "\n",
    "The left sidebar contains a number of commonly-used tabs including:\n",
    "\n",
    "* a file browser,\n",
    "\n",
    "* a list of tabs in the main work and of running kernels and terminals\n",
    "\n",
    "* the table of contents,\n",
    "\n",
    "* the extension manager.\n",
    "\n",
    "The area highlighted in red shows the Left Side Bar in its \"File Browser\" mode.\n",
    "\n",
    "![__](Interface_Left.png)\n"
   ]
  },
  {
   "cell_type": "markdown",
   "metadata": {},
   "source": [
    "### Menu Bar\n",
    "\n",
    "The menu bar at the top of JupyterLab has top-level menus that expose actions available in JupyterLab with their keyboard shortcuts. The default menus are:\n",
    "\n",
    "* **File:** actions related to files and directories\n",
    "* **Edit:** actions related to editing documents and other activities\n",
    "* **View:** actions that alter the appearance of JupyterLab\n",
    "* **Run:** actions for running code in different activities such as notebooks and code consoles\n",
    "* **Kernel:** actions for managing kernels, which are separate processes for running code\n",
    "* **Tabs:** a list of the open documents and activities in the dock panel\n",
    "* **Settings:** common settings and an advanced settings editor\n",
    "* **Help:** a list of JupyterLab and kernel help links\n",
    "\n",
    "The Menu Bar is highlighted in red in the following image:\n",
    "\n",
    "![__](Interface_Menu.png)"
   ]
  },
  {
   "cell_type": "markdown",
   "metadata": {},
   "source": [
    "### Short-cut Tool Bar\n",
    "\n",
    "The short-cut tool bar contains 9 icons and a drop down menu. These icons provide quick access to the most frequently used commands. The Menu Bar is highlighted in red in the following image:\n",
    "\n",
    "![__](Interface_Tool.png)\n",
    "\n",
    "The functions of the different icons are listed in the table below.\n",
    "\n",
    "------------------------------------------------------------------\n",
    "| - | - |\n",
    "|---|---|\n",
    "| Save and Create Checkpoint (Cntrl+S)| ![_](Icon1.png) |\n",
    "| Insert a cell below (B)| ![_](Icon2.png) |\n",
    "| Cut this cell (X) | ![_](Icon3.png) | \n",
    "| Copy this cell (C)| ![_](Icon4.png) |\n",
    "| Paste this cell from the clipboard (V)| ![_](Icon5.png) |\n",
    "| Run this cell and advance (Shift-Enter) | ![_](Icon6.png) | \n",
    "| Interrupt the kernel| ![_](Icon7.png) |\n",
    "| Restart the kernel  | ![_](Icon8.png) |\n",
    "| Restart the kernel and run all cells | ![__](Icon9.png) | \n",
    "\n",
    "----------------------------------------------\n",
    "\n",
    "The drop down menu controls the cell type.\n",
    "\n",
    "![___](Icon12.png)"
   ]
  },
  {
   "cell_type": "markdown",
   "metadata": {},
   "source": [
    "## Cells\n",
    "\n",
    "A JupyterLab notebook consists of cells. There are types of cells:\n",
    "\n",
    "1. **Markdown:** Rendered text\n",
    "2. **Code:** Python code\n",
    "3. **Raw:** Plain text\n",
    "\n",
    "### Markdown\n",
    "\n",
    "**Markdown cells** contain text, equations and graphics. The text is written in a type of \"markup language\" called **Markdown**. The cell below shows what the text in the you are reading looks like before it is **rendered**. To render a markdown cell, select the cell with your mouse and then press **Shift-Enter** or press the `Run this cell` icon."
   ]
  },
  {
   "cell_type": "raw",
   "metadata": {},
   "source": [
    "## Cells\n",
    "\n",
    "A JupyterLab notebook consists of cells. There are types of cells:\n",
    "\n",
    "1. **Markdown:** Rendered text\n",
    "2. **Code:** Python code\n",
    "3. **Raw:** Plain text\n",
    "\n",
    "### Markdown\n",
    "\n",
    "**Markdown cells** contain text, equations and graphics. The text is written in a type of \"markup language\" called **Markdown**. The cell below shows what the text in the you are reading looks like before it is **rendered**. To render a markdown cell, select the cell with your mouse and then press **Shift-Enter** or press the `Run this cell` icon.\n"
   ]
  },
  {
   "cell_type": "markdown",
   "metadata": {},
   "source": [
    "### Code cells\n",
    "\n",
    "A **code cell** contains actual code that you want to run. You can specify a cell as a code cell using the pulldown menu in the Shortcut Icon toolbar or you can can hit `Esc+y` while the cell is selected to make it a code cell. (Note that you will have to hit enter after doing this to start editing it.)\n",
    "\n",
    "The next cell is a code cell that prints \"Hello, World\" when it is executed. To execute (run) the code in the cell it must first be **selected** using your mouse. There will be a blue line at the left of the currently selected cell. \n",
    "\n",
    "Once a cell is selected it can be \"run\" (executed) by hitting **Shift+Enter** or by clicking on the `Run this cell` icon in the Short-Cut Toolbar."
   ]
  },
  {
   "cell_type": "code",
   "execution_count": null,
   "metadata": {},
   "outputs": [],
   "source": [
    "# This is a Code cell\n",
    "print(\"Hello, World\")"
   ]
  },
  {
   "cell_type": "markdown",
   "metadata": {},
   "source": [
    "When you run a code cell, a program called the `Python Interpreter` parses ('looks at') each line of code. If the `Python Interpreter` understands the code, it will carry out the code's command. In this example, **Python** printed out the words `Hello, World` to your JupyterLab immediately below the code cell. If the **Python** Interpreter doesn't understand the code -- perhaps you spelled the command `print` with a captial letter as `Print` -- **Python** will report an error and stop. "
   ]
  },
  {
   "cell_type": "markdown",
   "metadata": {},
   "source": [
    "## Code Cell Numbering\n",
    "\n",
    "To the let of each code cell is a pair of square brackets. Before the cell is run, these brackets are empty as shown in the next image.\n",
    "\n",
    "![__](CodeCell1.png)\n",
    "\n",
    "After a code cell has been run, a number will appear inside the square brackets as show in the next image.\n",
    "\n",
    "![__](CodeCell2.png)\n",
    "\n",
    "The number `1` inside the square brackets means it was the first code cell run. \n",
    "\n",
    "When you turn in this or any R assignment for grading, the first thing that the Grader will do is to check whether **ALL** of your code cells have been run in **sequential order**. In other words, to receive full credit, the first code cell in your JupyterLab notebook must have the number `1` inside the square brackets, the second code cell must have the number `2` inside the square brackets, and so forth. \n",
    "\n",
    "To make this processes easier, you can hit the [Restart the kernel and run all cells](Icon9.png) icon in the Short-cut Icon toolbar after you have completed all of your coding and are ready to submit your JupyterLab notebook for grading. \n",
    "\n",
    "![__](Icon9.png)\n"
   ]
  },
  {
   "cell_type": "markdown",
   "metadata": {},
   "source": [
    "## How to turn-in your completed JupyterLab notebook\n",
    "\n",
    "When you have completed an assignment, and run all of your cells in sequential order, save your notebook by hitting Crtl+S (Windows) or CMD+S (Mac). \n",
    "\n",
    "Then select **File** -> **Save and Export Notebook As...** --> **PDF** as shown in the following image:\n",
    "\n",
    "![___](Print.png)\n",
    "\n",
    "Name your PDF as `Assignment_01_lastname.pdf` where _lastname_ is your last name. Upload the PDF to Assignment_01 on Canvas."
   ]
  },
  {
   "cell_type": "code",
   "execution_count": null,
   "metadata": {},
   "outputs": [],
   "source": []
  }
 ],
 "metadata": {
  "kernelspec": {
   "display_name": "Python 3.9 (biostats)",
   "language": "python",
   "name": "biostats"
  },
  "language_info": {
   "codemirror_mode": {
    "name": "ipython",
    "version": 3
   },
   "file_extension": ".py",
   "mimetype": "text/x-python",
   "name": "python",
   "nbconvert_exporter": "python",
   "pygments_lexer": "ipython3",
   "version": "3.9.19"
  }
 },
 "nbformat": 4,
 "nbformat_minor": 4
}
