{
  "cells": [
    {
      "cell_type": "markdown",
      "metadata": {
        "id": "bLEEW13uCtiJ"
      },
      "source": [
        "<a href=\"https://colab.research.google.com/github/DavidSenseman/STA1403/blob/master/Assignment_09.ipynb\" target=\"_parent\"><img src=\"https://colab.research.google.com/assets/colab-badge.svg\" alt=\"Open In Colab\"/></a>"
      ]
    },
    {
      "cell_type": "markdown",
      "metadata": {
        "id": "Ja7nPUSP_Ufj"
      },
      "source": [
        "---------------------------\n",
        "**COPYRIGHT NOTICE:** This Jupyterlab Notebook is a Derivative work of [Jeff Heaton](https://github.com/jeffheaton) licensed under the Apache License, Version 2.0 (the \"License\"); You may not use this file except in compliance with the License. You may obtain a copy of the License at\n",
        "\n",
        "> [http://www.apache.org/licenses/LICENSE-2.0](http://www.apache.org/licenses/LICENSE-2.0)\n",
        "\n",
        "Unless required by applicable law or agreed to in writing, software distributed under the License is distributed on an \"AS IS\" BASIS, WITHOUT WARRANTIES OR CONDITIONS OF ANY KIND, either express or implied. See the License for the specific language governing permissions and limitations under the License.\n",
        "\n",
        "------------------------"
      ]
    },
    {
      "cell_type": "markdown",
      "metadata": {
        "id": "5ujcCu0b_Ufj"
      },
      "source": [
        "# **STA1403: \"Biostats\"**"
      ]
    },
    {
      "cell_type": "markdown",
      "metadata": {
        "id": "8WRal_wk_Ufj"
      },
      "source": [
        "### **Assignment 9: Regression**"
      ]
    },
    {
      "cell_type": "markdown",
      "metadata": {
        "jp-MarkdownHeadingCollapsed": true,
        "tags": [],
        "id": "DXzx1LA5_Ufk"
      },
      "source": [
        "#### In this assignment you will learn about:\n",
        "\n",
        "* Simple linear regression\n",
        "* Line-of-best-fit (regression line)\n",
        "* Multiple linear regression (no interactions)\n",
        "* Multiple linear regression (with interactions)\n"
      ]
    },
    {
      "cell_type": "markdown",
      "metadata": {
        "id": "yKQylnEiLDUM"
      },
      "source": [
        "### Google CoLab Instructions\n",
        "\n",
        "The following code will map your GDrive to ```/content/drive``` and print out your Google GMAIL address."
      ]
    },
    {
      "cell_type": "code",
      "execution_count": null,
      "metadata": {
        "id": "seXFCYH4LDUM",
        "scrolled": true
      },
      "outputs": [],
      "source": [
        "# You must run this cell second\n",
        "try:\n",
        "    from google.colab import drive\n",
        "    drive.mount('/content/drive', force_remount=True)\n",
        "    from google.colab import auth\n",
        "    auth.authenticate_user()\n",
        "    COLAB = True\n",
        "    print(\"Note: using Google CoLab\")\n",
        "    %tensorflow_version 2.x\n",
        "    import requests\n",
        "    gcloud_token = !gcloud auth print-access-token\n",
        "    gcloud_tokeninfo = requests.get('https://www.googleapis.com/oauth2/v3/tokeninfo?access_token=' + gcloud_token[0]).json()\n",
        "    print(gcloud_tokeninfo['email'])\n",
        "except:\n",
        "    print(\"Note: not using Google CoLab\")\n",
        "    COLAB = False"
      ]
    },
    {
      "cell_type": "markdown",
      "metadata": {
        "id": "5p21ffM-_Ufk"
      },
      "source": [
        "## **Regression Analysis**"
      ]
    },
    {
      "cell_type": "markdown",
      "metadata": {
        "jp-MarkdownHeadingCollapsed": true,
        "tags": [],
        "id": "wv5T7NQ0_Ufk"
      },
      "source": [
        "In this lesson you will learn how to use Python to perform simple and multiple linear regressions. In a previous assignment we discussed how to test a hypothesis regarding the relationship betweeen a binary explanatory variable and a numerical response variable using a two-sample _t_-test. We also discussed situations where we investigate the linear relationship between two numerical variables (e.g., percent body fat and abdomen circumference). In this case, we typically consider one of the two numerical variables (e.g., percent body fat) as the response (or target) variable and the other one (e.g., abdomen circumference) as the explanatory variable. The common theme for both methods is that we investigate the relationship between an explanatory variable (either categorical or numerical) and a numerical random variable.\n",
        "\n",
        "In this assignment, we discuss an alternative approach for analyzing such problems. This approach use linear regression models for either testing a hypothesis regarding the relationship between one or more explanatory variables and a response variable, or predicting unknown values of the response variable using one or more predictors. Note that we use the terms “explanatory variables” and “predictors” to distinguish the role of variables (other than the response variable) in the model.\n"
      ]
    },
    {
      "cell_type": "markdown",
      "metadata": {
        "tags": [],
        "id": "J2dk2Gep_Ufl"
      },
      "source": [
        "### Data File\n",
        "\n",
        "In Assignment 09 we will be using the Birth Weight dataset, to explore some of the different ways to perform a **_regression_** analysis. We have used this dataset before so you should already be familiar with it.\n"
      ]
    },
    {
      "cell_type": "markdown",
      "metadata": {
        "id": "bvrJof2D_Ufl"
      },
      "source": [
        "### Data Description\n",
        "\n",
        "The dataset contains data from 189 women who gave birth to a baby at the Baystate Medical Center. For each woman, the following 10 datapoints were recorded:\n",
        "\n",
        "* _low_   indicator of birth weight less than 2.5 kg.\n",
        "* _age_   mother's age in years.\n",
        "* _lwt_   mother's weight in pounds at last menstrual period.\n",
        "* _race_  other's race (1 = white, 2 = black, 3 = other).\n",
        "* _smoke_ smoking status during pregnancy.\n",
        "* _ptl_   number of previous premature labours.\n",
        "* _ht_    history of hypertension.\n",
        "* _ui_    presence of uterine irritability.\n",
        "* _ftv_   number of physician visits during the first trimester.\n",
        "* _bwt_   birth weight in grams.\n",
        "\n"
      ]
    },
    {
      "cell_type": "markdown",
      "metadata": {
        "id": "dy2fZj4__Ufl"
      },
      "source": [
        "### Read datafile from the internet.\n",
        "\n",
        "We will use the Pandas function `pd.read_csv()` function to read the data from the course file server, `biologicslab.co`. In this text file, data values are separated by a space. Therefore, we have to add the argument `sep=' '` as shown in the cell below. As the data is stored in a DataFrame called `bwDF`.\n",
        "\n",
        "After reading in the data, we use the `head()` function to print out the first 5 records to make sure our code worked as expected."
      ]
    },
    {
      "cell_type": "code",
      "execution_count": 2,
      "metadata": {
        "scrolled": true,
        "id": "9INQPgNi_Ufl",
        "outputId": "07a38616-8d46-426c-b7fa-e6fec35b25f7",
        "colab": {
          "base_uri": "https://localhost:8080/",
          "height": 206
        }
      },
      "outputs": [
        {
          "output_type": "execute_result",
          "data": {
            "text/plain": [
              "   low  age  lwt  race  smoke  ptl  ht  ui  ftv   bwt\n",
              "0    0   19  182     2      0    0   0   1    0  2523\n",
              "1    0   33  155     3      0    0   0   0    3  2551\n",
              "2    0   20  105     1      1    0   0   0    1  2557\n",
              "3    0   21  108     1      1    0   0   1    2  2594\n",
              "4    0   18  107     1      1    0   0   1    0  2600"
            ],
            "text/html": [
              "\n",
              "  <div id=\"df-7969c9aa-6d91-4235-a2bd-ba207a017d9f\" class=\"colab-df-container\">\n",
              "    <div>\n",
              "<style scoped>\n",
              "    .dataframe tbody tr th:only-of-type {\n",
              "        vertical-align: middle;\n",
              "    }\n",
              "\n",
              "    .dataframe tbody tr th {\n",
              "        vertical-align: top;\n",
              "    }\n",
              "\n",
              "    .dataframe thead th {\n",
              "        text-align: right;\n",
              "    }\n",
              "</style>\n",
              "<table border=\"1\" class=\"dataframe\">\n",
              "  <thead>\n",
              "    <tr style=\"text-align: right;\">\n",
              "      <th></th>\n",
              "      <th>low</th>\n",
              "      <th>age</th>\n",
              "      <th>lwt</th>\n",
              "      <th>race</th>\n",
              "      <th>smoke</th>\n",
              "      <th>ptl</th>\n",
              "      <th>ht</th>\n",
              "      <th>ui</th>\n",
              "      <th>ftv</th>\n",
              "      <th>bwt</th>\n",
              "    </tr>\n",
              "  </thead>\n",
              "  <tbody>\n",
              "    <tr>\n",
              "      <th>0</th>\n",
              "      <td>0</td>\n",
              "      <td>19</td>\n",
              "      <td>182</td>\n",
              "      <td>2</td>\n",
              "      <td>0</td>\n",
              "      <td>0</td>\n",
              "      <td>0</td>\n",
              "      <td>1</td>\n",
              "      <td>0</td>\n",
              "      <td>2523</td>\n",
              "    </tr>\n",
              "    <tr>\n",
              "      <th>1</th>\n",
              "      <td>0</td>\n",
              "      <td>33</td>\n",
              "      <td>155</td>\n",
              "      <td>3</td>\n",
              "      <td>0</td>\n",
              "      <td>0</td>\n",
              "      <td>0</td>\n",
              "      <td>0</td>\n",
              "      <td>3</td>\n",
              "      <td>2551</td>\n",
              "    </tr>\n",
              "    <tr>\n",
              "      <th>2</th>\n",
              "      <td>0</td>\n",
              "      <td>20</td>\n",
              "      <td>105</td>\n",
              "      <td>1</td>\n",
              "      <td>1</td>\n",
              "      <td>0</td>\n",
              "      <td>0</td>\n",
              "      <td>0</td>\n",
              "      <td>1</td>\n",
              "      <td>2557</td>\n",
              "    </tr>\n",
              "    <tr>\n",
              "      <th>3</th>\n",
              "      <td>0</td>\n",
              "      <td>21</td>\n",
              "      <td>108</td>\n",
              "      <td>1</td>\n",
              "      <td>1</td>\n",
              "      <td>0</td>\n",
              "      <td>0</td>\n",
              "      <td>1</td>\n",
              "      <td>2</td>\n",
              "      <td>2594</td>\n",
              "    </tr>\n",
              "    <tr>\n",
              "      <th>4</th>\n",
              "      <td>0</td>\n",
              "      <td>18</td>\n",
              "      <td>107</td>\n",
              "      <td>1</td>\n",
              "      <td>1</td>\n",
              "      <td>0</td>\n",
              "      <td>0</td>\n",
              "      <td>1</td>\n",
              "      <td>0</td>\n",
              "      <td>2600</td>\n",
              "    </tr>\n",
              "  </tbody>\n",
              "</table>\n",
              "</div>\n",
              "    <div class=\"colab-df-buttons\">\n",
              "\n",
              "  <div class=\"colab-df-container\">\n",
              "    <button class=\"colab-df-convert\" onclick=\"convertToInteractive('df-7969c9aa-6d91-4235-a2bd-ba207a017d9f')\"\n",
              "            title=\"Convert this dataframe to an interactive table.\"\n",
              "            style=\"display:none;\">\n",
              "\n",
              "  <svg xmlns=\"http://www.w3.org/2000/svg\" height=\"24px\" viewBox=\"0 -960 960 960\">\n",
              "    <path d=\"M120-120v-720h720v720H120Zm60-500h600v-160H180v160Zm220 220h160v-160H400v160Zm0 220h160v-160H400v160ZM180-400h160v-160H180v160Zm440 0h160v-160H620v160ZM180-180h160v-160H180v160Zm440 0h160v-160H620v160Z\"/>\n",
              "  </svg>\n",
              "    </button>\n",
              "\n",
              "  <style>\n",
              "    .colab-df-container {\n",
              "      display:flex;\n",
              "      gap: 12px;\n",
              "    }\n",
              "\n",
              "    .colab-df-convert {\n",
              "      background-color: #E8F0FE;\n",
              "      border: none;\n",
              "      border-radius: 50%;\n",
              "      cursor: pointer;\n",
              "      display: none;\n",
              "      fill: #1967D2;\n",
              "      height: 32px;\n",
              "      padding: 0 0 0 0;\n",
              "      width: 32px;\n",
              "    }\n",
              "\n",
              "    .colab-df-convert:hover {\n",
              "      background-color: #E2EBFA;\n",
              "      box-shadow: 0px 1px 2px rgba(60, 64, 67, 0.3), 0px 1px 3px 1px rgba(60, 64, 67, 0.15);\n",
              "      fill: #174EA6;\n",
              "    }\n",
              "\n",
              "    .colab-df-buttons div {\n",
              "      margin-bottom: 4px;\n",
              "    }\n",
              "\n",
              "    [theme=dark] .colab-df-convert {\n",
              "      background-color: #3B4455;\n",
              "      fill: #D2E3FC;\n",
              "    }\n",
              "\n",
              "    [theme=dark] .colab-df-convert:hover {\n",
              "      background-color: #434B5C;\n",
              "      box-shadow: 0px 1px 3px 1px rgba(0, 0, 0, 0.15);\n",
              "      filter: drop-shadow(0px 1px 2px rgba(0, 0, 0, 0.3));\n",
              "      fill: #FFFFFF;\n",
              "    }\n",
              "  </style>\n",
              "\n",
              "    <script>\n",
              "      const buttonEl =\n",
              "        document.querySelector('#df-7969c9aa-6d91-4235-a2bd-ba207a017d9f button.colab-df-convert');\n",
              "      buttonEl.style.display =\n",
              "        google.colab.kernel.accessAllowed ? 'block' : 'none';\n",
              "\n",
              "      async function convertToInteractive(key) {\n",
              "        const element = document.querySelector('#df-7969c9aa-6d91-4235-a2bd-ba207a017d9f');\n",
              "        const dataTable =\n",
              "          await google.colab.kernel.invokeFunction('convertToInteractive',\n",
              "                                                    [key], {});\n",
              "        if (!dataTable) return;\n",
              "\n",
              "        const docLinkHtml = 'Like what you see? Visit the ' +\n",
              "          '<a target=\"_blank\" href=https://colab.research.google.com/notebooks/data_table.ipynb>data table notebook</a>'\n",
              "          + ' to learn more about interactive tables.';\n",
              "        element.innerHTML = '';\n",
              "        dataTable['output_type'] = 'display_data';\n",
              "        await google.colab.output.renderOutput(dataTable, element);\n",
              "        const docLink = document.createElement('div');\n",
              "        docLink.innerHTML = docLinkHtml;\n",
              "        element.appendChild(docLink);\n",
              "      }\n",
              "    </script>\n",
              "  </div>\n",
              "\n",
              "\n",
              "<div id=\"df-25552fcd-eb72-4534-9dbc-2b4a3e4e0776\">\n",
              "  <button class=\"colab-df-quickchart\" onclick=\"quickchart('df-25552fcd-eb72-4534-9dbc-2b4a3e4e0776')\"\n",
              "            title=\"Suggest charts\"\n",
              "            style=\"display:none;\">\n",
              "\n",
              "<svg xmlns=\"http://www.w3.org/2000/svg\" height=\"24px\"viewBox=\"0 0 24 24\"\n",
              "     width=\"24px\">\n",
              "    <g>\n",
              "        <path d=\"M19 3H5c-1.1 0-2 .9-2 2v14c0 1.1.9 2 2 2h14c1.1 0 2-.9 2-2V5c0-1.1-.9-2-2-2zM9 17H7v-7h2v7zm4 0h-2V7h2v10zm4 0h-2v-4h2v4z\"/>\n",
              "    </g>\n",
              "</svg>\n",
              "  </button>\n",
              "\n",
              "<style>\n",
              "  .colab-df-quickchart {\n",
              "      --bg-color: #E8F0FE;\n",
              "      --fill-color: #1967D2;\n",
              "      --hover-bg-color: #E2EBFA;\n",
              "      --hover-fill-color: #174EA6;\n",
              "      --disabled-fill-color: #AAA;\n",
              "      --disabled-bg-color: #DDD;\n",
              "  }\n",
              "\n",
              "  [theme=dark] .colab-df-quickchart {\n",
              "      --bg-color: #3B4455;\n",
              "      --fill-color: #D2E3FC;\n",
              "      --hover-bg-color: #434B5C;\n",
              "      --hover-fill-color: #FFFFFF;\n",
              "      --disabled-bg-color: #3B4455;\n",
              "      --disabled-fill-color: #666;\n",
              "  }\n",
              "\n",
              "  .colab-df-quickchart {\n",
              "    background-color: var(--bg-color);\n",
              "    border: none;\n",
              "    border-radius: 50%;\n",
              "    cursor: pointer;\n",
              "    display: none;\n",
              "    fill: var(--fill-color);\n",
              "    height: 32px;\n",
              "    padding: 0;\n",
              "    width: 32px;\n",
              "  }\n",
              "\n",
              "  .colab-df-quickchart:hover {\n",
              "    background-color: var(--hover-bg-color);\n",
              "    box-shadow: 0 1px 2px rgba(60, 64, 67, 0.3), 0 1px 3px 1px rgba(60, 64, 67, 0.15);\n",
              "    fill: var(--button-hover-fill-color);\n",
              "  }\n",
              "\n",
              "  .colab-df-quickchart-complete:disabled,\n",
              "  .colab-df-quickchart-complete:disabled:hover {\n",
              "    background-color: var(--disabled-bg-color);\n",
              "    fill: var(--disabled-fill-color);\n",
              "    box-shadow: none;\n",
              "  }\n",
              "\n",
              "  .colab-df-spinner {\n",
              "    border: 2px solid var(--fill-color);\n",
              "    border-color: transparent;\n",
              "    border-bottom-color: var(--fill-color);\n",
              "    animation:\n",
              "      spin 1s steps(1) infinite;\n",
              "  }\n",
              "\n",
              "  @keyframes spin {\n",
              "    0% {\n",
              "      border-color: transparent;\n",
              "      border-bottom-color: var(--fill-color);\n",
              "      border-left-color: var(--fill-color);\n",
              "    }\n",
              "    20% {\n",
              "      border-color: transparent;\n",
              "      border-left-color: var(--fill-color);\n",
              "      border-top-color: var(--fill-color);\n",
              "    }\n",
              "    30% {\n",
              "      border-color: transparent;\n",
              "      border-left-color: var(--fill-color);\n",
              "      border-top-color: var(--fill-color);\n",
              "      border-right-color: var(--fill-color);\n",
              "    }\n",
              "    40% {\n",
              "      border-color: transparent;\n",
              "      border-right-color: var(--fill-color);\n",
              "      border-top-color: var(--fill-color);\n",
              "    }\n",
              "    60% {\n",
              "      border-color: transparent;\n",
              "      border-right-color: var(--fill-color);\n",
              "    }\n",
              "    80% {\n",
              "      border-color: transparent;\n",
              "      border-right-color: var(--fill-color);\n",
              "      border-bottom-color: var(--fill-color);\n",
              "    }\n",
              "    90% {\n",
              "      border-color: transparent;\n",
              "      border-bottom-color: var(--fill-color);\n",
              "    }\n",
              "  }\n",
              "</style>\n",
              "\n",
              "  <script>\n",
              "    async function quickchart(key) {\n",
              "      const quickchartButtonEl =\n",
              "        document.querySelector('#' + key + ' button');\n",
              "      quickchartButtonEl.disabled = true;  // To prevent multiple clicks.\n",
              "      quickchartButtonEl.classList.add('colab-df-spinner');\n",
              "      try {\n",
              "        const charts = await google.colab.kernel.invokeFunction(\n",
              "            'suggestCharts', [key], {});\n",
              "      } catch (error) {\n",
              "        console.error('Error during call to suggestCharts:', error);\n",
              "      }\n",
              "      quickchartButtonEl.classList.remove('colab-df-spinner');\n",
              "      quickchartButtonEl.classList.add('colab-df-quickchart-complete');\n",
              "    }\n",
              "    (() => {\n",
              "      let quickchartButtonEl =\n",
              "        document.querySelector('#df-25552fcd-eb72-4534-9dbc-2b4a3e4e0776 button');\n",
              "      quickchartButtonEl.style.display =\n",
              "        google.colab.kernel.accessAllowed ? 'block' : 'none';\n",
              "    })();\n",
              "  </script>\n",
              "</div>\n",
              "\n",
              "    </div>\n",
              "  </div>\n"
            ],
            "application/vnd.google.colaboratory.intrinsic+json": {
              "type": "dataframe",
              "variable_name": "bwDF",
              "summary": "{\n  \"name\": \"bwDF\",\n  \"rows\": 189,\n  \"fields\": [\n    {\n      \"column\": \"low\",\n      \"properties\": {\n        \"dtype\": \"number\",\n        \"std\": 0,\n        \"min\": 0,\n        \"max\": 1,\n        \"num_unique_values\": 2,\n        \"samples\": [\n          1,\n          0\n        ],\n        \"semantic_type\": \"\",\n        \"description\": \"\"\n      }\n    },\n    {\n      \"column\": \"age\",\n      \"properties\": {\n        \"dtype\": \"number\",\n        \"std\": 5,\n        \"min\": 14,\n        \"max\": 45,\n        \"num_unique_values\": 24,\n        \"samples\": [\n          26,\n          24\n        ],\n        \"semantic_type\": \"\",\n        \"description\": \"\"\n      }\n    },\n    {\n      \"column\": \"lwt\",\n      \"properties\": {\n        \"dtype\": \"number\",\n        \"std\": 30,\n        \"min\": 80,\n        \"max\": 250,\n        \"num_unique_values\": 75,\n        \"samples\": [\n          107,\n          165\n        ],\n        \"semantic_type\": \"\",\n        \"description\": \"\"\n      }\n    },\n    {\n      \"column\": \"race\",\n      \"properties\": {\n        \"dtype\": \"number\",\n        \"std\": 0,\n        \"min\": 1,\n        \"max\": 3,\n        \"num_unique_values\": 3,\n        \"samples\": [\n          2,\n          3\n        ],\n        \"semantic_type\": \"\",\n        \"description\": \"\"\n      }\n    },\n    {\n      \"column\": \"smoke\",\n      \"properties\": {\n        \"dtype\": \"number\",\n        \"std\": 0,\n        \"min\": 0,\n        \"max\": 1,\n        \"num_unique_values\": 2,\n        \"samples\": [\n          1,\n          0\n        ],\n        \"semantic_type\": \"\",\n        \"description\": \"\"\n      }\n    },\n    {\n      \"column\": \"ptl\",\n      \"properties\": {\n        \"dtype\": \"number\",\n        \"std\": 0,\n        \"min\": 0,\n        \"max\": 3,\n        \"num_unique_values\": 4,\n        \"samples\": [\n          1,\n          3\n        ],\n        \"semantic_type\": \"\",\n        \"description\": \"\"\n      }\n    },\n    {\n      \"column\": \"ht\",\n      \"properties\": {\n        \"dtype\": \"number\",\n        \"std\": 0,\n        \"min\": 0,\n        \"max\": 1,\n        \"num_unique_values\": 2,\n        \"samples\": [\n          1,\n          0\n        ],\n        \"semantic_type\": \"\",\n        \"description\": \"\"\n      }\n    },\n    {\n      \"column\": \"ui\",\n      \"properties\": {\n        \"dtype\": \"number\",\n        \"std\": 0,\n        \"min\": 0,\n        \"max\": 1,\n        \"num_unique_values\": 2,\n        \"samples\": [\n          0,\n          1\n        ],\n        \"semantic_type\": \"\",\n        \"description\": \"\"\n      }\n    },\n    {\n      \"column\": \"ftv\",\n      \"properties\": {\n        \"dtype\": \"number\",\n        \"std\": 1,\n        \"min\": 0,\n        \"max\": 6,\n        \"num_unique_values\": 6,\n        \"samples\": [\n          0,\n          3\n        ],\n        \"semantic_type\": \"\",\n        \"description\": \"\"\n      }\n    },\n    {\n      \"column\": \"bwt\",\n      \"properties\": {\n        \"dtype\": \"number\",\n        \"std\": 729,\n        \"min\": 709,\n        \"max\": 4990,\n        \"num_unique_values\": 133,\n        \"samples\": [\n          3430,\n          3756\n        ],\n        \"semantic_type\": \"\",\n        \"description\": \"\"\n      }\n    }\n  ]\n}"
            }
          },
          "metadata": {},
          "execution_count": 2
        }
      ],
      "source": [
        "# Read in the data\n",
        "\n",
        "import pandas as pd\n",
        "\n",
        "# Read data file\n",
        "bwDF = pd.read_csv(\"https://biologicslab.co/STA1403/data/birthwt.txt\",\n",
        "                   sep=' ')  # define the separator as a space\n",
        "\n",
        "# Print out the first 6 values.\n",
        "bwDF.head()"
      ]
    },
    {
      "cell_type": "markdown",
      "metadata": {
        "tags": [],
        "id": "quXb59Z0_Ufl"
      },
      "source": [
        "If the code is correct, you should see the following image.\n",
        "\n",
        "![__](https://biologicslab.co/STA1403/images/A08/A08_Image03.png)"
      ]
    },
    {
      "cell_type": "markdown",
      "metadata": {
        "id": "aeAZi1FT_Ufl"
      },
      "source": [
        "You can see the first 6 rows of data in the `birthWt_df` dataframe contain both categorical data and numerical data. The three numerical categories (columns) are `age`, `lwt` and `bwt`. The remaining columns are all categorical."
      ]
    },
    {
      "cell_type": "markdown",
      "metadata": {
        "id": "XwvwdAgg_Ufl"
      },
      "source": [
        "### Example 1: Simple Linear Regression\n",
        "\n",
        "The code in the cell below uses the Statsmodel `OLS()` function to perform a simple linear regression. The function `OLS()` stands for **_Ordinary Linear Squares_**.\n",
        "\n",
        "The Ordinary Least Squares (OLS) method is a fundamental technique in linear regression analysis used to estimate the parameters of a linear model. OLS aims to find the best-fitting line (or hyperplane in higher dimensions) through a set of data points by minimizing the sum of the squared differences (residuals) between the observed values and the values predicted by the linear model.\n",
        "\n",
        "**Key Concepts**\n",
        "1. _Linear Regression Model:_ The model assumes a linear relationship between the dependent variable ( y ) and one or more independent variables ( X ). The general form is:\n",
        "\n",
        "> $     y = \\beta_0 + \\beta_1 X_1 + \\beta_2 X_2 + \\ldots + \\beta_n X_n + \\epsilon $\n",
        "\n",
        "\n",
        "where ($ \\beta_0$ ) is the intercept, ( $\\beta_1, \\beta_2, \\ldots, \\beta_n$ ) are the coefficients, and ( $ \\epsilon $ ) is the error term.\n",
        "\n",
        "\n",
        "2. _Residuals:_ The differences between the observed values ($ y_i $ ) and the predicted values ( $\\hat{y}_i $). Residuals are given by:\n",
        "\n",
        "> $ \\epsilon_i = y_i - \\hat{y}_i  $\n",
        "\n",
        "\n",
        "3. _Objective:_ Minimize the sum of the squared residuals:\n",
        "\n",
        "> $ \\text{Minimize} \\sum_{i=1}^{n} e_i^2 = \\sum_{i=1}^{n} (y_i - \\hat{y}_i)^2 $\n",
        "\n",
        "\n",
        "Why Minimize Squared Residuals?\n",
        "Minimizing the squared residuals ensures that the model is as close as possible to the actual data points, reducing the overall error. Squaring the residuals also penalizes larger errors more heavily, leading to a more accurate model.\n",
        "\n",
        "**Properties of OLS**\n",
        "\n",
        "* _Unbiased Estimates:_ Under certain conditions (e.g., linearity, independence, homoscedasticity), OLS provides unbiased estimates of the coefficients.\n",
        "* _Efficiency:_ OLS estimates have the smallest variance among all unbiased linear estimators (Gauss-Markov theorem).\n",
        "* _Simplicity:_ The method is computationally straightforward and widely used in practice.\n",
        "\n",
        "In Example 1, we are asking whether differences in maternal age are associated with differences in birthweight. In other words, do the babies of older mothers weight more, or less, than the babies of younger mothers? In this situation, the mother's age is the **independent variable** and by convention, we assign it to the letter `X`. The baby's weight is the **dependent variable**, and we assign it to the letter `y`.\n",
        "\n",
        "We generate what is known as a **linear model** called `model_Eg1` using this line of code:\n",
        "\n",
        "> `model_Eg1 = sm.OLS(y, X).fit()`\n",
        "\n",
        "and then print out a summary of the results."
      ]
    },
    {
      "cell_type": "code",
      "execution_count": 3,
      "metadata": {
        "id": "HQGOPYpq_Ufl",
        "outputId": "35fed5d4-c4ba-431e-d2d6-3b89f9e5ef03",
        "colab": {
          "base_uri": "https://localhost:8080/"
        }
      },
      "outputs": [
        {
          "output_type": "stream",
          "name": "stdout",
          "text": [
            "                            OLS Regression Results                            \n",
            "==============================================================================\n",
            "Dep. Variable:                    bwt   R-squared:                       0.008\n",
            "Model:                            OLS   Adj. R-squared:                  0.003\n",
            "Method:                 Least Squares   F-statistic:                     1.523\n",
            "Date:                Wed, 23 Oct 2024   Prob (F-statistic):              0.219\n",
            "Time:                        15:29:09   Log-Likelihood:                -1512.7\n",
            "No. Observations:                 189   AIC:                             3029.\n",
            "Df Residuals:                     187   BIC:                             3036.\n",
            "Df Model:                           1                                         \n",
            "Covariance Type:            nonrobust                                         \n",
            "==============================================================================\n",
            "                 coef    std err          t      P>|t|      [0.025      0.975]\n",
            "------------------------------------------------------------------------------\n",
            "const       2657.3326    238.804     11.128      0.000    2186.236    3128.429\n",
            "age           12.3643     10.021      1.234      0.219      -7.404      32.132\n",
            "==============================================================================\n",
            "Omnibus:                        2.797   Durbin-Watson:                   0.186\n",
            "Prob(Omnibus):                  0.247   Jarque-Bera (JB):                2.707\n",
            "Skew:                          -0.292   Prob(JB):                        0.258\n",
            "Kurtosis:                       2.953   Cond. No.                         108.\n",
            "==============================================================================\n",
            "\n",
            "Notes:\n",
            "[1] Standard Errors assume that the covariance matrix of the errors is correctly specified.\n"
          ]
        }
      ],
      "source": [
        "# Example 1: Simple Linear Regression\n",
        "\n",
        "import statsmodels.api as sm\n",
        "import pandas as pd\n",
        "\n",
        "# Add a constant to the model (intercept)\n",
        "bwDF['const'] = 1\n",
        "\n",
        "# Define X and y\n",
        "X = bwDF[['const', 'age']]\n",
        "y = bwDF['bwt']\n",
        "\n",
        "# Generate the model\n",
        "model_Eg1 = sm.OLS(y, X).fit()\n",
        "\n",
        "# Print the summary\n",
        "print(model_Eg1.summary())"
      ]
    },
    {
      "cell_type": "markdown",
      "metadata": {
        "id": "8plYncEz_Ufl"
      },
      "source": [
        "If the code is correct, you should see the following output:\n",
        "\n",
        "~~~text\n",
        "                            OLS Regression Results                            \n",
        "==============================================================================\n",
        "Dep. Variable:                    bwt   R-squared:                       0.008\n",
        "Model:                            OLS   Adj. R-squared:                  0.003\n",
        "Method:                 Least Squares   F-statistic:                     1.523\n",
        "Date:                Fri, 19 Jul 2024   Prob (F-statistic):              0.219\n",
        "Time:                        14:15:27   Log-Likelihood:                -1512.7\n",
        "No. Observations:                 189   AIC:                             3029.\n",
        "Df Residuals:                     187   BIC:                             3036.\n",
        "Df Model:                           1                                         \n",
        "Covariance Type:            nonrobust                                         \n",
        "==============================================================================\n",
        "                 coef    std err          t      P>|t|      [0.025      0.975]\n",
        "------------------------------------------------------------------------------\n",
        "const       2657.3326    238.804     11.128      0.000    2186.236    3128.429\n",
        "age           12.3643     10.021      1.234      0.219      -7.404      32.132\n",
        "==============================================================================\n",
        "Omnibus:                        2.797   Durbin-Watson:                   0.186\n",
        "Prob(Omnibus):                  0.247   Jarque-Bera (JB):                2.707\n",
        "Skew:                          -0.292   Prob(JB):                        0.258\n",
        "Kurtosis:                       2.953   Cond. No.                         108.\n",
        "==============================================================================\n",
        "\n",
        "Notes:\n",
        "[1] Standard Errors assume that the covariance matrix of the errors is correctly specified.\n",
        "~~~\n"
      ]
    },
    {
      "cell_type": "markdown",
      "metadata": {
        "id": "3jq2RYqO_Ufl"
      },
      "source": [
        "### Interpretation of the Results\n",
        "\n",
        "As you can see, the function `sm.OLS()` generates a number of different results. For now we will focus on the statistical significance of the two _p_ -values.\n",
        "\n",
        "These _p_ -values are shown under the column titled `Pr(>|t|)`. The first _p_ -value, `0.000`. This means that the p-value is some value _smaller_ that `0.000` and is therefore, highly significant. This first p-value simply inicates that the value of the **_intercept_** for the linear model is very unlikely to be zero. Since we set the intercept to be `1`, we can ignore this result.\n",
        "\n",
        "Of much more interest is the second _p_ -value, `0.219`. This is the p-value that a mother's age (`age`) is related to her baby's birth weight (`bwt`). Since p-value is much greater that `0.05`, we have no reason to think that the mother's age is somehow related to the birth weight of her baby.\n",
        "\n",
        "More formally, given the _p_ -value of 0.219, there is no reason to reject the null hypothesis, _H_<sub>0</sub>: , that maternal age and the baby's birth weight are independent of each other.  "
      ]
    },
    {
      "cell_type": "markdown",
      "metadata": {
        "id": "efkGEs0K_Ufl"
      },
      "source": [
        "### **Exercise 1: Perform a Simple Linear Regression**\n",
        "\n",
        "In the code cell below, write the Python code to perform a simple linear regression of the baby's birth weight (`bwt`) as a function of the mother's smoking behavior (`smoke`). Call the output of your model `model_Ex1` and print out a summary of the results."
      ]
    },
    {
      "cell_type": "code",
      "execution_count": null,
      "metadata": {
        "id": "zR_-YpCf_Ufl"
      },
      "outputs": [],
      "source": [
        "# Insert your code for Exercise 1 here\n",
        "\n"
      ]
    },
    {
      "cell_type": "markdown",
      "metadata": {
        "id": "XqbcklRC_Ufm"
      },
      "source": [
        "If the code is correct, you should see the following output:\n",
        "\n",
        "~~~text\n",
        "                            OLS Regression Results                            \n",
        "==============================================================================\n",
        "Dep. Variable:                    bwt   R-squared:                       0.036\n",
        "Model:                            OLS   Adj. R-squared:                  0.031\n",
        "Method:                 Least Squares   F-statistic:                     6.936\n",
        "Date:                Fri, 19 Jul 2024   Prob (F-statistic):            0.00916\n",
        "Time:                        14:22:31   Log-Likelihood:                -1510.1\n",
        "No. Observations:                 189   AIC:                             3024.\n",
        "Df Residuals:                     187   BIC:                             3031.\n",
        "Df Model:                           1                                         \n",
        "Covariance Type:            nonrobust                                         \n",
        "==============================================================================\n",
        "                 coef    std err          t      P>|t|      [0.025      0.975]\n",
        "------------------------------------------------------------------------------\n",
        "const       3054.9565     66.933     45.642      0.000    2922.915    3186.998\n",
        "smoke       -281.7133    106.969     -2.634      0.009    -492.734     -70.693\n",
        "==============================================================================\n",
        "Omnibus:                        2.742   Durbin-Watson:                   0.234\n",
        "Prob(Omnibus):                  0.254   Jarque-Bera (JB):                2.676\n",
        "Skew:                          -0.290   Prob(JB):                        0.262\n",
        "Kurtosis:                       2.936   Cond. No.                         2.44\n",
        "==============================================================================\n",
        "\n",
        "Notes:\n",
        "[1] Standard Errors assume that the covariance matrix of the errors is correctly specified.\n",
        "~~~\n"
      ]
    },
    {
      "cell_type": "markdown",
      "metadata": {
        "id": "t8GocFOj_Ufm"
      },
      "source": [
        "### Interpretation of the Results\n",
        "\n",
        "You should be able to look at the result summary above and decide if maternal smoking behavior was significantly related to the birth weight of the mother's baby."
      ]
    },
    {
      "cell_type": "markdown",
      "metadata": {
        "tags": [],
        "id": "OTdH31YA_Ufm"
      },
      "source": [
        "### Example 2: Generate a Dot Plot with a Regression Line\n",
        "\n",
        "When performing a simple linear regression -- with one numerical response variable and one categorical or numerical predictor, it is all advisable to produce a **_dot plot_** of the data.\n",
        "\n",
        "In this example, we use Matplotlib pyplot function to generate the dot plot with this line of code:\n",
        "\n",
        "> `plt.scatter(bwDF['age'], bwDF['bwt'], alpha=0.5)`\n",
        "\n",
        "In order to add a regression line (line-of-best-fit), we generate the OLS model, `model_Eg1` and use the `fittedvalues()` method to provide the x, y co:ordinates for plotting the line.\n",
        "\n",
        "> `plt.plot(bwDF['age'], model_Eg1.fittedvalues, color='red')`\n",
        "\n",
        ""
      ]
    },
    {
      "cell_type": "code",
      "execution_count": 4,
      "metadata": {
        "scrolled": true,
        "id": "dwupt-JU_Ufm",
        "outputId": "b3eed5f0-07a7-49cf-81de-b2032f5366ad",
        "colab": {
          "base_uri": "https://localhost:8080/",
          "height": 449
        }
      },
      "outputs": [
        {
          "output_type": "display_data",
          "data": {
            "text/plain": [
              "<Figure size 640x480 with 1 Axes>"
            ],
            "image/png": "[encoded data removed]"
          },
          "metadata": {}
        }
      ],
      "source": [
        "# Example 2: Dot Plot with Regrssion Line\n",
        "\n",
        "import pandas as pd\n",
        "import matplotlib.pyplot as plt\n",
        "import statsmodels.api as sm\n",
        "import statsmodels.formula.api as smf\n",
        "\n",
        "# Generate dot plot\n",
        "plt.scatter(bwDF['age'], bwDF['bwt'], alpha=0.5)\n",
        "plt.xlabel('Maternal Age')\n",
        "plt.ylabel('Birth Weight')\n",
        "plt.xlim(0, 50)\n",
        "\n",
        "# Generate the model\n",
        "model_Eg1 = smf.ols('bwt ~ age', data=bwDF).fit()\n",
        "\n",
        "# Add line of best fit\n",
        "plt.plot(bwDF['age'], model_Eg1.fittedvalues, color='red')\n",
        "\n",
        "# Show plot\n",
        "plt.show()"
      ]
    },
    {
      "cell_type": "markdown",
      "metadata": {
        "tags": [],
        "id": "2Hxj26H4_Ufm"
      },
      "source": [
        "If the code is correct, you should see the following image.\n",
        "\n",
        "![__](https://biologicslab.co/STA1403/images/A08/A08_Image04.png)"
      ]
    },
    {
      "cell_type": "markdown",
      "metadata": {
        "id": "irzbe_P4_Ufm"
      },
      "source": [
        "### Interpretation of the Dot Plot\n",
        "\n",
        "By visual inspection of the dot plot, you can see that there isn't any clear relationship between the birth weight of the baby and the mother's age. The dots are basically in the shape of a circular cloud. This makes sense, since the linear regression of these data in Example 1 did _not_ find a statistically significant relationship between maternal age and birth weight."
      ]
    },
    {
      "cell_type": "markdown",
      "metadata": {
        "id": "Gz09APGH_Ufm"
      },
      "source": [
        "### **Exercise 2: Generate a Dot Plot with a Regression Line**\n",
        "\n",
        "In the cell below, write the Python code to generate a dot plot showing the relationship between birth weight as a function of the maternal smoking behavior. Your graph should include a line of best fit and be appropiately labelled. You will also need to change the argument `xlim()` to be between -0.1 and 1.1. This change is necessary since maternal smoking behavior is a **_categorical_** value that only takes on values of either 0 or 1."
      ]
    },
    {
      "cell_type": "code",
      "execution_count": null,
      "metadata": {
        "scrolled": true,
        "id": "MhKVOM-Y_Ufm"
      },
      "outputs": [],
      "source": [
        "# Insert your code for Exercise 2 here\n",
        "\n"
      ]
    },
    {
      "cell_type": "markdown",
      "metadata": {
        "tags": [],
        "id": "O1aao44-_Ufm"
      },
      "source": [
        "If the code is correct, you should see the following image.\n",
        "\n",
        "![__](https://biologicslab.co/STA1403/images/A08/A08_Image05.png)"
      ]
    },
    {
      "cell_type": "markdown",
      "metadata": {
        "id": "0VzTiycU_Ufm"
      },
      "source": [
        "### Interpretation of the Dot Plot\n",
        "\n",
        "In this instance the dot plot looks very different than the one generated above in Example 2. The reason is that the predictor, maternal smoking behavior `smoke` is a categorical variable, with only two possible values, `0` and `1`.\n",
        "\n",
        "In this instance, it's not clear from visual inspection, whether there is a significant relationship between birth weight and whether the baby's mother smoked. What we are really asking is whether the **_mean_** birth weight is different for non-smoking `0`, and smoking mothers `1`.\n",
        "\n",
        "Based on the results from the linear regression performed in Exercise 1, the data supports the notion that smoking behavior and birth weight are **not** independent. This graph shows that on average, the birth weight of babies from non-smoking mothers is **_higher_** compared to babies from mothers who did smoke."
      ]
    },
    {
      "cell_type": "markdown",
      "metadata": {
        "tags": [],
        "id": "5DwJH2n__Ufm"
      },
      "source": [
        "### Example 3: Perform a Multiple Linear Regression (with no interactions)\n",
        "\n",
        "In Example 1 and Exercise 1, we were asking the question whether our numerical reponse variable, birth weight, was dependent upon a single predictor variable, either maternal age (Example 1) or maternal smoking behavior (Exercise 1). In real experimental situations, linear regression is usually performed using several or even a large number of predictor variables at the same time.\n",
        "\n",
        "When the number of predictor variables is greater than 1, the procedure is called **_multiple_** linear regression. From a computation perspective, the coding is essentially the same as will be shown in this example.\n",
        "\n",
        "When more than one predictor variables are used, we can write our code to ask whether an **_interaction_** exists between the two (or more) of the predictor variables and the response variable. In Example 4, we will demonstrate how to code for such interactions. Here will limit ourselves to no interactions.\n",
        "\n",
        "In Example 4, we will be looking at the possible effects of maternal age (`age`), uterine irritability (`ui`) and a history of hypertension (`ht`) on birth weight."
      ]
    },
    {
      "cell_type": "code",
      "execution_count": 5,
      "metadata": {
        "id": "2ZvoJJec_Ufm",
        "outputId": "e06d2f7c-29e2-41b5-abd8-a32996140028",
        "colab": {
          "base_uri": "https://localhost:8080/"
        }
      },
      "outputs": [
        {
          "output_type": "stream",
          "name": "stdout",
          "text": [
            "                            OLS Regression Results                            \n",
            "==============================================================================\n",
            "Dep. Variable:                    bwt   R-squared:                       0.116\n",
            "Model:                            OLS   Adj. R-squared:                  0.102\n",
            "Method:                 Least Squares   F-statistic:                     8.105\n",
            "Date:                Wed, 23 Oct 2024   Prob (F-statistic):           4.23e-05\n",
            "Time:                        15:29:39   Log-Likelihood:                -1501.8\n",
            "No. Observations:                 189   AIC:                             3012.\n",
            "Df Residuals:                     185   BIC:                             3025.\n",
            "Df Model:                           3                                         \n",
            "Covariance Type:            nonrobust                                         \n",
            "==============================================================================\n",
            "                 coef    std err          t      P>|t|      [0.025      0.975]\n",
            "------------------------------------------------------------------------------\n",
            "const       2861.7937    230.689     12.405      0.000    2406.675    3316.912\n",
            "age            8.8977      9.540      0.933      0.352      -9.923      27.718\n",
            "ui          -609.6572    142.737     -4.271      0.000    -891.260    -328.055\n",
            "ht          -528.9498    207.385     -2.551      0.012    -938.093    -119.807\n",
            "==============================================================================\n",
            "Omnibus:                        2.680   Durbin-Watson:                   0.379\n",
            "Prob(Omnibus):                  0.262   Jarque-Bera (JB):                2.053\n",
            "Skew:                          -0.094   Prob(JB):                        0.358\n",
            "Kurtosis:                       2.526   Cond. No.                         112.\n",
            "==============================================================================\n",
            "\n",
            "Notes:\n",
            "[1] Standard Errors assume that the covariance matrix of the errors is correctly specified.\n"
          ]
        }
      ],
      "source": [
        "# Example 3: Multiple Regression, no interactions\n",
        "\n",
        "import statsmodels.api as sm\n",
        "import pandas as pd\n",
        "\n",
        "# Assign X and y\n",
        "X = bwDF[['age', 'ui', 'ht']]\n",
        "X = sm.add_constant(X)  # Add constant term to predictor\n",
        "y = bwDF['bwt']\n",
        "\n",
        "# Generate the model\n",
        "model_Eg3 = sm.OLS(y, X).fit()\n",
        "\n",
        "# Print out a summary of the results\n",
        "print(model_Eg3.summary())"
      ]
    },
    {
      "cell_type": "markdown",
      "metadata": {
        "id": "qqNSibGE_Ufm"
      },
      "source": [
        "If the code is correct, you should see the following summary table:\n",
        "\n",
        "~~~text\n",
        "                            OLS Regression Results                            \n",
        "==============================================================================\n",
        "Dep. Variable:                    bwt   R-squared:                       0.116\n",
        "Model:                            OLS   Adj. R-squared:                  0.102\n",
        "Method:                 Least Squares   F-statistic:                     8.105\n",
        "Date:                Fri, 19 Jul 2024   Prob (F-statistic):           4.23e-05\n",
        "Time:                        20:14:43   Log-Likelihood:                -1501.8\n",
        "No. Observations:                 189   AIC:                             3012.\n",
        "Df Residuals:                     185   BIC:                             3025.\n",
        "Df Model:                           3                                         \n",
        "Covariance Type:            nonrobust                                         \n",
        "==============================================================================\n",
        "                 coef    std err          t      P>|t|      [0.025      0.975]\n",
        "------------------------------------------------------------------------------\n",
        "const       2861.7937    230.689     12.405      0.000    2406.675    3316.912\n",
        "age            8.8977      9.540      0.933      0.352      -9.923      27.718\n",
        "ui          -609.6572    142.737     -4.271      0.000    -891.260    -328.055\n",
        "ht          -528.9498    207.385     -2.551      0.012    -938.093    -119.807\n",
        "==============================================================================\n",
        "Omnibus:                        2.680   Durbin-Watson:                   0.379\n",
        "Prob(Omnibus):                  0.262   Jarque-Bera (JB):                2.053\n",
        "Skew:                          -0.094   Prob(JB):                        0.358\n",
        "Kurtosis:                       2.526   Cond. No.                         112.\n",
        "==============================================================================\n",
        "\n",
        "Notes:\n",
        "[1] Standard Errors assume that the covariance matrix of the errors is correctly specified.\n",
        "~~~\n"
      ]
    },
    {
      "cell_type": "markdown",
      "metadata": {
        "id": "FElUO1s6_Ufm"
      },
      "source": [
        "### Interpretation of the Results\n",
        "\n",
        "As before, we are primarily interested in the _p_ -values associated with the different predictor variables. Again, the _p_ -value for maternal age, `0.3522` much larger than the 95% confidence interval (0.05), so there is no reason to suspect maternal age is important in determining a baby's birth weight.\n",
        "\n",
        "On the other hand, the predictor _uterine irritability_ `ui`, has a _p_ -value of `0.000`. This means the actual p-value is less than `0.00049999`. Whatever the p-value is, it is very much smaller than our cutoff of `0.05`.  Therefore, the data suggests that birth weight is somehow related the presence, or absence of uterine irritability.\n",
        "\n",
        "Finally, the third predictor, hypertension `ht` has a _p_ -value of `0.0116` which is also smaller than 0.05. This indicates that both hypertension _and_ uterine irritability are somehow related to birth weight.\n",
        "\n",
        "**IMPORTANT NOTE:** When interpreting regression data, it is natural, but **_wrong_** to assume to a significant _p_ -value automatically means there is a **_causal relationship_** between the response variable and the predictor. This temptation **_must be avoided!_**. Always repeat to yourself the mantra\n",
        "\n",
        "> _Correlation is NOT Causation_\n",
        "\n",
        "> _Correlation is NOT Causation_\n",
        "\n",
        "> _Correlation is NOT Causation_\n",
        "\n",
        "> _Correlation is NOT Causation_\n",
        "\n",
        "If you want to actually show **_causation_** you will need to perform additional experiments. Statistical procedures, like regression analysis, only tell you which predictors **_might_** be responsible. Controlled experiments are necessary to show causality.  "
      ]
    },
    {
      "cell_type": "markdown",
      "metadata": {
        "tags": [],
        "id": "ghTgUJRP_Ufm"
      },
      "source": [
        "### **Exercise 3: Perform a Multiple Linear Regression (with no interactions)**\n",
        "\n",
        "In the cell below, write the Python code to perform a multiple linear regression with birth weight `bwt` as the response variable, and the following predictors: maternal smoking behavior (`smoke`), mother's race (`race`) and the number of premature labors (`ptl`). Call the output of your model `model_Ex3` and print out a summary."
      ]
    },
    {
      "cell_type": "code",
      "execution_count": null,
      "metadata": {
        "id": "sC9S8eVh_Ufm"
      },
      "outputs": [],
      "source": [
        "# Insert your code for Exercise 3 here\n",
        "\n"
      ]
    },
    {
      "cell_type": "markdown",
      "metadata": {
        "id": "kVj35kx3_Ufm"
      },
      "source": [
        "In your code is correct, you should see the following summary table:\n",
        "\n",
        "~~~text\n",
        "                            OLS Regression Results                            \n",
        "==============================================================================\n",
        "Dep. Variable:                    bwt   R-squared:                       0.122\n",
        "Model:                            OLS   Adj. R-squared:                  0.108\n",
        "Method:                 Least Squares   F-statistic:                     8.600\n",
        "Date:                Fri, 19 Jul 2024   Prob (F-statistic):           2.25e-05\n",
        "Time:                        20:23:22   Log-Likelihood:                -1501.2\n",
        "No. Observations:                 189   AIC:                             3010.\n",
        "Df Residuals:                     185   BIC:                             3023.\n",
        "Df Model:                           3                                         \n",
        "Covariance Type:            nonrobust                                         \n",
        "==============================================================================\n",
        "                 coef    std err          t      P>|t|      [0.025      0.975]\n",
        "------------------------------------------------------------------------------\n",
        "const       3548.9231    137.718     25.769      0.000    3277.223    3820.623\n",
        "smoke       -397.4627    111.361     -3.569      0.000    -617.163    -177.762\n",
        "race        -226.9185     58.294     -3.893      0.000    -341.924    -111.913\n",
        "ptl         -151.3422    103.930     -1.456      0.147    -356.382      53.698\n",
        "==============================================================================\n",
        "Omnibus:                        2.477   Durbin-Watson:                   0.376\n",
        "Prob(Omnibus):                  0.290   Jarque-Bera (JB):                2.465\n",
        "Skew:                          -0.275   Prob(JB):                        0.292\n",
        "Kurtosis:                       2.893   Cond. No.                         7.50\n",
        "==============================================================================\n",
        "\n",
        "Notes:\n",
        "[1] Standard Errors assume that the covariance matrix of the errors is correctly specified.\n",
        "~~~\n"
      ]
    },
    {
      "cell_type": "markdown",
      "metadata": {
        "tags": [],
        "id": "yo6ihqqt_Ufm"
      },
      "source": [
        "### Interpretation of the Results\n",
        "\n",
        "You should be able to look at this table and determine which of the independent variables where significantly correlated with low birth weights and which ones were not."
      ]
    },
    {
      "cell_type": "markdown",
      "metadata": {
        "tags": [],
        "id": "KrzTr70T_Ufp"
      },
      "source": [
        "### Example 4: Perform a Multiple Linear Regression (with interactions)\n",
        "\n",
        "In Example 3 we performed a multiple linear regression between the response variable, birth weight `bwt` and three predictors, `age`, `ui` and `ht`. In this example, we extend our analysis to include **_interactions_** that might occur between predictors.\n",
        "\n",
        "An interaction occurs when an predictor variable has a different effect on the response variable depending on the values of another predictor variable. In this example we will look at the possibility of an interaction between the predictor variables, mother's age (`age`) and a history hypertension (`ht`).\n",
        "\n",
        "To do this we create a new independent variable by multiplying together the two independent variables that we want to test for an interaction. For example, here is the code to create the interaction between maternal age and a history of hypertension:\n",
        "\n",
        "> `bwDF['age_ht'] = bwDF['age'] * bwDF['ht']`\n",
        "\n",
        "To tell the function `sm.OLS()` that we want to look for a possible interaction, we simply add the interaction term along with the other independent variables."
      ]
    },
    {
      "cell_type": "code",
      "execution_count": 6,
      "metadata": {
        "id": "FS01ztgn_Ufp",
        "outputId": "21efc7e7-bd56-4bde-fb48-530107519ab6",
        "colab": {
          "base_uri": "https://localhost:8080/"
        }
      },
      "outputs": [
        {
          "output_type": "stream",
          "name": "stdout",
          "text": [
            "                            OLS Regression Results                            \n",
            "==============================================================================\n",
            "Dep. Variable:                    bwt   R-squared:                       0.065\n",
            "Model:                            OLS   Adj. R-squared:                  0.050\n",
            "Method:                 Least Squares   F-statistic:                     4.264\n",
            "Date:                Wed, 23 Oct 2024   Prob (F-statistic):            0.00612\n",
            "Time:                        15:29:57   Log-Likelihood:                -1507.2\n",
            "No. Observations:                 189   AIC:                             3022.\n",
            "Df Residuals:                     185   BIC:                             3035.\n",
            "Df Model:                           3                                         \n",
            "Covariance Type:            nonrobust                                         \n",
            "==============================================================================\n",
            "                 coef    std err          t      P>|t|      [0.025      0.975]\n",
            "------------------------------------------------------------------------------\n",
            "const       2566.8950    238.466     10.764      0.000    2096.432    3037.358\n",
            "age           17.4298      9.992      1.744      0.083      -2.282      37.142\n",
            "ht          2570.1792   1149.784      2.235      0.027     301.805    4838.553\n",
            "age_ht      -130.8985     49.281     -2.656      0.009    -228.124     -33.673\n",
            "==============================================================================\n",
            "Omnibus:                        1.579   Durbin-Watson:                   0.287\n",
            "Prob(Omnibus):                  0.454   Jarque-Bera (JB):                1.507\n",
            "Skew:                          -0.218   Prob(JB):                        0.471\n",
            "Kurtosis:                       2.953   Cond. No.                         532.\n",
            "==============================================================================\n",
            "\n",
            "Notes:\n",
            "[1] Standard Errors assume that the covariance matrix of the errors is correctly specified.\n"
          ]
        }
      ],
      "source": [
        "# Example 4: Multiple Linear Regression with interactions\n",
        "\n",
        "import statsmodels.api as sm\n",
        "import pandas as pd\n",
        "\n",
        "# Create interaction term\n",
        "bwDF['age_ht'] = bwDF['age'] * bwDF['ht']\n",
        "\n",
        "# Define the predictors and response variable\n",
        "X = bwDF[['age', 'ht', 'age_ht']]\n",
        "X = sm.add_constant(X)  # Adds a constant term to the predictor\n",
        "y = bwDF['bwt']\n",
        "\n",
        "# Generate the model\n",
        "model_Eg4 = sm.OLS(y, X).fit()\n",
        "\n",
        "# Print out a summary of the results\n",
        "print(model_Eg4.summary())"
      ]
    },
    {
      "cell_type": "markdown",
      "metadata": {
        "id": "1_ztyqLu_Ufp"
      },
      "source": [
        "If the code is correct, you should see the following summary table:\n",
        "\n",
        "~~~text\n",
        "                            OLS Regression Results                            \n",
        "==============================================================================\n",
        "Dep. Variable:                    bwt   R-squared:                       0.065\n",
        "Model:                            OLS   Adj. R-squared:                  0.050\n",
        "Method:                 Least Squares   F-statistic:                     4.264\n",
        "Date:                Fri, 19 Jul 2024   Prob (F-statistic):            0.00612\n",
        "Time:                        20:42:35   Log-Likelihood:                -1507.2\n",
        "No. Observations:                 189   AIC:                             3022.\n",
        "Df Residuals:                     185   BIC:                             3035.\n",
        "Df Model:                           3                                         \n",
        "Covariance Type:            nonrobust                                         \n",
        "==============================================================================\n",
        "                 coef    std err          t      P>|t|      [0.025      0.975]\n",
        "------------------------------------------------------------------------------\n",
        "const       2566.8950    238.466     10.764      0.000    2096.432    3037.358\n",
        "age           17.4298      9.992      1.744      0.083      -2.282      37.142\n",
        "ht          2570.1792   1149.784      2.235      0.027     301.805    4838.553\n",
        "age_ht      -130.8985     49.281     -2.656      0.009    -228.124     -33.673\n",
        "==============================================================================\n",
        "Omnibus:                        1.579   Durbin-Watson:                   0.287\n",
        "Prob(Omnibus):                  0.454   Jarque-Bera (JB):                1.507\n",
        "Skew:                          -0.218   Prob(JB):                        0.471\n",
        "Kurtosis:                       2.953   Cond. No.                         532.\n",
        "==============================================================================\n",
        "\n",
        "Notes:\n",
        "[1] Standard Errors assume that the covariance matrix of the errors is correctly specified.\n",
        "~~~"
      ]
    },
    {
      "cell_type": "markdown",
      "metadata": {
        "jp-MarkdownHeadingCollapsed": true,
        "tags": [],
        "id": "N_YToObM_Ufp"
      },
      "source": [
        "### Interpretation of the Results\n",
        "\n",
        "It is interesting to note that while maternal age alone is not significantly related to birth weight (p=0.08), the interaction between maternal age and hypertension (`age_ht`) has a very significant p-value = 0.009. It should also be noted the p-value for `age_ht` is much less than the p-value for hypertension (`ht`) alone (p=0.027). Therefore, the data indicates that there is a very strong **_interaction_** between a mother's age and a history of hypertension."
      ]
    },
    {
      "cell_type": "markdown",
      "metadata": {
        "tags": [],
        "id": "Mynwe2eq_Ufp"
      },
      "source": [
        "### **Exercise 4: Perform a Multiple Linear Regression (with interactions)**\n",
        "\n",
        "In the cell below, write the R code to perform a multiple regression analysis between the response variable, birth weight `bwt` and three predictors, `smoke`, `ui` and `ptl`. Include in your analysis the possible interactions between `smoke` and `ui` and `ui` and `ptl`. Call the output of your model `model_Ex4`."
      ]
    },
    {
      "cell_type": "code",
      "execution_count": null,
      "metadata": {
        "id": "VZB8fsbq_Ufp"
      },
      "outputs": [],
      "source": [
        "# Insert your code for Exercise 4 here\n",
        "\n"
      ]
    },
    {
      "cell_type": "markdown",
      "metadata": {
        "id": "sFYQINuG_Ufp"
      },
      "source": [
        "If your code for Exercise 4 is correct, you should see the following output:\n",
        "~~~text\n",
        "\n",
        "                            OLS Regression Results                            \n",
        "==============================================================================\n",
        "Dep. Variable:                    bwt   R-squared:                       0.141\n",
        "Model:                            OLS   Adj. R-squared:                  0.118\n",
        "Method:                 Least Squares   F-statistic:                     6.008\n",
        "Date:                Fri, 19 Jul 2024   Prob (F-statistic):           3.57e-05\n",
        "Time:                        16:47:48   Log-Likelihood:                -1499.1\n",
        "No. Observations:                 189   AIC:                             3010.\n",
        "Df Residuals:                     183   BIC:                             3030.\n",
        "Df Model:                           5                                         \n",
        "Covariance Type:            nonrobust                                         \n",
        "==============================================================================\n",
        "                 coef    std err          t      P>|t|      [0.025      0.975]\n",
        "------------------------------------------------------------------------------\n",
        "const       3172.7358     69.799     45.455      0.000    3035.022    3310.450\n",
        "smoke       -261.7094    112.621     -2.324      0.021    -483.913     -39.506\n",
        "ui          -759.6077    195.608     -3.883      0.000   -1145.545    -373.671\n",
        "ptl         -288.2575    134.861     -2.137      0.034    -554.341     -22.175\n",
        "smoke_ui     159.0292    292.299      0.544      0.587    -417.680     735.738\n",
        "ui_ptl       471.2775    219.215      2.150      0.033      38.763     903.792\n",
        "==============================================================================\n",
        "Omnibus:                        1.463   Durbin-Watson:                   0.429\n",
        "Prob(Omnibus):                  0.481   Jarque-Bera (JB):                1.549\n",
        "Skew:                          -0.198   Prob(JB):                        0.461\n",
        "Kurtosis:                       2.802   Cond. No.                         7.44\n",
        "==============================================================================\n",
        "\n",
        "Notes:\n",
        "[1] Standard Errors assume that the covariance matrix of the errors is correctly specified.\n",
        "\n",
        "~~~"
      ]
    },
    {
      "cell_type": "markdown",
      "metadata": {
        "id": "21uJTE0Z_Ufp"
      },
      "source": [
        "### Interpretation of the results\n",
        "\n",
        "You should be able to figure out which of the two interactions were significant and which were not."
      ]
    },
    {
      "cell_type": "markdown",
      "metadata": {
        "id": "QkgH25Zg_Ufp"
      },
      "source": [
        "### **Lesson Turn-In**\n",
        "\n",
        "When you have completed all of the exercises and run **every** cell in this Lesson, print out a PDF copy and upload it to Canvas. Your PDF should be called `Assignment_09_lastname.pdf` where _Lastname_ is your last name."
      ]
    }
  ],
  "metadata": {
    "kernelspec": {
      "display_name": "Python 3 (ipykernel)",
      "language": "python",
      "name": "python3"
    },
    "language_info": {
      "codemirror_mode": {
        "name": "ipython",
        "version": 3
      },
      "file_extension": ".py",
      "mimetype": "text/x-python",
      "name": "python",
      "nbconvert_exporter": "python",
      "pygments_lexer": "ipython3",
      "version": "3.11.5"
    },
    "colab": {
      "provenance": []
    }
  },
  "nbformat": 4,
  "nbformat_minor": 0
}